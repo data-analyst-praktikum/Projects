{
 "cells": [
  {
   "cell_type": "markdown",
   "metadata": {},
   "source": [
    "<div class=\"alert alert-success\">\n",
    "<h2> Комментарий ревьюера </h2>\n",
    "    \n",
    "Привет :) Меня зовут Макеева Таня, и я буду делать ревью для твоей работы. Давай общаться на \"ты\". Если тебе некомфортно, дай знать.\n",
    "    \n",
    "Предлагаю общаться в диалоге. Пиши о изменениях, вопросах, в ответ на мои комментарии. Пожалуйста, отмечай свои комментарии отличным цветом от моих.\n",
    "Мои комментарии по ходу работы ты сможешь найти по заголовку \"Комментарий ревьюера\", а еще они различаются по цветам:\n",
    "* Красным цветом выделены более критические моменты\n",
    "* Жёлтым цветом прокомментированы некоторые недочёты\n",
    "* И зелёным цветом выделены те места, которые получились у тебя лучше всего, а также некоторые советы на будущее.\n",
    "    \n",
    "Чтобы наш диалог всегда был под рукой, пожалуйста, не удаляй мои комментарии.\n",
    "\n",
    "У тебя получилась достойная работа, есть несколько моментов, которые нужно подправить. Смотри ниже :)\n",
    "\n",
    "</div>"
   ]
  },
  {
   "cell_type": "markdown",
   "metadata": {},
   "source": [
    "<div class=\"alert alert-success\">\n",
    "<h2> Комментарий ревьюера v2 </h2>\n",
    "    \n",
    "Мои комментарии по второй итерации ты можешь найти с пометкой v2 :)\n",
    "\n",
    "</div>"
   ]
  },
  {
   "cell_type": "markdown",
   "metadata": {},
   "source": [
    "## Исследование надёжности заёмщиков\n",
    "\n",
    "Заказчик — кредитный отдел банка. Нужно разобраться, влияет ли семейное положение и количество детей клиента на факт погашения кредита в срок. Входные данные от банка — статистика о платёжеспособности клиентов.\n",
    "\n",
    "Результаты исследования будут учтены при построении модели **кредитного скоринга** — специальной системы, которая оценивает способность потенциального заёмщика вернуть кредит банку."
   ]
  },
  {
   "cell_type": "markdown",
   "metadata": {},
   "source": [
    "### Шаг 1. Откройте файл с данными и изучите общую информацию. "
   ]
  },
  {
   "cell_type": "code",
   "execution_count": 1,
   "metadata": {
    "scrolled": true
   },
   "outputs": [
    {
     "name": "stdout",
     "output_type": "stream",
     "text": [
      "<class 'pandas.core.frame.DataFrame'>\n",
      "RangeIndex: 21525 entries, 0 to 21524\n",
      "Data columns (total 12 columns):\n",
      "children            21525 non-null int64\n",
      "days_employed       19351 non-null float64\n",
      "dob_years           21525 non-null int64\n",
      "education           21525 non-null object\n",
      "education_id        21525 non-null int64\n",
      "family_status       21525 non-null object\n",
      "family_status_id    21525 non-null int64\n",
      "gender              21525 non-null object\n",
      "income_type         21525 non-null object\n",
      "debt                21525 non-null int64\n",
      "total_income        19351 non-null float64\n",
      "purpose             21525 non-null object\n",
      "dtypes: float64(2), int64(5), object(5)\n",
      "memory usage: 2.0+ MB\n"
     ]
    }
   ],
   "source": [
    "import pandas as pd\n",
    "import math\n",
    "from IPython.display import display\n",
    "\n",
    "data = pd.read_csv('/datasets/data.csv')\n",
    "data.info()"
   ]
  },
  {
   "cell_type": "markdown",
   "metadata": {},
   "source": [
    "### Вывод"
   ]
  },
  {
   "cell_type": "markdown",
   "metadata": {},
   "source": [
    "Дататасет состоит из 12 столбцов и 21525 строк.\n",
    "Названия столбцов не требуют изменений.\n",
    "Столбцы `days_employed` и `total_income` содержат 2174 нулевых элемента, что составляет 10% всех данных."
   ]
  },
  {
   "cell_type": "markdown",
   "metadata": {},
   "source": [
    "### Шаг 2. Предобработка данных"
   ]
  },
  {
   "cell_type": "markdown",
   "metadata": {},
   "source": [
    "### Обработка пропусков"
   ]
  },
  {
   "cell_type": "markdown",
   "metadata": {},
   "source": [
    "Найдём уникальные значения столбцов, заданных списком `data_headlines`, для выявления артефактов.\n",
    "\n",
    "Создадим список `data_headlines` с интересующими столбцами и затем в цикле найдём уникальные значения по каждому из них. Закомментируем код после выполнения."
   ]
  },
  {
   "cell_type": "code",
   "execution_count": 2,
   "metadata": {
    "scrolled": true
   },
   "outputs": [
    {
     "name": "stdout",
     "output_type": "stream",
     "text": [
      "children\n",
      " 0     14149\n",
      " 1      4818\n",
      " 2      2055\n",
      " 3       330\n",
      " 20       76\n",
      "-1        47\n",
      " 4        41\n",
      " 5         9\n",
      "Name: children, dtype: int64\n",
      "dob_years\n",
      "35    617\n",
      "40    609\n",
      "41    607\n",
      "34    603\n",
      "38    598\n",
      "42    597\n",
      "33    581\n",
      "39    573\n",
      "31    560\n",
      "36    555\n",
      "44    547\n",
      "29    545\n",
      "30    540\n",
      "48    538\n",
      "37    537\n",
      "50    514\n",
      "43    513\n",
      "32    510\n",
      "49    508\n",
      "28    503\n",
      "45    497\n",
      "27    493\n",
      "56    487\n",
      "52    484\n",
      "47    480\n",
      "54    479\n",
      "46    475\n",
      "58    461\n",
      "57    460\n",
      "53    459\n",
      "51    448\n",
      "59    444\n",
      "55    443\n",
      "26    408\n",
      "60    377\n",
      "25    357\n",
      "61    355\n",
      "62    352\n",
      "63    269\n",
      "64    265\n",
      "24    264\n",
      "23    254\n",
      "65    194\n",
      "66    183\n",
      "22    183\n",
      "67    167\n",
      "21    111\n",
      "0     101\n",
      "68     99\n",
      "69     85\n",
      "70     65\n",
      "71     58\n",
      "20     51\n",
      "72     33\n",
      "19     14\n",
      "73      8\n",
      "74      6\n",
      "75      1\n",
      "Name: dob_years, dtype: int64\n",
      "education\n",
      "среднее                13750\n",
      "высшее                  4718\n",
      "СРЕДНЕЕ                  772\n",
      "Среднее                  711\n",
      "неоконченное высшее      668\n",
      "ВЫСШЕЕ                   274\n",
      "Высшее                   268\n",
      "начальное                250\n",
      "Неоконченное высшее       47\n",
      "НЕОКОНЧЕННОЕ ВЫСШЕЕ       29\n",
      "НАЧАЛЬНОЕ                 17\n",
      "Начальное                 15\n",
      "ученая степень             4\n",
      "УЧЕНАЯ СТЕПЕНЬ             1\n",
      "Ученая степень             1\n",
      "Name: education, dtype: int64\n",
      "family_status\n",
      "женат / замужем          12380\n",
      "гражданский брак          4177\n",
      "Не женат / не замужем     2813\n",
      "в разводе                 1195\n",
      "вдовец / вдова             960\n",
      "Name: family_status, dtype: int64\n",
      "gender\n",
      "F      14236\n",
      "M       7288\n",
      "XNA        1\n",
      "Name: gender, dtype: int64\n",
      "income_type\n",
      "сотрудник          11119\n",
      "компаньон           5085\n",
      "пенсионер           3856\n",
      "госслужащий         1459\n",
      "безработный            2\n",
      "предприниматель        2\n",
      "студент                1\n",
      "в декрете              1\n",
      "Name: income_type, dtype: int64\n",
      "debt\n",
      "0    19784\n",
      "1     1741\n",
      "Name: debt, dtype: int64\n"
     ]
    }
   ],
   "source": [
    "data_headlines = ['children', 'dob_years', 'education', 'family_status', 'gender', 'income_type', 'debt']\n",
    "for headline in data_headlines:\n",
    "    print(headline)\n",
    "    print(data[headline].value_counts())"
   ]
  },
  {
   "cell_type": "markdown",
   "metadata": {},
   "source": [
    "Неадекватными мне кажутся количество детей в семье: -1, 20; возраст клиента в годах: 0.\n",
    "\n",
    "Объясняю их присутствие человеческим фактором: -1 — лишним минусом, 20 — лишним нулем, 0 в возрасте — пропущенной перед нулем цифрой.\n",
    "\n",
    "Произведём замену для `children`: с -1 на 1, с 20 на 2."
   ]
  },
  {
   "cell_type": "code",
   "execution_count": 3,
   "metadata": {
    "scrolled": true
   },
   "outputs": [],
   "source": [
    "data.loc[data['children'] == -1, 'children'] = 1 # замена 'children' с -1 на 1\n",
    "data.loc[data['children'] == 20, 'children'] = 2 # замена 'children' с 20 на 2\n",
    "\n",
    "# print(data.loc[data['children']== 1]['children'].count()) # Проверка количества для сравнения с Excel\n",
    "# print(data.loc[data['children']== 2]['children'].count()) # Проверка количества для сравнения с Excel"
   ]
  },
  {
   "cell_type": "markdown",
   "metadata": {},
   "source": [
    "Заменим пенсионерам 0 в столбце `dob_years` на средний возраст пенсионеров. Остальным заменим 0 на средний возраст всех заёмщиков."
   ]
  },
  {
   "cell_type": "code",
   "execution_count": 4,
   "metadata": {
    "scrolled": true
   },
   "outputs": [],
   "source": [
    "old_mean = int(data[(data['income_type'] == 'пенсионер')]['dob_years'].mean()) # Средний возраст пенсионеров, целое число\n",
    "# print(old_mean) # вывод среднего возраста всех пенсионеров\n",
    "# Проверка количества пенсионеров с нулевым возрастом\n",
    "# print(data.loc[(data['dob_years'] == 0) & (data['income_type'] == 'пенсионер')]['dob_years'].count())"
   ]
  },
  {
   "cell_type": "markdown",
   "metadata": {},
   "source": [
    "Исправим пенсионеров с нулевым возрастом."
   ]
  },
  {
   "cell_type": "code",
   "execution_count": 5,
   "metadata": {
    "scrolled": true
   },
   "outputs": [],
   "source": [
    "data.loc[(data['dob_years'] == 0) & (data['income_type'] == 'пенсионер'), 'dob_years'] = old_mean\n",
    "# Проверка правильности замены\n",
    "# print(data.loc[(data['dob_years'] == 0) & (data['income_type'] == 'пенсионер')]['dob_years'].count())"
   ]
  },
  {
   "cell_type": "markdown",
   "metadata": {},
   "source": [
    "Найдём средний возраст всех заёмщиков, целое число."
   ]
  },
  {
   "cell_type": "code",
   "execution_count": 6,
   "metadata": {
    "scrolled": true
   },
   "outputs": [],
   "source": [
    "dob_years_mean = int(data['dob_years'].mean())\n",
    "# print(dob_years_mean) # вывод среднего возраста всех заемщиков"
   ]
  },
  {
   "cell_type": "markdown",
   "metadata": {},
   "source": [
    "Исправим остальных заёмщиков с нулевым возрастом."
   ]
  },
  {
   "cell_type": "code",
   "execution_count": 7,
   "metadata": {
    "scrolled": true
   },
   "outputs": [],
   "source": [
    "data.loc[data['dob_years'] == 0, 'dob_years'] = dob_years_mean"
   ]
  },
  {
   "cell_type": "markdown",
   "metadata": {},
   "source": [
    "В столбце `days_employed` присутствуют отрицательные значения. Объясняю их наличие неправильной разностью дат (из меньшей вычитали большую), поэтому заменим на абсолютные значения."
   ]
  },
  {
   "cell_type": "code",
   "execution_count": 8,
   "metadata": {
    "scrolled": true
   },
   "outputs": [],
   "source": [
    "data['days_employed'] = abs(data['days_employed'])"
   ]
  },
  {
   "cell_type": "markdown",
   "metadata": {},
   "source": [
    "Датасет содержит 2174 нулевых элемента в столбцах `days_employed` и `total_income`. Пропуски для пенсионеров, студентов, безработных и находящихся в декрете можно было бы объяснить отсутствием дохода, однако таковых всего 413, что составляет менее четверти пропусков. Лиц младше 26 без дохода и трудового стажа ещё меньше — 121.\n",
    "Поэтому вместо поиска причин ограничимся заменой нулевых элементов средними значениями по столбцам."
   ]
  },
  {
   "cell_type": "code",
   "execution_count": 9,
   "metadata": {
    "scrolled": true
   },
   "outputs": [],
   "source": [
    "# days_employed_mean = data['days_employed'].mean() # среднее значение 'days_employed'\n",
    "# total_income_mean = data['total_income'].mean() # среднее значение 'total_income'\n",
    "# print(days_employed_mean, total_income_mean) # вывод средних значений 'days_employed' и 'total_income'"
   ]
  },
  {
   "cell_type": "markdown",
   "metadata": {},
   "source": [
    "Заменим нулевые значения столбцов `days_employed` и `total_income`."
   ]
  },
  {
   "cell_type": "code",
   "execution_count": 10,
   "metadata": {
    "scrolled": true
   },
   "outputs": [],
   "source": [
    "# data.loc[data['days_employed'].isnull(), 'days_employed'] = days_employed_mean\n",
    "# data.loc[data['total_income'].isnull(), 'total_income'] = total_income_mean"
   ]
  },
  {
   "cell_type": "markdown",
   "metadata": {},
   "source": [
    "### Вывод"
   ]
  },
  {
   "cell_type": "markdown",
   "metadata": {},
   "source": [
    "Артефакты исправлены.\n",
    "Пропущенные значения столбцов трудового стажа и ежемесячного дохода заменены средними значениями, что может быть некорректно, однако иной замены я не вижу. К тому же трудовой стаж не требуется для ответов на вопросы."
   ]
  },
  {
   "cell_type": "markdown",
   "metadata": {},
   "source": [
    "<div class=\"alert alert-success\">\n",
    "<h2> Комментарий ревьюера </h2>\n",
    "    \n",
    "Ты провёл неплохой анализ входных данных, нашёл некорректные значения и сделал обоснованную замену. Отлично!  \n",
    "\n",
    "</div>"
   ]
  },
  {
   "cell_type": "markdown",
   "metadata": {},
   "source": [
    "<div class=\"alert alert-danger\">\n",
    "<h2> Комментарий ревьюера </h2>\n",
    "    \n",
    "Работа с пропусками в столбцах days_employed и total_income недостаточна. Ты делаешь выводы о распределении пропусков по группам граждан. Однако, я не нашла расчёты, на основе которых получены эти числа. Эти расчёты нужно добавить, и дай знать, если я что-то упустила.\n",
    "    \n",
    "Заполнять доход одним и тем же значением для разных групп граждан всё-таки не совсем корректно. Маловероятно, что доходы пенсионера соответсвуют доходам компаньона. Аналогично и трудовой стаж. Замену cтоит делать иначе.\n",
    "\n",
    "</div>"
   ]
  },
  {
   "cell_type": "markdown",
   "metadata": {},
   "source": [
    "### Исправления"
   ]
  },
  {
   "cell_type": "markdown",
   "metadata": {},
   "source": [
    "Сначала найдём дубликаты для проверки предположения, что дублируются строки с нулевыми элементами. Приведём строки в столбцах `education` и `family_status` к нижнему регистру вызовом метода `lower()`, подсчитаем количество дубликатов и выведем их на экран."
   ]
  },
  {
   "cell_type": "code",
   "execution_count": 11,
   "metadata": {
    "scrolled": true
   },
   "outputs": [
    {
     "name": "stdout",
     "output_type": "stream",
     "text": [
      "Количество дубликатов в датасете: 71\n"
     ]
    },
    {
     "data": {
      "text/html": [
       "<div>\n",
       "<style scoped>\n",
       "    .dataframe tbody tr th:only-of-type {\n",
       "        vertical-align: middle;\n",
       "    }\n",
       "\n",
       "    .dataframe tbody tr th {\n",
       "        vertical-align: top;\n",
       "    }\n",
       "\n",
       "    .dataframe thead th {\n",
       "        text-align: right;\n",
       "    }\n",
       "</style>\n",
       "<table border=\"1\" class=\"dataframe\">\n",
       "  <thead>\n",
       "    <tr style=\"text-align: right;\">\n",
       "      <th></th>\n",
       "      <th>children</th>\n",
       "      <th>days_employed</th>\n",
       "      <th>dob_years</th>\n",
       "      <th>education</th>\n",
       "      <th>education_id</th>\n",
       "      <th>family_status</th>\n",
       "      <th>family_status_id</th>\n",
       "      <th>gender</th>\n",
       "      <th>income_type</th>\n",
       "      <th>debt</th>\n",
       "      <th>total_income</th>\n",
       "      <th>purpose</th>\n",
       "    </tr>\n",
       "  </thead>\n",
       "  <tbody>\n",
       "    <tr>\n",
       "      <td>2849</td>\n",
       "      <td>0</td>\n",
       "      <td>NaN</td>\n",
       "      <td>41</td>\n",
       "      <td>среднее</td>\n",
       "      <td>1</td>\n",
       "      <td>женат / замужем</td>\n",
       "      <td>0</td>\n",
       "      <td>F</td>\n",
       "      <td>сотрудник</td>\n",
       "      <td>0</td>\n",
       "      <td>NaN</td>\n",
       "      <td>покупка жилья для семьи</td>\n",
       "    </tr>\n",
       "    <tr>\n",
       "      <td>3290</td>\n",
       "      <td>0</td>\n",
       "      <td>NaN</td>\n",
       "      <td>58</td>\n",
       "      <td>среднее</td>\n",
       "      <td>1</td>\n",
       "      <td>гражданский брак</td>\n",
       "      <td>1</td>\n",
       "      <td>F</td>\n",
       "      <td>пенсионер</td>\n",
       "      <td>0</td>\n",
       "      <td>NaN</td>\n",
       "      <td>сыграть свадьбу</td>\n",
       "    </tr>\n",
       "    <tr>\n",
       "      <td>4182</td>\n",
       "      <td>1</td>\n",
       "      <td>NaN</td>\n",
       "      <td>34</td>\n",
       "      <td>высшее</td>\n",
       "      <td>0</td>\n",
       "      <td>гражданский брак</td>\n",
       "      <td>1</td>\n",
       "      <td>F</td>\n",
       "      <td>сотрудник</td>\n",
       "      <td>0</td>\n",
       "      <td>NaN</td>\n",
       "      <td>свадьба</td>\n",
       "    </tr>\n",
       "    <tr>\n",
       "      <td>4851</td>\n",
       "      <td>0</td>\n",
       "      <td>NaN</td>\n",
       "      <td>60</td>\n",
       "      <td>среднее</td>\n",
       "      <td>1</td>\n",
       "      <td>гражданский брак</td>\n",
       "      <td>1</td>\n",
       "      <td>F</td>\n",
       "      <td>пенсионер</td>\n",
       "      <td>0</td>\n",
       "      <td>NaN</td>\n",
       "      <td>свадьба</td>\n",
       "    </tr>\n",
       "    <tr>\n",
       "      <td>5557</td>\n",
       "      <td>0</td>\n",
       "      <td>NaN</td>\n",
       "      <td>58</td>\n",
       "      <td>среднее</td>\n",
       "      <td>1</td>\n",
       "      <td>гражданский брак</td>\n",
       "      <td>1</td>\n",
       "      <td>F</td>\n",
       "      <td>пенсионер</td>\n",
       "      <td>0</td>\n",
       "      <td>NaN</td>\n",
       "      <td>сыграть свадьбу</td>\n",
       "    </tr>\n",
       "    <tr>\n",
       "      <td>...</td>\n",
       "      <td>...</td>\n",
       "      <td>...</td>\n",
       "      <td>...</td>\n",
       "      <td>...</td>\n",
       "      <td>...</td>\n",
       "      <td>...</td>\n",
       "      <td>...</td>\n",
       "      <td>...</td>\n",
       "      <td>...</td>\n",
       "      <td>...</td>\n",
       "      <td>...</td>\n",
       "      <td>...</td>\n",
       "    </tr>\n",
       "    <tr>\n",
       "      <td>20702</td>\n",
       "      <td>0</td>\n",
       "      <td>NaN</td>\n",
       "      <td>64</td>\n",
       "      <td>среднее</td>\n",
       "      <td>1</td>\n",
       "      <td>женат / замужем</td>\n",
       "      <td>0</td>\n",
       "      <td>F</td>\n",
       "      <td>пенсионер</td>\n",
       "      <td>0</td>\n",
       "      <td>NaN</td>\n",
       "      <td>дополнительное образование</td>\n",
       "    </tr>\n",
       "    <tr>\n",
       "      <td>21032</td>\n",
       "      <td>0</td>\n",
       "      <td>NaN</td>\n",
       "      <td>60</td>\n",
       "      <td>среднее</td>\n",
       "      <td>1</td>\n",
       "      <td>женат / замужем</td>\n",
       "      <td>0</td>\n",
       "      <td>F</td>\n",
       "      <td>пенсионер</td>\n",
       "      <td>0</td>\n",
       "      <td>NaN</td>\n",
       "      <td>заняться образованием</td>\n",
       "    </tr>\n",
       "    <tr>\n",
       "      <td>21132</td>\n",
       "      <td>0</td>\n",
       "      <td>NaN</td>\n",
       "      <td>47</td>\n",
       "      <td>среднее</td>\n",
       "      <td>1</td>\n",
       "      <td>женат / замужем</td>\n",
       "      <td>0</td>\n",
       "      <td>F</td>\n",
       "      <td>сотрудник</td>\n",
       "      <td>0</td>\n",
       "      <td>NaN</td>\n",
       "      <td>ремонт жилью</td>\n",
       "    </tr>\n",
       "    <tr>\n",
       "      <td>21281</td>\n",
       "      <td>1</td>\n",
       "      <td>NaN</td>\n",
       "      <td>30</td>\n",
       "      <td>высшее</td>\n",
       "      <td>0</td>\n",
       "      <td>женат / замужем</td>\n",
       "      <td>0</td>\n",
       "      <td>F</td>\n",
       "      <td>сотрудник</td>\n",
       "      <td>0</td>\n",
       "      <td>NaN</td>\n",
       "      <td>покупка коммерческой недвижимости</td>\n",
       "    </tr>\n",
       "    <tr>\n",
       "      <td>21415</td>\n",
       "      <td>0</td>\n",
       "      <td>NaN</td>\n",
       "      <td>54</td>\n",
       "      <td>среднее</td>\n",
       "      <td>1</td>\n",
       "      <td>женат / замужем</td>\n",
       "      <td>0</td>\n",
       "      <td>F</td>\n",
       "      <td>пенсионер</td>\n",
       "      <td>0</td>\n",
       "      <td>NaN</td>\n",
       "      <td>операции с жильем</td>\n",
       "    </tr>\n",
       "  </tbody>\n",
       "</table>\n",
       "<p>71 rows × 12 columns</p>\n",
       "</div>"
      ],
      "text/plain": [
       "       children  days_employed  dob_years education  education_id  \\\n",
       "2849          0            NaN         41   среднее             1   \n",
       "3290          0            NaN         58   среднее             1   \n",
       "4182          1            NaN         34    высшее             0   \n",
       "4851          0            NaN         60   среднее             1   \n",
       "5557          0            NaN         58   среднее             1   \n",
       "...         ...            ...        ...       ...           ...   \n",
       "20702         0            NaN         64   среднее             1   \n",
       "21032         0            NaN         60   среднее             1   \n",
       "21132         0            NaN         47   среднее             1   \n",
       "21281         1            NaN         30    высшее             0   \n",
       "21415         0            NaN         54   среднее             1   \n",
       "\n",
       "          family_status  family_status_id gender income_type  debt  \\\n",
       "2849    женат / замужем                 0      F   сотрудник     0   \n",
       "3290   гражданский брак                 1      F   пенсионер     0   \n",
       "4182   гражданский брак                 1      F   сотрудник     0   \n",
       "4851   гражданский брак                 1      F   пенсионер     0   \n",
       "5557   гражданский брак                 1      F   пенсионер     0   \n",
       "...                 ...               ...    ...         ...   ...   \n",
       "20702   женат / замужем                 0      F   пенсионер     0   \n",
       "21032   женат / замужем                 0      F   пенсионер     0   \n",
       "21132   женат / замужем                 0      F   сотрудник     0   \n",
       "21281   женат / замужем                 0      F   сотрудник     0   \n",
       "21415   женат / замужем                 0      F   пенсионер     0   \n",
       "\n",
       "       total_income                            purpose  \n",
       "2849            NaN            покупка жилья для семьи  \n",
       "3290            NaN                    сыграть свадьбу  \n",
       "4182            NaN                            свадьба  \n",
       "4851            NaN                            свадьба  \n",
       "5557            NaN                    сыграть свадьбу  \n",
       "...             ...                                ...  \n",
       "20702           NaN         дополнительное образование  \n",
       "21032           NaN              заняться образованием  \n",
       "21132           NaN                       ремонт жилью  \n",
       "21281           NaN  покупка коммерческой недвижимости  \n",
       "21415           NaN                  операции с жильем  \n",
       "\n",
       "[71 rows x 12 columns]"
      ]
     },
     "metadata": {},
     "output_type": "display_data"
    }
   ],
   "source": [
    "data['education'] = data['education'].str.lower() # приведение строк столбца 'education' к нижнему регистру\n",
    "data['family_status'] = data['family_status'].str.lower() # приведение строк столбца 'family_status' к нижнему регистру\n",
    "\n",
    "print('Количество дубликатов в датасете:', data.duplicated().sum())\n",
    "display(data[data.duplicated()]) # вывод дубликатов с должниками"
   ]
  },
  {
   "cell_type": "markdown",
   "metadata": {},
   "source": [
    "Видно, что дублируются строки с нулевыми элементами и среди заёмщиков должников нет.\n",
    "\n",
    "Распределим пропуски по типам занятости."
   ]
  },
  {
   "cell_type": "code",
   "execution_count": 12,
   "metadata": {
    "scrolled": true
   },
   "outputs": [
    {
     "data": {
      "text/plain": [
       "сотрудник          1105\n",
       "компаньон           508\n",
       "пенсионер           413\n",
       "госслужащий         147\n",
       "предприниматель       1\n",
       "Name: income_type, dtype: int64"
      ]
     },
     "metadata": {},
     "output_type": "display_data"
    }
   ],
   "source": [
    "display(data[data['total_income'].isnull()]['income_type'].value_counts())"
   ]
  },
  {
   "cell_type": "markdown",
   "metadata": {},
   "source": [
    "Пропуски для пенсионеров, студентов, безработных и находящихся в декрете можно было бы объяснить отсутствием дохода, однако таковых всего 413, что составляет менее четверти пропусков. Подсчитаем количество лиц младше 26 без дохода и трудового стажа."
   ]
  },
  {
   "cell_type": "code",
   "execution_count": 13,
   "metadata": {
    "scrolled": true
   },
   "outputs": [
    {
     "data": {
      "text/plain": [
       "121"
      ]
     },
     "metadata": {},
     "output_type": "display_data"
    }
   ],
   "source": [
    "display(data[(data['total_income'].isnull()) & (data['dob_years'] < 26)]['dob_years'].count())"
   ]
  },
  {
   "cell_type": "markdown",
   "metadata": {},
   "source": [
    "Их ещё меньше — 121. Таким образом, причина появления пропусков неясна.\n",
    "\n",
    "Заполним пропуски в столбцах `days_employed` и `total_income` средними значениями по типу занятости. Для этого выделим уникальные значения столбца `income_type`."
   ]
  },
  {
   "cell_type": "code",
   "execution_count": 14,
   "metadata": {
    "scrolled": true
   },
   "outputs": [
    {
     "name": "stdout",
     "output_type": "stream",
     "text": [
      "['сотрудник' 'пенсионер' 'компаньон' 'госслужащий' 'безработный'\n",
      " 'предприниматель' 'студент' 'в декрете']\n"
     ]
    }
   ],
   "source": [
    "income_type_unique = data['income_type'].unique() \n",
    "print(income_type_unique)"
   ]
  },
  {
   "cell_type": "markdown",
   "metadata": {},
   "source": [
    "В цикле для каждого типа занятости найдём средний трудовой стаж и средний доход и заполним пропущенные значения."
   ]
  },
  {
   "cell_type": "code",
   "execution_count": 15,
   "metadata": {
    "scrolled": true
   },
   "outputs": [],
   "source": [
    "for i in income_type_unique:\n",
    "    days_employed_mean = data[data['income_type'] == i]['days_employed'].mean() # среднее значение 'days_employed' по каждому типу\n",
    "    total_income_mean = data[data['income_type'] == i]['total_income'].mean() # среднее значение 'total_income' по каждому типу\n",
    "    # Заменим нулевые значения средними по каждому типу\n",
    "    data.loc[(data['days_employed'].isnull()) & (data['income_type'] == i), 'days_employed'] = days_employed_mean\n",
    "    data.loc[(data['total_income'].isnull()) & (data['income_type'] == i), 'total_income'] = total_income_mean"
   ]
  },
  {
   "cell_type": "markdown",
   "metadata": {},
   "source": [
    "<div class=\"alert alert-success\">\n",
    "<h2> Комментарий ревьюера v2 </h2>\n",
    "    \n",
    "Ты внёс соотвствующие изменение, и теперь работа с пропусками выглядит более завершённой, отлично :)\n",
    "    \n",
    "Только хотела отметить один момент. Ты делаешь вывод, что среди дубликатов должников нет. Но ведь у тебя не вся таблица с пропусками отображена, не так ли? Обрати внимание на разрыв в таблице в середине.\n",
    "\n",
    "</div>"
   ]
  },
  {
   "cell_type": "markdown",
   "metadata": {},
   "source": [
    "### Замена типа данных"
   ]
  },
  {
   "cell_type": "markdown",
   "metadata": {},
   "source": [
    "Столбцы `days_employed` и `total_income` имеют вещественный тип данных.\n",
    "Заменим его на целочисленный для удобства и потому что этого требует задание.\n",
    "Также столбец `debt` имеет всего два значения.\n",
    "Заменим его на логический, где 1 — `True` — наличие долга, 0 — `False` — отсутствие долга."
   ]
  },
  {
   "cell_type": "code",
   "execution_count": 16,
   "metadata": {
    "scrolled": true
   },
   "outputs": [],
   "source": [
    "data['days_employed'] = data['days_employed'].astype('int') # замена типа данных столбцу 'days_employed' на целочисленный\n",
    "data['total_income'] = data['total_income'].astype('int') # замена типа данных столбцу 'total_income' на целочисленный\n",
    "data['debt'] = data['debt'].astype('bool') # замена типа данных столбцу 'debt' на логический, как более подходящий"
   ]
  },
  {
   "cell_type": "markdown",
   "metadata": {},
   "source": [
    "<div class=\"alert alert-success\">\n",
    "<h2> Комментарий ревьюера </h2>\n",
    "    \n",
    "Значения заменены верно! Можешь обосновать, почему ты использовал метод  astype(), а не to_numeric()?\n",
    "\n",
    "</div>"
   ]
  },
  {
   "cell_type": "markdown",
   "metadata": {},
   "source": [
    "### Ответ"
   ]
  },
  {
   "cell_type": "markdown",
   "metadata": {},
   "source": [
    "Метод `to_numeric()` переводит числа в тип данных *float64*."
   ]
  },
  {
   "cell_type": "markdown",
   "metadata": {},
   "source": [
    "### Вывод"
   ]
  },
  {
   "cell_type": "markdown",
   "metadata": {},
   "source": [
    "Для удобства обработки произведены замены типов данных в следующих столбцах:"
   ]
  },
  {
   "cell_type": "markdown",
   "metadata": {},
   "source": [
    "- `days_employed` и `total_income` — на целочисленный;"
   ]
  },
  {
   "cell_type": "markdown",
   "metadata": {},
   "source": [
    "- `debt` — на логический."
   ]
  },
  {
   "cell_type": "markdown",
   "metadata": {},
   "source": [
    "### Обработка дубликатов"
   ]
  },
  {
   "cell_type": "markdown",
   "metadata": {},
   "source": [
    "Строки в столбцах `education` и `family_status` имеют разный регистр. Приведём их к нижнему регистру вызовом метода `lower()`."
   ]
  },
  {
   "cell_type": "code",
   "execution_count": 17,
   "metadata": {},
   "outputs": [],
   "source": [
    "data['education'] = data['education'].str.lower()\n",
    "data['family_status'] = data['family_status'].str.lower()"
   ]
  },
  {
   "cell_type": "markdown",
   "metadata": {},
   "source": [
    "Подсчитаем количество дубликатов."
   ]
  },
  {
   "cell_type": "code",
   "execution_count": 18,
   "metadata": {
    "scrolled": false
   },
   "outputs": [
    {
     "name": "stdout",
     "output_type": "stream",
     "text": [
      "Количество дубликатов в датасете: 71\n"
     ]
    }
   ],
   "source": [
    "print('Количество дубликатов в датасете:', data.duplicated().sum())"
   ]
  },
  {
   "cell_type": "markdown",
   "metadata": {},
   "source": [
    "Предположение: дублируются те строки, в которых нулевые элементы заменили на средние значения. Проверим, есть ли среди них должники."
   ]
  },
  {
   "cell_type": "code",
   "execution_count": 19,
   "metadata": {
    "scrolled": true
   },
   "outputs": [
    {
     "data": {
      "text/html": [
       "<div>\n",
       "<style scoped>\n",
       "    .dataframe tbody tr th:only-of-type {\n",
       "        vertical-align: middle;\n",
       "    }\n",
       "\n",
       "    .dataframe tbody tr th {\n",
       "        vertical-align: top;\n",
       "    }\n",
       "\n",
       "    .dataframe thead th {\n",
       "        text-align: right;\n",
       "    }\n",
       "</style>\n",
       "<table border=\"1\" class=\"dataframe\">\n",
       "  <thead>\n",
       "    <tr style=\"text-align: right;\">\n",
       "      <th></th>\n",
       "      <th>children</th>\n",
       "      <th>days_employed</th>\n",
       "      <th>dob_years</th>\n",
       "      <th>education</th>\n",
       "      <th>education_id</th>\n",
       "      <th>family_status</th>\n",
       "      <th>family_status_id</th>\n",
       "      <th>gender</th>\n",
       "      <th>income_type</th>\n",
       "      <th>debt</th>\n",
       "      <th>total_income</th>\n",
       "      <th>purpose</th>\n",
       "    </tr>\n",
       "  </thead>\n",
       "  <tbody>\n",
       "  </tbody>\n",
       "</table>\n",
       "</div>"
      ],
      "text/plain": [
       "Empty DataFrame\n",
       "Columns: [children, days_employed, dob_years, education, education_id, family_status, family_status_id, gender, income_type, debt, total_income, purpose]\n",
       "Index: []"
      ]
     },
     "metadata": {},
     "output_type": "display_data"
    }
   ],
   "source": [
    "display(data[(data.duplicated()) & (data['debt'] == 1)]) # вывод дубликатов с должниками"
   ]
  },
  {
   "cell_type": "markdown",
   "metadata": {},
   "source": [
    "Таблица пустая, удалим дубликаты."
   ]
  },
  {
   "cell_type": "code",
   "execution_count": 20,
   "metadata": {
    "scrolled": true
   },
   "outputs": [],
   "source": [
    "data = data.drop_duplicates().reset_index(drop = True)"
   ]
  },
  {
   "cell_type": "markdown",
   "metadata": {},
   "source": [
    "### Вывод"
   ]
  },
  {
   "cell_type": "markdown",
   "metadata": {},
   "source": [
    "После обработки данных в предыдущих заданиях обнаружен 71 дубликат. Ни один из них не принадлежит заёмщикам-должникам, поэтому можем удалить дубликаты без вреда для результатов исследования."
   ]
  },
  {
   "cell_type": "markdown",
   "metadata": {},
   "source": [
    "<div class=\"alert alert-warning\">\n",
    "<h2> Комментарий ревьюера </h2>\n",
    "    \n",
    "Критерий для удаления дубликатов \"отсутствие должников\" выглядит сомнительно. На долю (процент) должников будет влиять удаление дубликатов в любом случае. Этот комментарий не руководство к тому, чтобы дубликаты не удалялись / или удалялись, а замечание к тому, что приведенные обоснования не выглядят убедительно.\n",
    "    \n",
    "Как можно проверить предположение, что дублируются те строки, в которых нулевые элементы заменили на средние значения?\n",
    "\n",
    "</div>"
   ]
  },
  {
   "cell_type": "markdown",
   "metadata": {},
   "source": [
    "### Исправления"
   ]
  },
  {
   "cell_type": "markdown",
   "metadata": {},
   "source": [
    "Для проверки найдём дубликаты до замены нулевых элементов на средние (сделано выше).\n",
    "\n",
    "Видно, что дублируются строки с нулевыми элементами и среди заёмщиков должников нет.\n",
    "\n",
    "Причина их появления может быть в том, что без id заёмщика и уникальных значений трудового стажа и ежемесячного дохода, строки совпадают друг с другом. Целесообразность удаления сомнительна (дубликаты составляют менее 0,33% всех данных), однако того требует задание."
   ]
  },
  {
   "cell_type": "markdown",
   "metadata": {},
   "source": [
    "<div class=\"alert alert-warning\">\n",
    "<h2> Комментарий ревьюера v2 </h2>\n",
    "    \n",
    "Как я упомянуа выше, будет опрометчиво делать вывод о том, в каких строках присутвуют дубликаты, так как ты видишь на выводе не всю таблицу. В данном случае лучше сделать соответсвующие вычисления, и посчитать, а сколько среди них должников / не должников.\n",
    "    \n",
    "Ты выдвинул хорошую гипотезу о возникновении таких строк-дубликатов, что это связано с отсутвием id. Если ты считаешь, что в данном случае эти строки не дубликаты по своему смыслу и удалять их не стоит, то остаточно обосновать свой выбор и не делать этого.\n",
    "</div>"
   ]
  },
  {
   "cell_type": "markdown",
   "metadata": {},
   "source": [
    "### Лемматизация"
   ]
  },
  {
   "cell_type": "markdown",
   "metadata": {},
   "source": [
    "Импортируем библиотеку `pymystem3`."
   ]
  },
  {
   "cell_type": "code",
   "execution_count": 21,
   "metadata": {},
   "outputs": [],
   "source": [
    "from pymystem3 import Mystem\n",
    "m = Mystem()"
   ]
  },
  {
   "cell_type": "markdown",
   "metadata": {},
   "source": [
    "Вызовем контейнер `Counter` из модуля `collections` для подсчёта лемматизированных слов."
   ]
  },
  {
   "cell_type": "code",
   "execution_count": 22,
   "metadata": {},
   "outputs": [],
   "source": [
    "from collections import Counter"
   ]
  },
  {
   "cell_type": "markdown",
   "metadata": {},
   "source": [
    "Найдём наиболее часто встречающиеся цели получения кредита. Для этого лемматизируем в цикле каждый элемент столбца `purpose` и объединим их в единый список `purpose_list`."
   ]
  },
  {
   "cell_type": "code",
   "execution_count": 23,
   "metadata": {},
   "outputs": [],
   "source": [
    "purpose_list = []\n",
    "for i in range(data.shape[0]):\n",
    "    purpose_list += m.lemmatize(data['purpose'][i])"
   ]
  },
  {
   "cell_type": "markdown",
   "metadata": {},
   "source": [
    "Подсчитаем количество лемматизированных слов."
   ]
  },
  {
   "cell_type": "code",
   "execution_count": 24,
   "metadata": {
    "scrolled": false
   },
   "outputs": [
    {
     "name": "stdout",
     "output_type": "stream",
     "text": [
      "Counter({' ': 33570, '\\n': 21454, 'недвижимость': 6351, 'покупка': 5897, 'жилье': 4460, 'автомобиль': 4306, 'образование': 4013, 'с': 2918, 'операция': 2604, 'свадьба': 2324, 'свой': 2230, 'на': 2222, 'строительство': 1878, 'высокий': 1374, 'получение': 1314, 'коммерческий': 1311, 'для': 1289, 'жилой': 1230, 'сделка': 941, 'дополнительный': 906, 'заниматься': 904, 'проведение': 768, 'сыграть': 765, 'сдача': 651, 'семья': 638, 'собственный': 635, 'со': 627, 'ремонт': 607, 'подержанный': 486, 'подержать': 478, 'приобретение': 461, 'профильный': 436})\n"
     ]
    }
   ],
   "source": [
    "print(Counter(purpose_list))"
   ]
  },
  {
   "cell_type": "markdown",
   "metadata": {},
   "source": [
    "Вручную выделим основные цели получения кредита по возрастанию упоминаний."
   ]
  },
  {
   "cell_type": "code",
   "execution_count": 25,
   "metadata": {},
   "outputs": [],
   "source": [
    "purpose_pattern = ['ремонт', 'свадьба', 'образование', 'автомобиль', 'жилье', 'недвижимость']"
   ]
  },
  {
   "cell_type": "markdown",
   "metadata": {},
   "source": [
    "Поставим в соответствие каждому элементу столбца `purpose` единственную цель из эталонного списка `purpose_pattern`. Для этого создадим функцию, сравнивающую каждую строку с эталоном и возвращающую первый совпавший элемент."
   ]
  },
  {
   "cell_type": "code",
   "execution_count": 26,
   "metadata": {},
   "outputs": [],
   "source": [
    "def intersection(list_input):\n",
    "    \"\"\"\n",
    "     Функция поэлементно сравнивает список list_input с эталонным списком purpose_pattern\n",
    "     Возвращает первый совпавший элемент, иначе None\n",
    "    \"\"\"\n",
    "    for i in list_input:\n",
    "        for j in purpose_pattern:\n",
    "            if i == j:\n",
    "                return j\n",
    "    return None"
   ]
  },
  {
   "cell_type": "markdown",
   "metadata": {},
   "source": [
    "Создадим столбец `purpose_shortened` для вычленения цели кредита. В цикле каждая цель получения кредита сравнивается с эталонными при помощи функции `intersection`. Результат записывается в соответствующую строку стобца `purpose_shortened`."
   ]
  },
  {
   "cell_type": "code",
   "execution_count": 27,
   "metadata": {},
   "outputs": [
    {
     "data": {
      "text/html": [
       "<div>\n",
       "<style scoped>\n",
       "    .dataframe tbody tr th:only-of-type {\n",
       "        vertical-align: middle;\n",
       "    }\n",
       "\n",
       "    .dataframe tbody tr th {\n",
       "        vertical-align: top;\n",
       "    }\n",
       "\n",
       "    .dataframe thead th {\n",
       "        text-align: right;\n",
       "    }\n",
       "</style>\n",
       "<table border=\"1\" class=\"dataframe\">\n",
       "  <thead>\n",
       "    <tr style=\"text-align: right;\">\n",
       "      <th></th>\n",
       "      <th>children</th>\n",
       "      <th>days_employed</th>\n",
       "      <th>dob_years</th>\n",
       "      <th>education</th>\n",
       "      <th>education_id</th>\n",
       "      <th>family_status</th>\n",
       "      <th>family_status_id</th>\n",
       "      <th>gender</th>\n",
       "      <th>income_type</th>\n",
       "      <th>debt</th>\n",
       "      <th>total_income</th>\n",
       "      <th>purpose</th>\n",
       "      <th>purpose_shortened</th>\n",
       "    </tr>\n",
       "  </thead>\n",
       "  <tbody>\n",
       "    <tr>\n",
       "      <td>0</td>\n",
       "      <td>1</td>\n",
       "      <td>8437</td>\n",
       "      <td>42</td>\n",
       "      <td>высшее</td>\n",
       "      <td>0</td>\n",
       "      <td>женат / замужем</td>\n",
       "      <td>0</td>\n",
       "      <td>F</td>\n",
       "      <td>сотрудник</td>\n",
       "      <td>False</td>\n",
       "      <td>253875</td>\n",
       "      <td>покупка жилья</td>\n",
       "      <td>жилье</td>\n",
       "    </tr>\n",
       "    <tr>\n",
       "      <td>1</td>\n",
       "      <td>1</td>\n",
       "      <td>4024</td>\n",
       "      <td>36</td>\n",
       "      <td>среднее</td>\n",
       "      <td>1</td>\n",
       "      <td>женат / замужем</td>\n",
       "      <td>0</td>\n",
       "      <td>F</td>\n",
       "      <td>сотрудник</td>\n",
       "      <td>False</td>\n",
       "      <td>112080</td>\n",
       "      <td>приобретение автомобиля</td>\n",
       "      <td>автомобиль</td>\n",
       "    </tr>\n",
       "    <tr>\n",
       "      <td>2</td>\n",
       "      <td>0</td>\n",
       "      <td>5623</td>\n",
       "      <td>33</td>\n",
       "      <td>среднее</td>\n",
       "      <td>1</td>\n",
       "      <td>женат / замужем</td>\n",
       "      <td>0</td>\n",
       "      <td>M</td>\n",
       "      <td>сотрудник</td>\n",
       "      <td>False</td>\n",
       "      <td>145885</td>\n",
       "      <td>покупка жилья</td>\n",
       "      <td>жилье</td>\n",
       "    </tr>\n",
       "    <tr>\n",
       "      <td>3</td>\n",
       "      <td>3</td>\n",
       "      <td>4124</td>\n",
       "      <td>32</td>\n",
       "      <td>среднее</td>\n",
       "      <td>1</td>\n",
       "      <td>женат / замужем</td>\n",
       "      <td>0</td>\n",
       "      <td>M</td>\n",
       "      <td>сотрудник</td>\n",
       "      <td>False</td>\n",
       "      <td>267628</td>\n",
       "      <td>дополнительное образование</td>\n",
       "      <td>образование</td>\n",
       "    </tr>\n",
       "    <tr>\n",
       "      <td>4</td>\n",
       "      <td>0</td>\n",
       "      <td>340266</td>\n",
       "      <td>53</td>\n",
       "      <td>среднее</td>\n",
       "      <td>1</td>\n",
       "      <td>гражданский брак</td>\n",
       "      <td>1</td>\n",
       "      <td>F</td>\n",
       "      <td>пенсионер</td>\n",
       "      <td>False</td>\n",
       "      <td>158616</td>\n",
       "      <td>сыграть свадьбу</td>\n",
       "      <td>свадьба</td>\n",
       "    </tr>\n",
       "    <tr>\n",
       "      <td>5</td>\n",
       "      <td>0</td>\n",
       "      <td>926</td>\n",
       "      <td>27</td>\n",
       "      <td>высшее</td>\n",
       "      <td>0</td>\n",
       "      <td>гражданский брак</td>\n",
       "      <td>1</td>\n",
       "      <td>M</td>\n",
       "      <td>компаньон</td>\n",
       "      <td>False</td>\n",
       "      <td>255763</td>\n",
       "      <td>покупка жилья</td>\n",
       "      <td>жилье</td>\n",
       "    </tr>\n",
       "    <tr>\n",
       "      <td>6</td>\n",
       "      <td>0</td>\n",
       "      <td>2879</td>\n",
       "      <td>43</td>\n",
       "      <td>высшее</td>\n",
       "      <td>0</td>\n",
       "      <td>женат / замужем</td>\n",
       "      <td>0</td>\n",
       "      <td>F</td>\n",
       "      <td>компаньон</td>\n",
       "      <td>False</td>\n",
       "      <td>240525</td>\n",
       "      <td>операции с жильем</td>\n",
       "      <td>жилье</td>\n",
       "    </tr>\n",
       "    <tr>\n",
       "      <td>7</td>\n",
       "      <td>0</td>\n",
       "      <td>152</td>\n",
       "      <td>50</td>\n",
       "      <td>среднее</td>\n",
       "      <td>1</td>\n",
       "      <td>женат / замужем</td>\n",
       "      <td>0</td>\n",
       "      <td>M</td>\n",
       "      <td>сотрудник</td>\n",
       "      <td>False</td>\n",
       "      <td>135823</td>\n",
       "      <td>образование</td>\n",
       "      <td>образование</td>\n",
       "    </tr>\n",
       "    <tr>\n",
       "      <td>8</td>\n",
       "      <td>2</td>\n",
       "      <td>6929</td>\n",
       "      <td>35</td>\n",
       "      <td>высшее</td>\n",
       "      <td>0</td>\n",
       "      <td>гражданский брак</td>\n",
       "      <td>1</td>\n",
       "      <td>F</td>\n",
       "      <td>сотрудник</td>\n",
       "      <td>False</td>\n",
       "      <td>95856</td>\n",
       "      <td>на проведение свадьбы</td>\n",
       "      <td>свадьба</td>\n",
       "    </tr>\n",
       "    <tr>\n",
       "      <td>9</td>\n",
       "      <td>0</td>\n",
       "      <td>2188</td>\n",
       "      <td>41</td>\n",
       "      <td>среднее</td>\n",
       "      <td>1</td>\n",
       "      <td>женат / замужем</td>\n",
       "      <td>0</td>\n",
       "      <td>M</td>\n",
       "      <td>сотрудник</td>\n",
       "      <td>False</td>\n",
       "      <td>144425</td>\n",
       "      <td>покупка жилья для семьи</td>\n",
       "      <td>жилье</td>\n",
       "    </tr>\n",
       "    <tr>\n",
       "      <td>10</td>\n",
       "      <td>2</td>\n",
       "      <td>4171</td>\n",
       "      <td>36</td>\n",
       "      <td>высшее</td>\n",
       "      <td>0</td>\n",
       "      <td>женат / замужем</td>\n",
       "      <td>0</td>\n",
       "      <td>M</td>\n",
       "      <td>компаньон</td>\n",
       "      <td>False</td>\n",
       "      <td>113943</td>\n",
       "      <td>покупка недвижимости</td>\n",
       "      <td>недвижимость</td>\n",
       "    </tr>\n",
       "    <tr>\n",
       "      <td>11</td>\n",
       "      <td>0</td>\n",
       "      <td>792</td>\n",
       "      <td>40</td>\n",
       "      <td>среднее</td>\n",
       "      <td>1</td>\n",
       "      <td>женат / замужем</td>\n",
       "      <td>0</td>\n",
       "      <td>F</td>\n",
       "      <td>сотрудник</td>\n",
       "      <td>False</td>\n",
       "      <td>77069</td>\n",
       "      <td>покупка коммерческой недвижимости</td>\n",
       "      <td>недвижимость</td>\n",
       "    </tr>\n",
       "    <tr>\n",
       "      <td>12</td>\n",
       "      <td>0</td>\n",
       "      <td>365003</td>\n",
       "      <td>65</td>\n",
       "      <td>среднее</td>\n",
       "      <td>1</td>\n",
       "      <td>гражданский брак</td>\n",
       "      <td>1</td>\n",
       "      <td>M</td>\n",
       "      <td>пенсионер</td>\n",
       "      <td>False</td>\n",
       "      <td>137127</td>\n",
       "      <td>сыграть свадьбу</td>\n",
       "      <td>свадьба</td>\n",
       "    </tr>\n",
       "    <tr>\n",
       "      <td>13</td>\n",
       "      <td>0</td>\n",
       "      <td>1846</td>\n",
       "      <td>54</td>\n",
       "      <td>неоконченное высшее</td>\n",
       "      <td>2</td>\n",
       "      <td>женат / замужем</td>\n",
       "      <td>0</td>\n",
       "      <td>F</td>\n",
       "      <td>сотрудник</td>\n",
       "      <td>False</td>\n",
       "      <td>130458</td>\n",
       "      <td>приобретение автомобиля</td>\n",
       "      <td>автомобиль</td>\n",
       "    </tr>\n",
       "    <tr>\n",
       "      <td>14</td>\n",
       "      <td>0</td>\n",
       "      <td>1844</td>\n",
       "      <td>56</td>\n",
       "      <td>высшее</td>\n",
       "      <td>0</td>\n",
       "      <td>гражданский брак</td>\n",
       "      <td>1</td>\n",
       "      <td>F</td>\n",
       "      <td>компаньон</td>\n",
       "      <td>True</td>\n",
       "      <td>165127</td>\n",
       "      <td>покупка жилой недвижимости</td>\n",
       "      <td>недвижимость</td>\n",
       "    </tr>\n",
       "    <tr>\n",
       "      <td>15</td>\n",
       "      <td>1</td>\n",
       "      <td>972</td>\n",
       "      <td>26</td>\n",
       "      <td>среднее</td>\n",
       "      <td>1</td>\n",
       "      <td>женат / замужем</td>\n",
       "      <td>0</td>\n",
       "      <td>F</td>\n",
       "      <td>сотрудник</td>\n",
       "      <td>False</td>\n",
       "      <td>116820</td>\n",
       "      <td>строительство собственной недвижимости</td>\n",
       "      <td>недвижимость</td>\n",
       "    </tr>\n",
       "    <tr>\n",
       "      <td>16</td>\n",
       "      <td>0</td>\n",
       "      <td>1719</td>\n",
       "      <td>35</td>\n",
       "      <td>среднее</td>\n",
       "      <td>1</td>\n",
       "      <td>женат / замужем</td>\n",
       "      <td>0</td>\n",
       "      <td>F</td>\n",
       "      <td>сотрудник</td>\n",
       "      <td>False</td>\n",
       "      <td>289202</td>\n",
       "      <td>недвижимость</td>\n",
       "      <td>недвижимость</td>\n",
       "    </tr>\n",
       "    <tr>\n",
       "      <td>17</td>\n",
       "      <td>0</td>\n",
       "      <td>2369</td>\n",
       "      <td>33</td>\n",
       "      <td>высшее</td>\n",
       "      <td>0</td>\n",
       "      <td>гражданский брак</td>\n",
       "      <td>1</td>\n",
       "      <td>M</td>\n",
       "      <td>сотрудник</td>\n",
       "      <td>False</td>\n",
       "      <td>90410</td>\n",
       "      <td>строительство недвижимости</td>\n",
       "      <td>недвижимость</td>\n",
       "    </tr>\n",
       "    <tr>\n",
       "      <td>18</td>\n",
       "      <td>0</td>\n",
       "      <td>400281</td>\n",
       "      <td>53</td>\n",
       "      <td>среднее</td>\n",
       "      <td>1</td>\n",
       "      <td>вдовец / вдова</td>\n",
       "      <td>2</td>\n",
       "      <td>F</td>\n",
       "      <td>пенсионер</td>\n",
       "      <td>False</td>\n",
       "      <td>56823</td>\n",
       "      <td>на покупку подержанного автомобиля</td>\n",
       "      <td>автомобиль</td>\n",
       "    </tr>\n",
       "    <tr>\n",
       "      <td>19</td>\n",
       "      <td>0</td>\n",
       "      <td>10038</td>\n",
       "      <td>48</td>\n",
       "      <td>среднее</td>\n",
       "      <td>1</td>\n",
       "      <td>в разводе</td>\n",
       "      <td>3</td>\n",
       "      <td>F</td>\n",
       "      <td>сотрудник</td>\n",
       "      <td>False</td>\n",
       "      <td>242831</td>\n",
       "      <td>на покупку своего автомобиля</td>\n",
       "      <td>автомобиль</td>\n",
       "    </tr>\n",
       "  </tbody>\n",
       "</table>\n",
       "</div>"
      ],
      "text/plain": [
       "    children  days_employed  dob_years            education  education_id  \\\n",
       "0          1           8437         42               высшее             0   \n",
       "1          1           4024         36              среднее             1   \n",
       "2          0           5623         33              среднее             1   \n",
       "3          3           4124         32              среднее             1   \n",
       "4          0         340266         53              среднее             1   \n",
       "5          0            926         27               высшее             0   \n",
       "6          0           2879         43               высшее             0   \n",
       "7          0            152         50              среднее             1   \n",
       "8          2           6929         35               высшее             0   \n",
       "9          0           2188         41              среднее             1   \n",
       "10         2           4171         36               высшее             0   \n",
       "11         0            792         40              среднее             1   \n",
       "12         0         365003         65              среднее             1   \n",
       "13         0           1846         54  неоконченное высшее             2   \n",
       "14         0           1844         56               высшее             0   \n",
       "15         1            972         26              среднее             1   \n",
       "16         0           1719         35              среднее             1   \n",
       "17         0           2369         33               высшее             0   \n",
       "18         0         400281         53              среднее             1   \n",
       "19         0          10038         48              среднее             1   \n",
       "\n",
       "       family_status  family_status_id gender income_type   debt  \\\n",
       "0    женат / замужем                 0      F   сотрудник  False   \n",
       "1    женат / замужем                 0      F   сотрудник  False   \n",
       "2    женат / замужем                 0      M   сотрудник  False   \n",
       "3    женат / замужем                 0      M   сотрудник  False   \n",
       "4   гражданский брак                 1      F   пенсионер  False   \n",
       "5   гражданский брак                 1      M   компаньон  False   \n",
       "6    женат / замужем                 0      F   компаньон  False   \n",
       "7    женат / замужем                 0      M   сотрудник  False   \n",
       "8   гражданский брак                 1      F   сотрудник  False   \n",
       "9    женат / замужем                 0      M   сотрудник  False   \n",
       "10   женат / замужем                 0      M   компаньон  False   \n",
       "11   женат / замужем                 0      F   сотрудник  False   \n",
       "12  гражданский брак                 1      M   пенсионер  False   \n",
       "13   женат / замужем                 0      F   сотрудник  False   \n",
       "14  гражданский брак                 1      F   компаньон   True   \n",
       "15   женат / замужем                 0      F   сотрудник  False   \n",
       "16   женат / замужем                 0      F   сотрудник  False   \n",
       "17  гражданский брак                 1      M   сотрудник  False   \n",
       "18    вдовец / вдова                 2      F   пенсионер  False   \n",
       "19         в разводе                 3      F   сотрудник  False   \n",
       "\n",
       "    total_income                                 purpose purpose_shortened  \n",
       "0         253875                           покупка жилья             жилье  \n",
       "1         112080                 приобретение автомобиля        автомобиль  \n",
       "2         145885                           покупка жилья             жилье  \n",
       "3         267628              дополнительное образование       образование  \n",
       "4         158616                         сыграть свадьбу           свадьба  \n",
       "5         255763                           покупка жилья             жилье  \n",
       "6         240525                       операции с жильем             жилье  \n",
       "7         135823                             образование       образование  \n",
       "8          95856                   на проведение свадьбы           свадьба  \n",
       "9         144425                 покупка жилья для семьи             жилье  \n",
       "10        113943                    покупка недвижимости      недвижимость  \n",
       "11         77069       покупка коммерческой недвижимости      недвижимость  \n",
       "12        137127                         сыграть свадьбу           свадьба  \n",
       "13        130458                 приобретение автомобиля        автомобиль  \n",
       "14        165127              покупка жилой недвижимости      недвижимость  \n",
       "15        116820  строительство собственной недвижимости      недвижимость  \n",
       "16        289202                            недвижимость      недвижимость  \n",
       "17         90410              строительство недвижимости      недвижимость  \n",
       "18         56823      на покупку подержанного автомобиля        автомобиль  \n",
       "19        242831            на покупку своего автомобиля        автомобиль  "
      ]
     },
     "metadata": {},
     "output_type": "display_data"
    }
   ],
   "source": [
    "for i in range(data.shape[0]):\n",
    "    data.loc[i, 'purpose_shortened'] = intersection(m.lemmatize(data['purpose'][i]))\n",
    "display(data.head(20)) # проверка"
   ]
  },
  {
   "cell_type": "markdown",
   "metadata": {},
   "source": [
    "**Примечание:** использование цикла для работы с `DataFrame` представляется нерациональным по времени. Как я понял, метод `apply()` не сочетается с `m.lemmatize()`. Какие ещё способы можно применить?"
   ]
  },
  {
   "cell_type": "code",
   "execution_count": 80,
   "metadata": {
    "scrolled": false
   },
   "outputs": [
    {
     "data": {
      "text/html": [
       "<div>\n",
       "<style scoped>\n",
       "    .dataframe tbody tr th:only-of-type {\n",
       "        vertical-align: middle;\n",
       "    }\n",
       "\n",
       "    .dataframe tbody tr th {\n",
       "        vertical-align: top;\n",
       "    }\n",
       "\n",
       "    .dataframe thead th {\n",
       "        text-align: right;\n",
       "    }\n",
       "</style>\n",
       "<table border=\"1\" class=\"dataframe\">\n",
       "  <thead>\n",
       "    <tr style=\"text-align: right;\">\n",
       "      <th></th>\n",
       "      <th>children</th>\n",
       "      <th>days_employed</th>\n",
       "      <th>dob_years</th>\n",
       "      <th>education</th>\n",
       "      <th>education_id</th>\n",
       "      <th>family_status</th>\n",
       "      <th>family_status_id</th>\n",
       "      <th>gender</th>\n",
       "      <th>income_type</th>\n",
       "      <th>debt</th>\n",
       "      <th>total_income</th>\n",
       "      <th>purpose</th>\n",
       "      <th>purpose_shortened</th>\n",
       "      <th>having_children</th>\n",
       "      <th>total_income_group</th>\n",
       "      <th>total_income_group_2</th>\n",
       "      <th>purpose_shortened_2</th>\n",
       "    </tr>\n",
       "  </thead>\n",
       "  <tbody>\n",
       "    <tr>\n",
       "      <td>0</td>\n",
       "      <td>1</td>\n",
       "      <td>8437</td>\n",
       "      <td>42</td>\n",
       "      <td>высшее</td>\n",
       "      <td>0</td>\n",
       "      <td>женат / замужем</td>\n",
       "      <td>0</td>\n",
       "      <td>F</td>\n",
       "      <td>сотрудник</td>\n",
       "      <td>False</td>\n",
       "      <td>253875</td>\n",
       "      <td>покупка жилья</td>\n",
       "      <td>жилье</td>\n",
       "      <td>True</td>\n",
       "      <td>богатые</td>\n",
       "      <td>(242019.571, 2265604.0]</td>\n",
       "      <td>жилье</td>\n",
       "    </tr>\n",
       "    <tr>\n",
       "      <td>1</td>\n",
       "      <td>1</td>\n",
       "      <td>4024</td>\n",
       "      <td>36</td>\n",
       "      <td>среднее</td>\n",
       "      <td>1</td>\n",
       "      <td>женат / замужем</td>\n",
       "      <td>0</td>\n",
       "      <td>F</td>\n",
       "      <td>сотрудник</td>\n",
       "      <td>False</td>\n",
       "      <td>112080</td>\n",
       "      <td>приобретение автомобиля</td>\n",
       "      <td>автомобиль</td>\n",
       "      <td>True</td>\n",
       "      <td>ниже среднего</td>\n",
       "      <td>(87295.429, 113605.571]</td>\n",
       "      <td>автомобиль</td>\n",
       "    </tr>\n",
       "    <tr>\n",
       "      <td>2</td>\n",
       "      <td>0</td>\n",
       "      <td>5623</td>\n",
       "      <td>33</td>\n",
       "      <td>среднее</td>\n",
       "      <td>1</td>\n",
       "      <td>женат / замужем</td>\n",
       "      <td>0</td>\n",
       "      <td>M</td>\n",
       "      <td>сотрудник</td>\n",
       "      <td>False</td>\n",
       "      <td>145885</td>\n",
       "      <td>покупка жилья</td>\n",
       "      <td>жилье</td>\n",
       "      <td>False</td>\n",
       "      <td>ниже среднего</td>\n",
       "      <td>(137468.0, 161380.0]</td>\n",
       "      <td>жилье</td>\n",
       "    </tr>\n",
       "    <tr>\n",
       "      <td>3</td>\n",
       "      <td>3</td>\n",
       "      <td>4124</td>\n",
       "      <td>32</td>\n",
       "      <td>среднее</td>\n",
       "      <td>1</td>\n",
       "      <td>женат / замужем</td>\n",
       "      <td>0</td>\n",
       "      <td>M</td>\n",
       "      <td>сотрудник</td>\n",
       "      <td>False</td>\n",
       "      <td>267628</td>\n",
       "      <td>дополнительное образование</td>\n",
       "      <td>образование</td>\n",
       "      <td>True</td>\n",
       "      <td>богатые</td>\n",
       "      <td>(242019.571, 2265604.0]</td>\n",
       "      <td>образование</td>\n",
       "    </tr>\n",
       "    <tr>\n",
       "      <td>4</td>\n",
       "      <td>0</td>\n",
       "      <td>340266</td>\n",
       "      <td>53</td>\n",
       "      <td>среднее</td>\n",
       "      <td>1</td>\n",
       "      <td>гражданский брак</td>\n",
       "      <td>1</td>\n",
       "      <td>F</td>\n",
       "      <td>пенсионер</td>\n",
       "      <td>False</td>\n",
       "      <td>158616</td>\n",
       "      <td>сыграть свадьбу</td>\n",
       "      <td>свадьба</td>\n",
       "      <td>False</td>\n",
       "      <td>средние</td>\n",
       "      <td>(137468.0, 161380.0]</td>\n",
       "      <td>свадьба</td>\n",
       "    </tr>\n",
       "    <tr>\n",
       "      <td>5</td>\n",
       "      <td>0</td>\n",
       "      <td>926</td>\n",
       "      <td>27</td>\n",
       "      <td>высшее</td>\n",
       "      <td>0</td>\n",
       "      <td>гражданский брак</td>\n",
       "      <td>1</td>\n",
       "      <td>M</td>\n",
       "      <td>компаньон</td>\n",
       "      <td>False</td>\n",
       "      <td>255763</td>\n",
       "      <td>покупка жилья</td>\n",
       "      <td>жилье</td>\n",
       "      <td>False</td>\n",
       "      <td>богатые</td>\n",
       "      <td>(242019.571, 2265604.0]</td>\n",
       "      <td>жилье</td>\n",
       "    </tr>\n",
       "    <tr>\n",
       "      <td>6</td>\n",
       "      <td>0</td>\n",
       "      <td>2879</td>\n",
       "      <td>43</td>\n",
       "      <td>высшее</td>\n",
       "      <td>0</td>\n",
       "      <td>женат / замужем</td>\n",
       "      <td>0</td>\n",
       "      <td>F</td>\n",
       "      <td>компаньон</td>\n",
       "      <td>False</td>\n",
       "      <td>240525</td>\n",
       "      <td>операции с жильем</td>\n",
       "      <td>жилье</td>\n",
       "      <td>False</td>\n",
       "      <td>выше среднего</td>\n",
       "      <td>(191703.143, 242019.571]</td>\n",
       "      <td>жилье</td>\n",
       "    </tr>\n",
       "    <tr>\n",
       "      <td>7</td>\n",
       "      <td>0</td>\n",
       "      <td>152</td>\n",
       "      <td>50</td>\n",
       "      <td>среднее</td>\n",
       "      <td>1</td>\n",
       "      <td>женат / замужем</td>\n",
       "      <td>0</td>\n",
       "      <td>M</td>\n",
       "      <td>сотрудник</td>\n",
       "      <td>False</td>\n",
       "      <td>135823</td>\n",
       "      <td>образование</td>\n",
       "      <td>образование</td>\n",
       "      <td>False</td>\n",
       "      <td>ниже среднего</td>\n",
       "      <td>(113605.571, 137468.0]</td>\n",
       "      <td>образование</td>\n",
       "    </tr>\n",
       "    <tr>\n",
       "      <td>8</td>\n",
       "      <td>2</td>\n",
       "      <td>6929</td>\n",
       "      <td>35</td>\n",
       "      <td>высшее</td>\n",
       "      <td>0</td>\n",
       "      <td>гражданский брак</td>\n",
       "      <td>1</td>\n",
       "      <td>F</td>\n",
       "      <td>сотрудник</td>\n",
       "      <td>False</td>\n",
       "      <td>95856</td>\n",
       "      <td>на проведение свадьбы</td>\n",
       "      <td>свадьба</td>\n",
       "      <td>True</td>\n",
       "      <td>бедные</td>\n",
       "      <td>(87295.429, 113605.571]</td>\n",
       "      <td>свадьба</td>\n",
       "    </tr>\n",
       "    <tr>\n",
       "      <td>9</td>\n",
       "      <td>0</td>\n",
       "      <td>2188</td>\n",
       "      <td>41</td>\n",
       "      <td>среднее</td>\n",
       "      <td>1</td>\n",
       "      <td>женат / замужем</td>\n",
       "      <td>0</td>\n",
       "      <td>M</td>\n",
       "      <td>сотрудник</td>\n",
       "      <td>False</td>\n",
       "      <td>144425</td>\n",
       "      <td>покупка жилья для семьи</td>\n",
       "      <td>жилье</td>\n",
       "      <td>False</td>\n",
       "      <td>ниже среднего</td>\n",
       "      <td>(137468.0, 161380.0]</td>\n",
       "      <td>жилье</td>\n",
       "    </tr>\n",
       "    <tr>\n",
       "      <td>10</td>\n",
       "      <td>2</td>\n",
       "      <td>4171</td>\n",
       "      <td>36</td>\n",
       "      <td>высшее</td>\n",
       "      <td>0</td>\n",
       "      <td>женат / замужем</td>\n",
       "      <td>0</td>\n",
       "      <td>M</td>\n",
       "      <td>компаньон</td>\n",
       "      <td>False</td>\n",
       "      <td>113943</td>\n",
       "      <td>покупка недвижимости</td>\n",
       "      <td>недвижимость</td>\n",
       "      <td>True</td>\n",
       "      <td>ниже среднего</td>\n",
       "      <td>(113605.571, 137468.0]</td>\n",
       "      <td>недвижимость</td>\n",
       "    </tr>\n",
       "    <tr>\n",
       "      <td>11</td>\n",
       "      <td>0</td>\n",
       "      <td>792</td>\n",
       "      <td>40</td>\n",
       "      <td>среднее</td>\n",
       "      <td>1</td>\n",
       "      <td>женат / замужем</td>\n",
       "      <td>0</td>\n",
       "      <td>F</td>\n",
       "      <td>сотрудник</td>\n",
       "      <td>False</td>\n",
       "      <td>77069</td>\n",
       "      <td>покупка коммерческой недвижимости</td>\n",
       "      <td>недвижимость</td>\n",
       "      <td>False</td>\n",
       "      <td>бедные</td>\n",
       "      <td>(20666.999, 87295.429]</td>\n",
       "      <td>недвижимость</td>\n",
       "    </tr>\n",
       "    <tr>\n",
       "      <td>12</td>\n",
       "      <td>0</td>\n",
       "      <td>365003</td>\n",
       "      <td>65</td>\n",
       "      <td>среднее</td>\n",
       "      <td>1</td>\n",
       "      <td>гражданский брак</td>\n",
       "      <td>1</td>\n",
       "      <td>M</td>\n",
       "      <td>пенсионер</td>\n",
       "      <td>False</td>\n",
       "      <td>137127</td>\n",
       "      <td>сыграть свадьбу</td>\n",
       "      <td>свадьба</td>\n",
       "      <td>False</td>\n",
       "      <td>ниже среднего</td>\n",
       "      <td>(113605.571, 137468.0]</td>\n",
       "      <td>свадьба</td>\n",
       "    </tr>\n",
       "    <tr>\n",
       "      <td>13</td>\n",
       "      <td>0</td>\n",
       "      <td>1846</td>\n",
       "      <td>54</td>\n",
       "      <td>неоконченное высшее</td>\n",
       "      <td>2</td>\n",
       "      <td>женат / замужем</td>\n",
       "      <td>0</td>\n",
       "      <td>F</td>\n",
       "      <td>сотрудник</td>\n",
       "      <td>False</td>\n",
       "      <td>130458</td>\n",
       "      <td>приобретение автомобиля</td>\n",
       "      <td>автомобиль</td>\n",
       "      <td>False</td>\n",
       "      <td>ниже среднего</td>\n",
       "      <td>(113605.571, 137468.0]</td>\n",
       "      <td>автомобиль</td>\n",
       "    </tr>\n",
       "    <tr>\n",
       "      <td>14</td>\n",
       "      <td>0</td>\n",
       "      <td>1844</td>\n",
       "      <td>56</td>\n",
       "      <td>высшее</td>\n",
       "      <td>0</td>\n",
       "      <td>гражданский брак</td>\n",
       "      <td>1</td>\n",
       "      <td>F</td>\n",
       "      <td>компаньон</td>\n",
       "      <td>True</td>\n",
       "      <td>165127</td>\n",
       "      <td>покупка жилой недвижимости</td>\n",
       "      <td>недвижимость</td>\n",
       "      <td>False</td>\n",
       "      <td>средние</td>\n",
       "      <td>(161380.0, 191703.143]</td>\n",
       "      <td>недвижимость</td>\n",
       "    </tr>\n",
       "    <tr>\n",
       "      <td>15</td>\n",
       "      <td>1</td>\n",
       "      <td>972</td>\n",
       "      <td>26</td>\n",
       "      <td>среднее</td>\n",
       "      <td>1</td>\n",
       "      <td>женат / замужем</td>\n",
       "      <td>0</td>\n",
       "      <td>F</td>\n",
       "      <td>сотрудник</td>\n",
       "      <td>False</td>\n",
       "      <td>116820</td>\n",
       "      <td>строительство собственной недвижимости</td>\n",
       "      <td>недвижимость</td>\n",
       "      <td>True</td>\n",
       "      <td>ниже среднего</td>\n",
       "      <td>(113605.571, 137468.0]</td>\n",
       "      <td>недвижимость</td>\n",
       "    </tr>\n",
       "    <tr>\n",
       "      <td>16</td>\n",
       "      <td>0</td>\n",
       "      <td>1719</td>\n",
       "      <td>35</td>\n",
       "      <td>среднее</td>\n",
       "      <td>1</td>\n",
       "      <td>женат / замужем</td>\n",
       "      <td>0</td>\n",
       "      <td>F</td>\n",
       "      <td>сотрудник</td>\n",
       "      <td>False</td>\n",
       "      <td>289202</td>\n",
       "      <td>недвижимость</td>\n",
       "      <td>недвижимость</td>\n",
       "      <td>False</td>\n",
       "      <td>богатые</td>\n",
       "      <td>(242019.571, 2265604.0]</td>\n",
       "      <td>недвижимость</td>\n",
       "    </tr>\n",
       "    <tr>\n",
       "      <td>17</td>\n",
       "      <td>0</td>\n",
       "      <td>2369</td>\n",
       "      <td>33</td>\n",
       "      <td>высшее</td>\n",
       "      <td>0</td>\n",
       "      <td>гражданский брак</td>\n",
       "      <td>1</td>\n",
       "      <td>M</td>\n",
       "      <td>сотрудник</td>\n",
       "      <td>False</td>\n",
       "      <td>90410</td>\n",
       "      <td>строительство недвижимости</td>\n",
       "      <td>недвижимость</td>\n",
       "      <td>False</td>\n",
       "      <td>бедные</td>\n",
       "      <td>(87295.429, 113605.571]</td>\n",
       "      <td>недвижимость</td>\n",
       "    </tr>\n",
       "    <tr>\n",
       "      <td>18</td>\n",
       "      <td>0</td>\n",
       "      <td>400281</td>\n",
       "      <td>53</td>\n",
       "      <td>среднее</td>\n",
       "      <td>1</td>\n",
       "      <td>вдовец / вдова</td>\n",
       "      <td>2</td>\n",
       "      <td>F</td>\n",
       "      <td>пенсионер</td>\n",
       "      <td>False</td>\n",
       "      <td>56823</td>\n",
       "      <td>на покупку подержанного автомобиля</td>\n",
       "      <td>автомобиль</td>\n",
       "      <td>False</td>\n",
       "      <td>бедные</td>\n",
       "      <td>(20666.999, 87295.429]</td>\n",
       "      <td>автомобиль</td>\n",
       "    </tr>\n",
       "    <tr>\n",
       "      <td>19</td>\n",
       "      <td>0</td>\n",
       "      <td>10038</td>\n",
       "      <td>48</td>\n",
       "      <td>среднее</td>\n",
       "      <td>1</td>\n",
       "      <td>в разводе</td>\n",
       "      <td>3</td>\n",
       "      <td>F</td>\n",
       "      <td>сотрудник</td>\n",
       "      <td>False</td>\n",
       "      <td>242831</td>\n",
       "      <td>на покупку своего автомобиля</td>\n",
       "      <td>автомобиль</td>\n",
       "      <td>False</td>\n",
       "      <td>выше среднего</td>\n",
       "      <td>(242019.571, 2265604.0]</td>\n",
       "      <td>автомобиль</td>\n",
       "    </tr>\n",
       "    <tr>\n",
       "      <td>20</td>\n",
       "      <td>1</td>\n",
       "      <td>1311</td>\n",
       "      <td>36</td>\n",
       "      <td>среднее</td>\n",
       "      <td>1</td>\n",
       "      <td>женат / замужем</td>\n",
       "      <td>0</td>\n",
       "      <td>M</td>\n",
       "      <td>сотрудник</td>\n",
       "      <td>False</td>\n",
       "      <td>209552</td>\n",
       "      <td>недвижимость</td>\n",
       "      <td>недвижимость</td>\n",
       "      <td>True</td>\n",
       "      <td>выше среднего</td>\n",
       "      <td>(191703.143, 242019.571]</td>\n",
       "      <td>недвижимость</td>\n",
       "    </tr>\n",
       "    <tr>\n",
       "      <td>21</td>\n",
       "      <td>1</td>\n",
       "      <td>253</td>\n",
       "      <td>33</td>\n",
       "      <td>среднее</td>\n",
       "      <td>1</td>\n",
       "      <td>гражданский брак</td>\n",
       "      <td>1</td>\n",
       "      <td>F</td>\n",
       "      <td>сотрудник</td>\n",
       "      <td>False</td>\n",
       "      <td>131812</td>\n",
       "      <td>приобретение автомобиля</td>\n",
       "      <td>автомобиль</td>\n",
       "      <td>True</td>\n",
       "      <td>ниже среднего</td>\n",
       "      <td>(113605.571, 137468.0]</td>\n",
       "      <td>автомобиль</td>\n",
       "    </tr>\n",
       "    <tr>\n",
       "      <td>22</td>\n",
       "      <td>1</td>\n",
       "      <td>1766</td>\n",
       "      <td>24</td>\n",
       "      <td>среднее</td>\n",
       "      <td>1</td>\n",
       "      <td>гражданский брак</td>\n",
       "      <td>1</td>\n",
       "      <td>F</td>\n",
       "      <td>сотрудник</td>\n",
       "      <td>False</td>\n",
       "      <td>149681</td>\n",
       "      <td>на покупку подержанного автомобиля</td>\n",
       "      <td>автомобиль</td>\n",
       "      <td>True</td>\n",
       "      <td>ниже среднего</td>\n",
       "      <td>(137468.0, 161380.0]</td>\n",
       "      <td>автомобиль</td>\n",
       "    </tr>\n",
       "    <tr>\n",
       "      <td>23</td>\n",
       "      <td>0</td>\n",
       "      <td>272</td>\n",
       "      <td>21</td>\n",
       "      <td>высшее</td>\n",
       "      <td>0</td>\n",
       "      <td>гражданский брак</td>\n",
       "      <td>1</td>\n",
       "      <td>M</td>\n",
       "      <td>сотрудник</td>\n",
       "      <td>False</td>\n",
       "      <td>128265</td>\n",
       "      <td>сыграть свадьбу</td>\n",
       "      <td>свадьба</td>\n",
       "      <td>False</td>\n",
       "      <td>ниже среднего</td>\n",
       "      <td>(113605.571, 137468.0]</td>\n",
       "      <td>свадьба</td>\n",
       "    </tr>\n",
       "    <tr>\n",
       "      <td>24</td>\n",
       "      <td>1</td>\n",
       "      <td>338551</td>\n",
       "      <td>57</td>\n",
       "      <td>среднее</td>\n",
       "      <td>1</td>\n",
       "      <td>не женат / не замужем</td>\n",
       "      <td>4</td>\n",
       "      <td>F</td>\n",
       "      <td>пенсионер</td>\n",
       "      <td>False</td>\n",
       "      <td>290547</td>\n",
       "      <td>операции с коммерческой недвижимостью</td>\n",
       "      <td>недвижимость</td>\n",
       "      <td>True</td>\n",
       "      <td>богатые</td>\n",
       "      <td>(242019.571, 2265604.0]</td>\n",
       "      <td>недвижимость</td>\n",
       "    </tr>\n",
       "    <tr>\n",
       "      <td>25</td>\n",
       "      <td>0</td>\n",
       "      <td>363548</td>\n",
       "      <td>67</td>\n",
       "      <td>среднее</td>\n",
       "      <td>1</td>\n",
       "      <td>женат / замужем</td>\n",
       "      <td>0</td>\n",
       "      <td>M</td>\n",
       "      <td>пенсионер</td>\n",
       "      <td>False</td>\n",
       "      <td>55112</td>\n",
       "      <td>покупка недвижимости</td>\n",
       "      <td>недвижимость</td>\n",
       "      <td>False</td>\n",
       "      <td>бедные</td>\n",
       "      <td>(20666.999, 87295.429]</td>\n",
       "      <td>недвижимость</td>\n",
       "    </tr>\n",
       "    <tr>\n",
       "      <td>26</td>\n",
       "      <td>0</td>\n",
       "      <td>3399</td>\n",
       "      <td>41</td>\n",
       "      <td>среднее</td>\n",
       "      <td>1</td>\n",
       "      <td>женат / замужем</td>\n",
       "      <td>0</td>\n",
       "      <td>M</td>\n",
       "      <td>госслужащий</td>\n",
       "      <td>False</td>\n",
       "      <td>170898</td>\n",
       "      <td>образование</td>\n",
       "      <td>образование</td>\n",
       "      <td>False</td>\n",
       "      <td>средние</td>\n",
       "      <td>(161380.0, 191703.143]</td>\n",
       "      <td>образование</td>\n",
       "    </tr>\n",
       "    <tr>\n",
       "      <td>27</td>\n",
       "      <td>0</td>\n",
       "      <td>529</td>\n",
       "      <td>28</td>\n",
       "      <td>высшее</td>\n",
       "      <td>0</td>\n",
       "      <td>женат / замужем</td>\n",
       "      <td>0</td>\n",
       "      <td>M</td>\n",
       "      <td>сотрудник</td>\n",
       "      <td>False</td>\n",
       "      <td>308848</td>\n",
       "      <td>строительство собственной недвижимости</td>\n",
       "      <td>недвижимость</td>\n",
       "      <td>False</td>\n",
       "      <td>богатые</td>\n",
       "      <td>(242019.571, 2265604.0]</td>\n",
       "      <td>недвижимость</td>\n",
       "    </tr>\n",
       "    <tr>\n",
       "      <td>28</td>\n",
       "      <td>1</td>\n",
       "      <td>717</td>\n",
       "      <td>26</td>\n",
       "      <td>высшее</td>\n",
       "      <td>0</td>\n",
       "      <td>женат / замужем</td>\n",
       "      <td>0</td>\n",
       "      <td>F</td>\n",
       "      <td>сотрудник</td>\n",
       "      <td>False</td>\n",
       "      <td>187863</td>\n",
       "      <td>строительство собственной недвижимости</td>\n",
       "      <td>недвижимость</td>\n",
       "      <td>True</td>\n",
       "      <td>средние</td>\n",
       "      <td>(161380.0, 191703.143]</td>\n",
       "      <td>недвижимость</td>\n",
       "    </tr>\n",
       "    <tr>\n",
       "      <td>29</td>\n",
       "      <td>0</td>\n",
       "      <td>365003</td>\n",
       "      <td>63</td>\n",
       "      <td>среднее</td>\n",
       "      <td>1</td>\n",
       "      <td>не женат / не замужем</td>\n",
       "      <td>4</td>\n",
       "      <td>F</td>\n",
       "      <td>пенсионер</td>\n",
       "      <td>False</td>\n",
       "      <td>137127</td>\n",
       "      <td>строительство жилой недвижимости</td>\n",
       "      <td>недвижимость</td>\n",
       "      <td>False</td>\n",
       "      <td>ниже среднего</td>\n",
       "      <td>(113605.571, 137468.0]</td>\n",
       "      <td>недвижимость</td>\n",
       "    </tr>\n",
       "  </tbody>\n",
       "</table>\n",
       "</div>"
      ],
      "text/plain": [
       "    children  days_employed  dob_years            education  education_id  \\\n",
       "0          1           8437         42               высшее             0   \n",
       "1          1           4024         36              среднее             1   \n",
       "2          0           5623         33              среднее             1   \n",
       "3          3           4124         32              среднее             1   \n",
       "4          0         340266         53              среднее             1   \n",
       "5          0            926         27               высшее             0   \n",
       "6          0           2879         43               высшее             0   \n",
       "7          0            152         50              среднее             1   \n",
       "8          2           6929         35               высшее             0   \n",
       "9          0           2188         41              среднее             1   \n",
       "10         2           4171         36               высшее             0   \n",
       "11         0            792         40              среднее             1   \n",
       "12         0         365003         65              среднее             1   \n",
       "13         0           1846         54  неоконченное высшее             2   \n",
       "14         0           1844         56               высшее             0   \n",
       "15         1            972         26              среднее             1   \n",
       "16         0           1719         35              среднее             1   \n",
       "17         0           2369         33               высшее             0   \n",
       "18         0         400281         53              среднее             1   \n",
       "19         0          10038         48              среднее             1   \n",
       "20         1           1311         36              среднее             1   \n",
       "21         1            253         33              среднее             1   \n",
       "22         1           1766         24              среднее             1   \n",
       "23         0            272         21               высшее             0   \n",
       "24         1         338551         57              среднее             1   \n",
       "25         0         363548         67              среднее             1   \n",
       "26         0           3399         41              среднее             1   \n",
       "27         0            529         28               высшее             0   \n",
       "28         1            717         26               высшее             0   \n",
       "29         0         365003         63              среднее             1   \n",
       "\n",
       "            family_status  family_status_id gender  income_type   debt  \\\n",
       "0         женат / замужем                 0      F    сотрудник  False   \n",
       "1         женат / замужем                 0      F    сотрудник  False   \n",
       "2         женат / замужем                 0      M    сотрудник  False   \n",
       "3         женат / замужем                 0      M    сотрудник  False   \n",
       "4        гражданский брак                 1      F    пенсионер  False   \n",
       "5        гражданский брак                 1      M    компаньон  False   \n",
       "6         женат / замужем                 0      F    компаньон  False   \n",
       "7         женат / замужем                 0      M    сотрудник  False   \n",
       "8        гражданский брак                 1      F    сотрудник  False   \n",
       "9         женат / замужем                 0      M    сотрудник  False   \n",
       "10        женат / замужем                 0      M    компаньон  False   \n",
       "11        женат / замужем                 0      F    сотрудник  False   \n",
       "12       гражданский брак                 1      M    пенсионер  False   \n",
       "13        женат / замужем                 0      F    сотрудник  False   \n",
       "14       гражданский брак                 1      F    компаньон   True   \n",
       "15        женат / замужем                 0      F    сотрудник  False   \n",
       "16        женат / замужем                 0      F    сотрудник  False   \n",
       "17       гражданский брак                 1      M    сотрудник  False   \n",
       "18         вдовец / вдова                 2      F    пенсионер  False   \n",
       "19              в разводе                 3      F    сотрудник  False   \n",
       "20        женат / замужем                 0      M    сотрудник  False   \n",
       "21       гражданский брак                 1      F    сотрудник  False   \n",
       "22       гражданский брак                 1      F    сотрудник  False   \n",
       "23       гражданский брак                 1      M    сотрудник  False   \n",
       "24  не женат / не замужем                 4      F    пенсионер  False   \n",
       "25        женат / замужем                 0      M    пенсионер  False   \n",
       "26        женат / замужем                 0      M  госслужащий  False   \n",
       "27        женат / замужем                 0      M    сотрудник  False   \n",
       "28        женат / замужем                 0      F    сотрудник  False   \n",
       "29  не женат / не замужем                 4      F    пенсионер  False   \n",
       "\n",
       "    total_income                                 purpose purpose_shortened  \\\n",
       "0         253875                           покупка жилья             жилье   \n",
       "1         112080                 приобретение автомобиля        автомобиль   \n",
       "2         145885                           покупка жилья             жилье   \n",
       "3         267628              дополнительное образование       образование   \n",
       "4         158616                         сыграть свадьбу           свадьба   \n",
       "5         255763                           покупка жилья             жилье   \n",
       "6         240525                       операции с жильем             жилье   \n",
       "7         135823                             образование       образование   \n",
       "8          95856                   на проведение свадьбы           свадьба   \n",
       "9         144425                 покупка жилья для семьи             жилье   \n",
       "10        113943                    покупка недвижимости      недвижимость   \n",
       "11         77069       покупка коммерческой недвижимости      недвижимость   \n",
       "12        137127                         сыграть свадьбу           свадьба   \n",
       "13        130458                 приобретение автомобиля        автомобиль   \n",
       "14        165127              покупка жилой недвижимости      недвижимость   \n",
       "15        116820  строительство собственной недвижимости      недвижимость   \n",
       "16        289202                            недвижимость      недвижимость   \n",
       "17         90410              строительство недвижимости      недвижимость   \n",
       "18         56823      на покупку подержанного автомобиля        автомобиль   \n",
       "19        242831            на покупку своего автомобиля        автомобиль   \n",
       "20        209552                            недвижимость      недвижимость   \n",
       "21        131812                 приобретение автомобиля        автомобиль   \n",
       "22        149681      на покупку подержанного автомобиля        автомобиль   \n",
       "23        128265                         сыграть свадьбу           свадьба   \n",
       "24        290547   операции с коммерческой недвижимостью      недвижимость   \n",
       "25         55112                    покупка недвижимости      недвижимость   \n",
       "26        170898                             образование       образование   \n",
       "27        308848  строительство собственной недвижимости      недвижимость   \n",
       "28        187863  строительство собственной недвижимости      недвижимость   \n",
       "29        137127        строительство жилой недвижимости      недвижимость   \n",
       "\n",
       "    having_children total_income_group      total_income_group_2  \\\n",
       "0              True            богатые   (242019.571, 2265604.0]   \n",
       "1              True      ниже среднего   (87295.429, 113605.571]   \n",
       "2             False      ниже среднего      (137468.0, 161380.0]   \n",
       "3              True            богатые   (242019.571, 2265604.0]   \n",
       "4             False            средние      (137468.0, 161380.0]   \n",
       "5             False            богатые   (242019.571, 2265604.0]   \n",
       "6             False      выше среднего  (191703.143, 242019.571]   \n",
       "7             False      ниже среднего    (113605.571, 137468.0]   \n",
       "8              True             бедные   (87295.429, 113605.571]   \n",
       "9             False      ниже среднего      (137468.0, 161380.0]   \n",
       "10             True      ниже среднего    (113605.571, 137468.0]   \n",
       "11            False             бедные    (20666.999, 87295.429]   \n",
       "12            False      ниже среднего    (113605.571, 137468.0]   \n",
       "13            False      ниже среднего    (113605.571, 137468.0]   \n",
       "14            False            средние    (161380.0, 191703.143]   \n",
       "15             True      ниже среднего    (113605.571, 137468.0]   \n",
       "16            False            богатые   (242019.571, 2265604.0]   \n",
       "17            False             бедные   (87295.429, 113605.571]   \n",
       "18            False             бедные    (20666.999, 87295.429]   \n",
       "19            False      выше среднего   (242019.571, 2265604.0]   \n",
       "20             True      выше среднего  (191703.143, 242019.571]   \n",
       "21             True      ниже среднего    (113605.571, 137468.0]   \n",
       "22             True      ниже среднего      (137468.0, 161380.0]   \n",
       "23            False      ниже среднего    (113605.571, 137468.0]   \n",
       "24             True            богатые   (242019.571, 2265604.0]   \n",
       "25            False             бедные    (20666.999, 87295.429]   \n",
       "26            False            средние    (161380.0, 191703.143]   \n",
       "27            False            богатые   (242019.571, 2265604.0]   \n",
       "28             True            средние    (161380.0, 191703.143]   \n",
       "29            False      ниже среднего    (113605.571, 137468.0]   \n",
       "\n",
       "   purpose_shortened_2  \n",
       "0                жилье  \n",
       "1           автомобиль  \n",
       "2                жилье  \n",
       "3          образование  \n",
       "4              свадьба  \n",
       "5                жилье  \n",
       "6                жилье  \n",
       "7          образование  \n",
       "8              свадьба  \n",
       "9                жилье  \n",
       "10        недвижимость  \n",
       "11        недвижимость  \n",
       "12             свадьба  \n",
       "13          автомобиль  \n",
       "14        недвижимость  \n",
       "15        недвижимость  \n",
       "16        недвижимость  \n",
       "17        недвижимость  \n",
       "18          автомобиль  \n",
       "19          автомобиль  \n",
       "20        недвижимость  \n",
       "21          автомобиль  \n",
       "22          автомобиль  \n",
       "23             свадьба  \n",
       "24        недвижимость  \n",
       "25        недвижимость  \n",
       "26         образование  \n",
       "27        недвижимость  \n",
       "28        недвижимость  \n",
       "29        недвижимость  "
      ]
     },
     "metadata": {},
     "output_type": "display_data"
    }
   ],
   "source": [
    "# data['purpose_shortened_2'] = data['purpose'].apply(lambda text: m.lemmatize(text))\n",
    "# display(data.head(10))\n",
    "data['purpose_shortened_2'] = data['purpose'].apply(lambda text: intersection(m.lemmatize(text)))\n",
    "display(data.head(30))"
   ]
  },
  {
   "cell_type": "markdown",
   "metadata": {},
   "source": [
    "<div class=\"alert alert-success\">\n",
    "<h2> Комментарий ревьюера </h2>\n",
    "    \n",
    "Лемматиация сделана верно! Теперь можешь смело пользоваться этим инструментом :)\n",
    "\n",
    "m.lemmatize() в комбинации с apply() можно применить через лямбда функцию: data['purpose'].apply(lambda text: m.lemmatize(text))\n",
    "    \n",
    "Подробнее про лямбда функции можно прочить здесь: https://webdevblog.ru/kak-ispolzovat-v-python-lyambda-funkcii/\n",
    "\n",
    "    \n",
    "    \n",
    "P.S. Цели \"жильё\" и \"недвижимость\" выглядят сильно похоже, согласен?\n",
    "</div>"
   ]
  },
  {
   "cell_type": "markdown",
   "metadata": {},
   "source": [
    "### Ответ"
   ]
  },
  {
   "cell_type": "markdown",
   "metadata": {},
   "source": [
    "Жильё может означать как дом, так и квартиру. Недвижимость почти в трети случаев включает слово \"строительство\", т.е. недвижимость — это скорее частный дом. Перебравшись на юг, обнаружил, что многие предпочитают жить в частных домах.\n",
    "\n",
    "Кроме того, разделение недвижимости и жилья не повлияло на вывод исследования."
   ]
  },
  {
   "cell_type": "markdown",
   "metadata": {},
   "source": [
    "### Вывод"
   ]
  },
  {
   "cell_type": "markdown",
   "metadata": {},
   "source": [
    "Выделены основные цели получения кредита, на их основе создан столбец `purpose_shortened`, однозначно определяющий цель каждого заёмщика."
   ]
  },
  {
   "cell_type": "markdown",
   "metadata": {},
   "source": [
    "### Категоризация данных"
   ]
  },
  {
   "cell_type": "markdown",
   "metadata": {},
   "source": [
    "Для ответов на вопросы 1 и 3 категоризируем столбцы `children` — количество детей в семье и `total_income` — ежемесячный доход.\n",
    "\n",
    "Создадим функцию `having_children` для категоризации наличия детей."
   ]
  },
  {
   "cell_type": "code",
   "execution_count": 28,
   "metadata": {},
   "outputs": [],
   "source": [
    "def having_children(children):\n",
    "    \"\"\"\n",
    "     Возвращает True, если дети есть\n",
    "     Возвращает False, если детей нет\n",
    "    \"\"\"\n",
    "    if children > 0:\n",
    "        return True\n",
    "    return False"
   ]
  },
  {
   "cell_type": "markdown",
   "metadata": {},
   "source": [
    "Создадим столбец `having_children` для определения наличия детей."
   ]
  },
  {
   "cell_type": "code",
   "execution_count": 29,
   "metadata": {},
   "outputs": [],
   "source": [
    "data['having_children'] = data['children'].apply(having_children)"
   ]
  },
  {
   "cell_type": "markdown",
   "metadata": {},
   "source": [
    "Создадим функцию `total_income_leveling` для категоризации уровня дохода. Пороги для каждой группы и их количество выбраны условно. Численность групп соразмерна."
   ]
  },
  {
   "cell_type": "code",
   "execution_count": 30,
   "metadata": {},
   "outputs": [],
   "source": [
    "def total_income_leveling(income):\n",
    "    \"\"\"\n",
    "     Возвращает уровень дохода по значению дохода income, используя правила:\n",
    "        - 'бедные' при значении income < 100000\n",
    "        - 'ниже среднего' при значении income более 100000 и менее 150000, включая 150000\n",
    "        - 'средние' при значении income более 150000 и менее 200000, включая 200000\n",
    "        - 'выше среднего' при значении income более 200000 и менее 250000, включая 250000\n",
    "        - 'богатые' во всех остальных случаях\n",
    "    \"\"\"\n",
    "    if income < 100000:\n",
    "        return 'бедные'\n",
    "    if income <= 150000:\n",
    "        return 'ниже среднего'\n",
    "    if income <= 200000:\n",
    "        return 'средние'\n",
    "    if income <= 250000:\n",
    "        return 'выше среднего'\n",
    "    return 'богатые'"
   ]
  },
  {
   "cell_type": "markdown",
   "metadata": {},
   "source": [
    "Создадим столбец `total_income_group` для определения уровня дохода."
   ]
  },
  {
   "cell_type": "code",
   "execution_count": 31,
   "metadata": {},
   "outputs": [],
   "source": [
    "data['total_income_group'] = data['total_income'].apply(total_income_leveling)"
   ]
  },
  {
   "cell_type": "markdown",
   "metadata": {},
   "source": [
    "### Вывод"
   ]
  },
  {
   "cell_type": "markdown",
   "metadata": {},
   "source": [
    "Для ответов на вопросы 1 и 3 созданы следующие столбцы:"
   ]
  },
  {
   "cell_type": "markdown",
   "metadata": {},
   "source": [
    "- `having_children` для распределения по двум категориям — заёмщики с детьми и бездетные;"
   ]
  },
  {
   "cell_type": "markdown",
   "metadata": {},
   "source": [
    "- `total_income_group` для распределения по пяти категориям в зависимости от уровня дохода."
   ]
  },
  {
   "cell_type": "markdown",
   "metadata": {},
   "source": [
    "<div class=\"alert alert-warning\">\n",
    "<h2> Комментарий ревьюера </h2>\n",
    "    \n",
    "Добавь пояснение, почему выделены такие границы для категорий с заработком. На основе каких данных?\n",
    "\n",
    "</div>"
   ]
  },
  {
   "cell_type": "markdown",
   "metadata": {},
   "source": [
    "### Исправления"
   ]
  },
  {
   "cell_type": "markdown",
   "metadata": {},
   "source": [
    "Границы для категорий с заработком были выбраны условно по критерию соразмерной численности после нескольких попыток.\n",
    "\n",
    "Изменим категоризацию, разделив уровень дохода на семь приблизительно равных по количеству заёмщиков частей посредством функции `qcut()` и записав принадлежность в столбец `total_income_group_2`."
   ]
  },
  {
   "cell_type": "code",
   "execution_count": 32,
   "metadata": {
    "scrolled": true
   },
   "outputs": [],
   "source": [
    "data['total_income_group_2'] = pd.qcut(data['total_income'], 7)"
   ]
  },
  {
   "cell_type": "markdown",
   "metadata": {},
   "source": [
    "Выведем получившиеся категории на экран."
   ]
  },
  {
   "cell_type": "code",
   "execution_count": 33,
   "metadata": {
    "scrolled": false
   },
   "outputs": [
    {
     "data": {
      "text/plain": [
       "(137468.0, 161380.0]        3535\n",
       "(113605.571, 137468.0]      3066\n",
       "(242019.571, 2265604.0]     3065\n",
       "(191703.143, 242019.571]    3065\n",
       "(87295.429, 113605.571]     3065\n",
       "(20666.999, 87295.429]      3065\n",
       "(161380.0, 191703.143]      2593\n",
       "Name: total_income_group_2, dtype: int64"
      ]
     },
     "metadata": {},
     "output_type": "display_data"
    }
   ],
   "source": [
    "display(data['total_income_group_2'].value_counts())"
   ]
  },
  {
   "cell_type": "markdown",
   "metadata": {},
   "source": [
    "<div class=\"alert alert-success\">\n",
    "<h2> Комментарий ревьюера v2 </h2>\n",
    "    \n",
    "Действительно, если нужно разделить на соразмерные группы, то можно использовать эту функцию. Отлично! :)\n",
    "    \n",
    "Категории лучше выбирать на основе расчётов или каких-то статистических данных. Ручной подбор несовсем удобен.\n",
    "\n",
    "</div>"
   ]
  },
  {
   "cell_type": "markdown",
   "metadata": {},
   "source": [
    "### Шаг 3. Ответьте на вопросы"
   ]
  },
  {
   "cell_type": "markdown",
   "metadata": {},
   "source": [
    "- Есть ли зависимость между наличием детей и возвратом кредита в срок?"
   ]
  },
  {
   "cell_type": "markdown",
   "metadata": {},
   "source": [
    "Сгруппируем должников по наличию детей."
   ]
  },
  {
   "cell_type": "code",
   "execution_count": 34,
   "metadata": {
    "scrolled": false
   },
   "outputs": [],
   "source": [
    "having_children_debt = data.groupby('having_children')['debt'].sum()"
   ]
  },
  {
   "cell_type": "markdown",
   "metadata": {},
   "source": [
    "Подсчитаем общее количество заёмщиков по наличию детей."
   ]
  },
  {
   "cell_type": "code",
   "execution_count": 35,
   "metadata": {
    "scrolled": false
   },
   "outputs": [],
   "source": [
    "having_children_total = data.groupby('having_children')['debt'].count()"
   ]
  },
  {
   "cell_type": "markdown",
   "metadata": {},
   "source": [
    "Найдём относительное количество должников по наличию детей, поделив количество должников на общее количество."
   ]
  },
  {
   "cell_type": "code",
   "execution_count": 36,
   "metadata": {
    "scrolled": true
   },
   "outputs": [],
   "source": [
    "having_children_relative = having_children_debt / having_children_total"
   ]
  },
  {
   "cell_type": "markdown",
   "metadata": {},
   "source": [
    "Объединим получившиеся объекты `Series` при помощи функции `dict` и выведем на экран с сортировкой."
   ]
  },
  {
   "cell_type": "code",
   "execution_count": 37,
   "metadata": {
    "scrolled": true
   },
   "outputs": [
    {
     "data": {
      "text/html": [
       "<div>\n",
       "<style scoped>\n",
       "    .dataframe tbody tr th:only-of-type {\n",
       "        vertical-align: middle;\n",
       "    }\n",
       "\n",
       "    .dataframe tbody tr th {\n",
       "        vertical-align: top;\n",
       "    }\n",
       "\n",
       "    .dataframe thead th {\n",
       "        text-align: right;\n",
       "    }\n",
       "</style>\n",
       "<table border=\"1\" class=\"dataframe\">\n",
       "  <thead>\n",
       "    <tr style=\"text-align: right;\">\n",
       "      <th></th>\n",
       "      <th>debt</th>\n",
       "      <th>total</th>\n",
       "      <th>relative</th>\n",
       "    </tr>\n",
       "    <tr>\n",
       "      <th>having_children</th>\n",
       "      <th></th>\n",
       "      <th></th>\n",
       "      <th></th>\n",
       "    </tr>\n",
       "  </thead>\n",
       "  <tbody>\n",
       "    <tr>\n",
       "      <td>True</td>\n",
       "      <td>678.0</td>\n",
       "      <td>7363</td>\n",
       "      <td>0.092082</td>\n",
       "    </tr>\n",
       "    <tr>\n",
       "      <td>False</td>\n",
       "      <td>1063.0</td>\n",
       "      <td>14091</td>\n",
       "      <td>0.075438</td>\n",
       "    </tr>\n",
       "  </tbody>\n",
       "</table>\n",
       "</div>"
      ],
      "text/plain": [
       "                   debt  total  relative\n",
       "having_children                         \n",
       "True              678.0   7363  0.092082\n",
       "False            1063.0  14091  0.075438"
      ]
     },
     "metadata": {},
     "output_type": "display_data"
    }
   ],
   "source": [
    "display(pd.DataFrame(dict(debt = having_children_debt, total = having_children_total, relative = having_children_relative)).sort_values('relative', ascending = False))"
   ]
  },
  {
   "cell_type": "markdown",
   "metadata": {},
   "source": [
    "### Проделаем тоже самое при помощи pivot_table()"
   ]
  },
  {
   "cell_type": "markdown",
   "metadata": {},
   "source": [
    "Сгруппируем должников по наличию детей."
   ]
  },
  {
   "cell_type": "code",
   "execution_count": 38,
   "metadata": {
    "scrolled": false
   },
   "outputs": [],
   "source": [
    "having_children_debt = data.pivot_table(index='having_children', values='debt', aggfunc='sum')"
   ]
  },
  {
   "cell_type": "markdown",
   "metadata": {},
   "source": [
    "Подсчитаем общее количество заёмщиков по наличию детей."
   ]
  },
  {
   "cell_type": "code",
   "execution_count": 39,
   "metadata": {
    "scrolled": false
   },
   "outputs": [],
   "source": [
    "having_children_total = data.pivot_table(index='having_children', values='debt', aggfunc='count')"
   ]
  },
  {
   "cell_type": "markdown",
   "metadata": {},
   "source": [
    "Объединим получившиеся объекты методом `merge()`."
   ]
  },
  {
   "cell_type": "code",
   "execution_count": 40,
   "metadata": {
    "scrolled": false
   },
   "outputs": [],
   "source": [
    "having_children_relative = having_children_debt.merge(having_children_total, on='having_children', how='right')"
   ]
  },
  {
   "cell_type": "markdown",
   "metadata": {},
   "source": [
    "Изменим заголовки на `debt` и `total`."
   ]
  },
  {
   "cell_type": "code",
   "execution_count": 41,
   "metadata": {
    "scrolled": true
   },
   "outputs": [],
   "source": [
    "having_children_relative.columns = ['debt','total']"
   ]
  },
  {
   "cell_type": "markdown",
   "metadata": {},
   "source": [
    "Найдём относительное количество должников `relative` по наличию детей, поделив количество должников на общее количество заёмщиков, и выведем на экран с сортировкой."
   ]
  },
  {
   "cell_type": "code",
   "execution_count": 42,
   "metadata": {
    "scrolled": false
   },
   "outputs": [
    {
     "data": {
      "text/html": [
       "<div>\n",
       "<style scoped>\n",
       "    .dataframe tbody tr th:only-of-type {\n",
       "        vertical-align: middle;\n",
       "    }\n",
       "\n",
       "    .dataframe tbody tr th {\n",
       "        vertical-align: top;\n",
       "    }\n",
       "\n",
       "    .dataframe thead th {\n",
       "        text-align: right;\n",
       "    }\n",
       "</style>\n",
       "<table border=\"1\" class=\"dataframe\">\n",
       "  <thead>\n",
       "    <tr style=\"text-align: right;\">\n",
       "      <th></th>\n",
       "      <th>debt</th>\n",
       "      <th>total</th>\n",
       "      <th>relative</th>\n",
       "    </tr>\n",
       "    <tr>\n",
       "      <th>having_children</th>\n",
       "      <th></th>\n",
       "      <th></th>\n",
       "      <th></th>\n",
       "    </tr>\n",
       "  </thead>\n",
       "  <tbody>\n",
       "    <tr>\n",
       "      <td>True</td>\n",
       "      <td>678.0</td>\n",
       "      <td>7363</td>\n",
       "      <td>0.092082</td>\n",
       "    </tr>\n",
       "    <tr>\n",
       "      <td>False</td>\n",
       "      <td>1063.0</td>\n",
       "      <td>14091</td>\n",
       "      <td>0.075438</td>\n",
       "    </tr>\n",
       "  </tbody>\n",
       "</table>\n",
       "</div>"
      ],
      "text/plain": [
       "                   debt  total  relative\n",
       "having_children                         \n",
       "True              678.0   7363  0.092082\n",
       "False            1063.0  14091  0.075438"
      ]
     },
     "metadata": {},
     "output_type": "display_data"
    }
   ],
   "source": [
    "having_children_relative['relative'] = having_children_relative['debt'] / having_children_relative['total']\n",
    "display(having_children_relative.sort_values('relative', ascending = False))"
   ]
  },
  {
   "cell_type": "markdown",
   "metadata": {},
   "source": [
    "### Вывод"
   ]
  },
  {
   "cell_type": "markdown",
   "metadata": {},
   "source": [
    "**Отсутствие детей помогает вернуть кредит в срок.**"
   ]
  },
  {
   "cell_type": "markdown",
   "metadata": {},
   "source": [
    "<div class=\"alert alert-success\">\n",
    "<h2> Комментарий ревьюера </h2>\n",
    "    \n",
    "Ты верно провёл вычисления и сделал по ним логичный вывод, отлично! :)\n",
    "</div>"
   ]
  },
  {
   "cell_type": "markdown",
   "metadata": {},
   "source": [
    "- Есть ли зависимость между семейным положением и возвратом кредита в срок?"
   ]
  },
  {
   "cell_type": "markdown",
   "metadata": {},
   "source": [
    "Сгруппируем должников по семейному положению."
   ]
  },
  {
   "cell_type": "code",
   "execution_count": 43,
   "metadata": {
    "scrolled": true
   },
   "outputs": [],
   "source": [
    "family_status_debt = data.groupby('family_status')['debt'].sum()"
   ]
  },
  {
   "cell_type": "markdown",
   "metadata": {},
   "source": [
    "Подсчитаем общее количество заёмщиков по семейному положению."
   ]
  },
  {
   "cell_type": "code",
   "execution_count": 44,
   "metadata": {
    "scrolled": false
   },
   "outputs": [],
   "source": [
    "family_status_total = data.groupby('family_status')['debt'].count()"
   ]
  },
  {
   "cell_type": "markdown",
   "metadata": {},
   "source": [
    "Подсчитаем средний возраст заёмщиков по семейному положению."
   ]
  },
  {
   "cell_type": "code",
   "execution_count": 45,
   "metadata": {
    "scrolled": false
   },
   "outputs": [],
   "source": [
    "family_status_age = data.groupby('family_status')['dob_years'].mean()"
   ]
  },
  {
   "cell_type": "markdown",
   "metadata": {},
   "source": [
    "Найдём относительное количество должников по семейному положению, поделив количество должников на общее количество."
   ]
  },
  {
   "cell_type": "code",
   "execution_count": 46,
   "metadata": {
    "scrolled": false
   },
   "outputs": [],
   "source": [
    "family_status_relative = family_status_debt / family_status_total"
   ]
  },
  {
   "cell_type": "markdown",
   "metadata": {},
   "source": [
    "Объединим получившиеся объекты `Series` при помощи функции `dict` и выведем на экран с сортировкой."
   ]
  },
  {
   "cell_type": "code",
   "execution_count": 47,
   "metadata": {
    "scrolled": false
   },
   "outputs": [
    {
     "data": {
      "text/html": [
       "<div>\n",
       "<style scoped>\n",
       "    .dataframe tbody tr th:only-of-type {\n",
       "        vertical-align: middle;\n",
       "    }\n",
       "\n",
       "    .dataframe tbody tr th {\n",
       "        vertical-align: top;\n",
       "    }\n",
       "\n",
       "    .dataframe thead th {\n",
       "        text-align: right;\n",
       "    }\n",
       "</style>\n",
       "<table border=\"1\" class=\"dataframe\">\n",
       "  <thead>\n",
       "    <tr style=\"text-align: right;\">\n",
       "      <th></th>\n",
       "      <th>debt</th>\n",
       "      <th>total</th>\n",
       "      <th>relative</th>\n",
       "      <th>mean_age</th>\n",
       "    </tr>\n",
       "    <tr>\n",
       "      <th>family_status</th>\n",
       "      <th></th>\n",
       "      <th></th>\n",
       "      <th></th>\n",
       "      <th></th>\n",
       "    </tr>\n",
       "  </thead>\n",
       "  <tbody>\n",
       "    <tr>\n",
       "      <td>не женат / не замужем</td>\n",
       "      <td>274.0</td>\n",
       "      <td>2810</td>\n",
       "      <td>0.097509</td>\n",
       "      <td>38.631317</td>\n",
       "    </tr>\n",
       "    <tr>\n",
       "      <td>гражданский брак</td>\n",
       "      <td>388.0</td>\n",
       "      <td>4151</td>\n",
       "      <td>0.093471</td>\n",
       "      <td>42.290773</td>\n",
       "    </tr>\n",
       "    <tr>\n",
       "      <td>женат / замужем</td>\n",
       "      <td>931.0</td>\n",
       "      <td>12339</td>\n",
       "      <td>0.075452</td>\n",
       "      <td>43.728260</td>\n",
       "    </tr>\n",
       "    <tr>\n",
       "      <td>в разводе</td>\n",
       "      <td>85.0</td>\n",
       "      <td>1195</td>\n",
       "      <td>0.071130</td>\n",
       "      <td>45.904603</td>\n",
       "    </tr>\n",
       "    <tr>\n",
       "      <td>вдовец / вдова</td>\n",
       "      <td>63.0</td>\n",
       "      <td>959</td>\n",
       "      <td>0.065693</td>\n",
       "      <td>56.811262</td>\n",
       "    </tr>\n",
       "  </tbody>\n",
       "</table>\n",
       "</div>"
      ],
      "text/plain": [
       "                        debt  total  relative   mean_age\n",
       "family_status                                           \n",
       "не женат / не замужем  274.0   2810  0.097509  38.631317\n",
       "гражданский брак       388.0   4151  0.093471  42.290773\n",
       "женат / замужем        931.0  12339  0.075452  43.728260\n",
       "в разводе               85.0   1195  0.071130  45.904603\n",
       "вдовец / вдова          63.0    959  0.065693  56.811262"
      ]
     },
     "metadata": {},
     "output_type": "display_data"
    }
   ],
   "source": [
    "display(pd.DataFrame(dict(debt = family_status_debt, total = family_status_total, relative = family_status_relative, mean_age = family_status_age)).sort_values('relative', ascending = False))"
   ]
  },
  {
   "cell_type": "markdown",
   "metadata": {},
   "source": [
    "### Проделаем тоже самое при помощи pivot_table()"
   ]
  },
  {
   "cell_type": "markdown",
   "metadata": {},
   "source": [
    "Сгруппируем должников по семейному положению."
   ]
  },
  {
   "cell_type": "code",
   "execution_count": 48,
   "metadata": {
    "scrolled": true
   },
   "outputs": [],
   "source": [
    "family_status_debt = data.pivot_table(index='family_status', values='debt', aggfunc='sum')"
   ]
  },
  {
   "cell_type": "markdown",
   "metadata": {},
   "source": [
    "Подсчитаем общее количество заёмщиков по семейному положению."
   ]
  },
  {
   "cell_type": "code",
   "execution_count": 49,
   "metadata": {
    "scrolled": false
   },
   "outputs": [],
   "source": [
    "family_status_total = data.pivot_table(index='family_status', values='debt', aggfunc='count')"
   ]
  },
  {
   "cell_type": "markdown",
   "metadata": {},
   "source": [
    "Подсчитаем средний возраст заёмщиков по семейному положению."
   ]
  },
  {
   "cell_type": "code",
   "execution_count": 50,
   "metadata": {
    "scrolled": false
   },
   "outputs": [],
   "source": [
    "family_status_age = data.pivot_table(index='family_status', values='dob_years', aggfunc='mean')"
   ]
  },
  {
   "cell_type": "markdown",
   "metadata": {},
   "source": [
    "Объединим получившиеся объекты методом `merge()`."
   ]
  },
  {
   "cell_type": "code",
   "execution_count": 51,
   "metadata": {
    "scrolled": false
   },
   "outputs": [],
   "source": [
    "family_status_relative = family_status_debt.merge(family_status_total, on='family_status', how='right')\n",
    "family_status_relative = family_status_relative.merge(family_status_age, on='family_status', how='right')"
   ]
  },
  {
   "cell_type": "markdown",
   "metadata": {},
   "source": [
    "Изменим заголовки на `debt`, `total` и `mean_age`."
   ]
  },
  {
   "cell_type": "code",
   "execution_count": 52,
   "metadata": {
    "scrolled": true
   },
   "outputs": [],
   "source": [
    "family_status_relative.columns = ['debt','total', 'mean_age']"
   ]
  },
  {
   "cell_type": "markdown",
   "metadata": {},
   "source": [
    "Найдём относительное количество должников `relative` по семейному положению, поделив количество должников на общее количество, и выведем на экран с сортировкой."
   ]
  },
  {
   "cell_type": "code",
   "execution_count": 53,
   "metadata": {
    "scrolled": false
   },
   "outputs": [
    {
     "data": {
      "text/html": [
       "<div>\n",
       "<style scoped>\n",
       "    .dataframe tbody tr th:only-of-type {\n",
       "        vertical-align: middle;\n",
       "    }\n",
       "\n",
       "    .dataframe tbody tr th {\n",
       "        vertical-align: top;\n",
       "    }\n",
       "\n",
       "    .dataframe thead th {\n",
       "        text-align: right;\n",
       "    }\n",
       "</style>\n",
       "<table border=\"1\" class=\"dataframe\">\n",
       "  <thead>\n",
       "    <tr style=\"text-align: right;\">\n",
       "      <th></th>\n",
       "      <th>debt</th>\n",
       "      <th>total</th>\n",
       "      <th>mean_age</th>\n",
       "      <th>relative</th>\n",
       "    </tr>\n",
       "    <tr>\n",
       "      <th>family_status</th>\n",
       "      <th></th>\n",
       "      <th></th>\n",
       "      <th></th>\n",
       "      <th></th>\n",
       "    </tr>\n",
       "  </thead>\n",
       "  <tbody>\n",
       "    <tr>\n",
       "      <td>не женат / не замужем</td>\n",
       "      <td>274.0</td>\n",
       "      <td>2810</td>\n",
       "      <td>38.631317</td>\n",
       "      <td>0.097509</td>\n",
       "    </tr>\n",
       "    <tr>\n",
       "      <td>гражданский брак</td>\n",
       "      <td>388.0</td>\n",
       "      <td>4151</td>\n",
       "      <td>42.290773</td>\n",
       "      <td>0.093471</td>\n",
       "    </tr>\n",
       "    <tr>\n",
       "      <td>женат / замужем</td>\n",
       "      <td>931.0</td>\n",
       "      <td>12339</td>\n",
       "      <td>43.728260</td>\n",
       "      <td>0.075452</td>\n",
       "    </tr>\n",
       "    <tr>\n",
       "      <td>в разводе</td>\n",
       "      <td>85.0</td>\n",
       "      <td>1195</td>\n",
       "      <td>45.904603</td>\n",
       "      <td>0.071130</td>\n",
       "    </tr>\n",
       "    <tr>\n",
       "      <td>вдовец / вдова</td>\n",
       "      <td>63.0</td>\n",
       "      <td>959</td>\n",
       "      <td>56.811262</td>\n",
       "      <td>0.065693</td>\n",
       "    </tr>\n",
       "  </tbody>\n",
       "</table>\n",
       "</div>"
      ],
      "text/plain": [
       "                        debt  total   mean_age  relative\n",
       "family_status                                           \n",
       "не женат / не замужем  274.0   2810  38.631317  0.097509\n",
       "гражданский брак       388.0   4151  42.290773  0.093471\n",
       "женат / замужем        931.0  12339  43.728260  0.075452\n",
       "в разводе               85.0   1195  45.904603  0.071130\n",
       "вдовец / вдова          63.0    959  56.811262  0.065693"
      ]
     },
     "metadata": {},
     "output_type": "display_data"
    }
   ],
   "source": [
    "family_status_relative['relative'] = family_status_relative['debt'] / family_status_relative['total']\n",
    "display(family_status_relative.sort_values('relative', ascending = False))"
   ]
  },
  {
   "cell_type": "markdown",
   "metadata": {},
   "source": [
    "### Вывод"
   ]
  },
  {
   "cell_type": "markdown",
   "metadata": {},
   "source": [
    "**Чаще всего кредиты не возвращают холостяки и живущие в гражданском браке. Возможно, ввиду молодости заёмщиков?**\n",
    "\n",
    "**Реже всего — вдовцы / вдовы и разведённые.**\n",
    "\n",
    "**Дополнение: молодость действительно связана с семейным положением и просрочкой по кредиту.**"
   ]
  },
  {
   "cell_type": "markdown",
   "metadata": {},
   "source": [
    "<div class=\"alert alert-success\">\n",
    "<h2> Комментарий ревьюера </h2>\n",
    "    \n",
    "Да, вполне логичное предположение на основе имеющихся данных.\n",
    "    \n",
    "Когда анализируемых категорий становится много, удобно визуализировать подобные вычисления, например гистограммами. Глазу будет легче анализировать информацию по критерию больше / меньше, чем глядя на числа в таблице. Также можно ограничить количество знаков после запятой, что тоже упростит восприятие :)\n",
    "</div>"
   ]
  },
  {
   "cell_type": "markdown",
   "metadata": {},
   "source": [
    "- Есть ли зависимость между уровнем дохода и возвратом кредита в срок?"
   ]
  },
  {
   "cell_type": "markdown",
   "metadata": {},
   "source": [
    "Сгруппируем должников по уровню дохода."
   ]
  },
  {
   "cell_type": "code",
   "execution_count": 54,
   "metadata": {
    "scrolled": true
   },
   "outputs": [],
   "source": [
    "total_income_debt = data.groupby('total_income_group_2')['debt'].sum()"
   ]
  },
  {
   "cell_type": "markdown",
   "metadata": {},
   "source": [
    "Подсчитаем общее количество заёмщиков по уровню дохода."
   ]
  },
  {
   "cell_type": "code",
   "execution_count": 55,
   "metadata": {},
   "outputs": [],
   "source": [
    "total_income_total = data.groupby('total_income_group_2')['debt'].count()"
   ]
  },
  {
   "cell_type": "markdown",
   "metadata": {},
   "source": [
    "Найдём относительное количество должников `relative` по уровню дохода, поделив количество должников на общее количество."
   ]
  },
  {
   "cell_type": "code",
   "execution_count": 56,
   "metadata": {
    "scrolled": true
   },
   "outputs": [],
   "source": [
    "total_income_relative = total_income_debt / total_income_total"
   ]
  },
  {
   "cell_type": "markdown",
   "metadata": {},
   "source": [
    "Объединим получившиеся объекты `Series` со списком категорий `income_levels` при помощи функции `dict` и выведем на экран с сортировкой."
   ]
  },
  {
   "cell_type": "code",
   "execution_count": 57,
   "metadata": {
    "scrolled": true
   },
   "outputs": [
    {
     "data": {
      "text/html": [
       "<div>\n",
       "<style scoped>\n",
       "    .dataframe tbody tr th:only-of-type {\n",
       "        vertical-align: middle;\n",
       "    }\n",
       "\n",
       "    .dataframe tbody tr th {\n",
       "        vertical-align: top;\n",
       "    }\n",
       "\n",
       "    .dataframe thead th {\n",
       "        text-align: right;\n",
       "    }\n",
       "</style>\n",
       "<table border=\"1\" class=\"dataframe\">\n",
       "  <thead>\n",
       "    <tr style=\"text-align: right;\">\n",
       "      <th></th>\n",
       "      <th>income_levels</th>\n",
       "      <th>debt</th>\n",
       "      <th>total</th>\n",
       "      <th>relative</th>\n",
       "    </tr>\n",
       "    <tr>\n",
       "      <th>total_income_group_2</th>\n",
       "      <th></th>\n",
       "      <th></th>\n",
       "      <th></th>\n",
       "      <th></th>\n",
       "    </tr>\n",
       "  </thead>\n",
       "  <tbody>\n",
       "    <tr>\n",
       "      <td>(161380.0, 191703.143]</td>\n",
       "      <td>выше среднего</td>\n",
       "      <td>229.0</td>\n",
       "      <td>2593</td>\n",
       "      <td>0.088315</td>\n",
       "    </tr>\n",
       "    <tr>\n",
       "      <td>(137468.0, 161380.0]</td>\n",
       "      <td>средние</td>\n",
       "      <td>312.0</td>\n",
       "      <td>3535</td>\n",
       "      <td>0.088260</td>\n",
       "    </tr>\n",
       "    <tr>\n",
       "      <td>(113605.571, 137468.0]</td>\n",
       "      <td>ниже среднего</td>\n",
       "      <td>266.0</td>\n",
       "      <td>3066</td>\n",
       "      <td>0.086758</td>\n",
       "    </tr>\n",
       "    <tr>\n",
       "      <td>(87295.429, 113605.571]</td>\n",
       "      <td>бедные</td>\n",
       "      <td>262.0</td>\n",
       "      <td>3065</td>\n",
       "      <td>0.085481</td>\n",
       "    </tr>\n",
       "    <tr>\n",
       "      <td>(20666.999, 87295.429]</td>\n",
       "      <td>нищие</td>\n",
       "      <td>233.0</td>\n",
       "      <td>3065</td>\n",
       "      <td>0.076020</td>\n",
       "    </tr>\n",
       "    <tr>\n",
       "      <td>(191703.143, 242019.571]</td>\n",
       "      <td>состоятельные</td>\n",
       "      <td>228.0</td>\n",
       "      <td>3065</td>\n",
       "      <td>0.074388</td>\n",
       "    </tr>\n",
       "    <tr>\n",
       "      <td>(242019.571, 2265604.0]</td>\n",
       "      <td>богатые</td>\n",
       "      <td>211.0</td>\n",
       "      <td>3065</td>\n",
       "      <td>0.068842</td>\n",
       "    </tr>\n",
       "  </tbody>\n",
       "</table>\n",
       "</div>"
      ],
      "text/plain": [
       "                          income_levels   debt  total  relative\n",
       "total_income_group_2                                           \n",
       "(161380.0, 191703.143]    выше среднего  229.0   2593  0.088315\n",
       "(137468.0, 161380.0]            средние  312.0   3535  0.088260\n",
       "(113605.571, 137468.0]    ниже среднего  266.0   3066  0.086758\n",
       "(87295.429, 113605.571]          бедные  262.0   3065  0.085481\n",
       "(20666.999, 87295.429]            нищие  233.0   3065  0.076020\n",
       "(191703.143, 242019.571]  состоятельные  228.0   3065  0.074388\n",
       "(242019.571, 2265604.0]         богатые  211.0   3065  0.068842"
      ]
     },
     "metadata": {},
     "output_type": "display_data"
    }
   ],
   "source": [
    "income_levels = ['нищие', 'бедные', 'ниже среднего', 'средние', 'выше среднего', 'состоятельные', 'богатые']\n",
    "display(pd.DataFrame(dict(income_levels = income_levels, debt = total_income_debt, total = total_income_total, relative = total_income_relative)).sort_values('relative', ascending = False))"
   ]
  },
  {
   "cell_type": "markdown",
   "metadata": {},
   "source": [
    "### Проделаем тоже самое при помощи pivot_table()"
   ]
  },
  {
   "cell_type": "markdown",
   "metadata": {},
   "source": [
    "Сгруппируем должников по уровню дохода."
   ]
  },
  {
   "cell_type": "code",
   "execution_count": 58,
   "metadata": {
    "scrolled": true
   },
   "outputs": [],
   "source": [
    "total_income_debt = data.pivot_table(index='total_income_group_2', values='debt', aggfunc='sum')"
   ]
  },
  {
   "cell_type": "markdown",
   "metadata": {},
   "source": [
    "Подсчитаем общее количество заёмщиков по уровню дохода."
   ]
  },
  {
   "cell_type": "code",
   "execution_count": 59,
   "metadata": {
    "scrolled": true
   },
   "outputs": [],
   "source": [
    "total_income_total = data.pivot_table(index='total_income_group_2', values='debt', aggfunc='count')"
   ]
  },
  {
   "cell_type": "markdown",
   "metadata": {},
   "source": [
    "Объединим получившиеся объекты методом `merge()`."
   ]
  },
  {
   "cell_type": "code",
   "execution_count": 60,
   "metadata": {
    "scrolled": false
   },
   "outputs": [],
   "source": [
    "total_income_relative = total_income_debt.merge(total_income_total, on='total_income_group_2', how='right')"
   ]
  },
  {
   "cell_type": "markdown",
   "metadata": {},
   "source": [
    "Изменим заголовки на `debt` и `total`."
   ]
  },
  {
   "cell_type": "code",
   "execution_count": 61,
   "metadata": {
    "scrolled": true
   },
   "outputs": [],
   "source": [
    "total_income_relative.columns = ['debt','total']"
   ]
  },
  {
   "cell_type": "markdown",
   "metadata": {},
   "source": [
    "Добавим столбец со списком категорий `income_levels`."
   ]
  },
  {
   "cell_type": "code",
   "execution_count": 62,
   "metadata": {
    "scrolled": true
   },
   "outputs": [],
   "source": [
    "income_levels = ['нищие', 'бедные', 'ниже среднего', 'средние', 'выше среднего', 'состоятельные', 'богатые']\n",
    "total_income_relative['income_levels'] = income_levels"
   ]
  },
  {
   "cell_type": "markdown",
   "metadata": {},
   "source": [
    "Найдём относительное количество должников `relative` по уровню дохода, поделив количество должников на общее количество, и выведем на экран с сортировкой."
   ]
  },
  {
   "cell_type": "code",
   "execution_count": 63,
   "metadata": {
    "scrolled": false
   },
   "outputs": [
    {
     "data": {
      "text/html": [
       "<div>\n",
       "<style scoped>\n",
       "    .dataframe tbody tr th:only-of-type {\n",
       "        vertical-align: middle;\n",
       "    }\n",
       "\n",
       "    .dataframe tbody tr th {\n",
       "        vertical-align: top;\n",
       "    }\n",
       "\n",
       "    .dataframe thead th {\n",
       "        text-align: right;\n",
       "    }\n",
       "</style>\n",
       "<table border=\"1\" class=\"dataframe\">\n",
       "  <thead>\n",
       "    <tr style=\"text-align: right;\">\n",
       "      <th></th>\n",
       "      <th>debt</th>\n",
       "      <th>total</th>\n",
       "      <th>income_levels</th>\n",
       "      <th>relative</th>\n",
       "    </tr>\n",
       "    <tr>\n",
       "      <th>total_income_group_2</th>\n",
       "      <th></th>\n",
       "      <th></th>\n",
       "      <th></th>\n",
       "      <th></th>\n",
       "    </tr>\n",
       "  </thead>\n",
       "  <tbody>\n",
       "    <tr>\n",
       "      <td>(161380.0, 191703.143]</td>\n",
       "      <td>229.0</td>\n",
       "      <td>2593</td>\n",
       "      <td>выше среднего</td>\n",
       "      <td>0.088315</td>\n",
       "    </tr>\n",
       "    <tr>\n",
       "      <td>(137468.0, 161380.0]</td>\n",
       "      <td>312.0</td>\n",
       "      <td>3535</td>\n",
       "      <td>средние</td>\n",
       "      <td>0.088260</td>\n",
       "    </tr>\n",
       "    <tr>\n",
       "      <td>(113605.571, 137468.0]</td>\n",
       "      <td>266.0</td>\n",
       "      <td>3066</td>\n",
       "      <td>ниже среднего</td>\n",
       "      <td>0.086758</td>\n",
       "    </tr>\n",
       "    <tr>\n",
       "      <td>(87295.429, 113605.571]</td>\n",
       "      <td>262.0</td>\n",
       "      <td>3065</td>\n",
       "      <td>бедные</td>\n",
       "      <td>0.085481</td>\n",
       "    </tr>\n",
       "    <tr>\n",
       "      <td>(20666.999, 87295.429]</td>\n",
       "      <td>233.0</td>\n",
       "      <td>3065</td>\n",
       "      <td>нищие</td>\n",
       "      <td>0.076020</td>\n",
       "    </tr>\n",
       "    <tr>\n",
       "      <td>(191703.143, 242019.571]</td>\n",
       "      <td>228.0</td>\n",
       "      <td>3065</td>\n",
       "      <td>состоятельные</td>\n",
       "      <td>0.074388</td>\n",
       "    </tr>\n",
       "    <tr>\n",
       "      <td>(242019.571, 2265604.0]</td>\n",
       "      <td>211.0</td>\n",
       "      <td>3065</td>\n",
       "      <td>богатые</td>\n",
       "      <td>0.068842</td>\n",
       "    </tr>\n",
       "  </tbody>\n",
       "</table>\n",
       "</div>"
      ],
      "text/plain": [
       "                           debt  total  income_levels  relative\n",
       "total_income_group_2                                           \n",
       "(161380.0, 191703.143]    229.0   2593  выше среднего  0.088315\n",
       "(137468.0, 161380.0]      312.0   3535        средние  0.088260\n",
       "(113605.571, 137468.0]    266.0   3066  ниже среднего  0.086758\n",
       "(87295.429, 113605.571]   262.0   3065         бедные  0.085481\n",
       "(20666.999, 87295.429]    233.0   3065          нищие  0.076020\n",
       "(191703.143, 242019.571]  228.0   3065  состоятельные  0.074388\n",
       "(242019.571, 2265604.0]   211.0   3065        богатые  0.068842"
      ]
     },
     "metadata": {},
     "output_type": "display_data"
    }
   ],
   "source": [
    "total_income_relative['relative'] = total_income_relative['debt'] / total_income_relative['total']\n",
    "display(total_income_relative.sort_values('relative', ascending = False))"
   ]
  },
  {
   "cell_type": "markdown",
   "metadata": {},
   "source": [
    "### Вывод"
   ]
  },
  {
   "cell_type": "markdown",
   "metadata": {},
   "source": [
    "**Чаще всего возвращают в срок богатые заёмщики. Реже всего — заёмщики со средним доходом. Бедность напротив не препятствует возврату кредита.**"
   ]
  },
  {
   "cell_type": "markdown",
   "metadata": {},
   "source": [
    "<div class=\"alert alert-success\">\n",
    "<h2> Комментарий ревьюера </h2>\n",
    "    \n",
    "Ты верно проанализировал полученые результаты.\n",
    "</div>"
   ]
  },
  {
   "cell_type": "markdown",
   "metadata": {},
   "source": [
    "- Как разные цели кредита влияют на его возврат в срок?"
   ]
  },
  {
   "cell_type": "markdown",
   "metadata": {},
   "source": [
    "Сгруппируем должников в зависимости от целей кредита."
   ]
  },
  {
   "cell_type": "code",
   "execution_count": 64,
   "metadata": {
    "scrolled": true
   },
   "outputs": [],
   "source": [
    "purpose_shortened_debt = data.groupby('purpose_shortened')['debt'].sum()"
   ]
  },
  {
   "cell_type": "markdown",
   "metadata": {},
   "source": [
    "Подсчитаем общее количество заёмщиков в зависимости от целей кредита."
   ]
  },
  {
   "cell_type": "code",
   "execution_count": 65,
   "metadata": {
    "scrolled": true
   },
   "outputs": [],
   "source": [
    "purpose_shortened_total = data.groupby('purpose_shortened')['debt'].count()"
   ]
  },
  {
   "cell_type": "markdown",
   "metadata": {},
   "source": [
    "Подсчитаем средний возраст заёмщиков в зависимости от целей кредита."
   ]
  },
  {
   "cell_type": "code",
   "execution_count": 66,
   "metadata": {
    "scrolled": false
   },
   "outputs": [],
   "source": [
    "purpose_shortened_age = data.groupby('purpose_shortened')['dob_years'].mean()"
   ]
  },
  {
   "cell_type": "markdown",
   "metadata": {},
   "source": [
    "Найдём относительное количество должников в зависимости от целей кредита, поделив количество должников на общее количество."
   ]
  },
  {
   "cell_type": "code",
   "execution_count": 67,
   "metadata": {
    "scrolled": true
   },
   "outputs": [],
   "source": [
    "purpose_shortened_relative = purpose_shortened_debt / purpose_shortened_total"
   ]
  },
  {
   "cell_type": "markdown",
   "metadata": {},
   "source": [
    "Объединим получившиеся объекты `Series` при помощи функции `dict` и выведем на экран с сортировкой."
   ]
  },
  {
   "cell_type": "code",
   "execution_count": 68,
   "metadata": {
    "scrolled": true
   },
   "outputs": [
    {
     "data": {
      "text/html": [
       "<div>\n",
       "<style scoped>\n",
       "    .dataframe tbody tr th:only-of-type {\n",
       "        vertical-align: middle;\n",
       "    }\n",
       "\n",
       "    .dataframe tbody tr th {\n",
       "        vertical-align: top;\n",
       "    }\n",
       "\n",
       "    .dataframe thead th {\n",
       "        text-align: right;\n",
       "    }\n",
       "</style>\n",
       "<table border=\"1\" class=\"dataframe\">\n",
       "  <thead>\n",
       "    <tr style=\"text-align: right;\">\n",
       "      <th></th>\n",
       "      <th>debt</th>\n",
       "      <th>total</th>\n",
       "      <th>relative</th>\n",
       "      <th>mean_age</th>\n",
       "    </tr>\n",
       "    <tr>\n",
       "      <th>purpose_shortened</th>\n",
       "      <th></th>\n",
       "      <th></th>\n",
       "      <th></th>\n",
       "      <th></th>\n",
       "    </tr>\n",
       "  </thead>\n",
       "  <tbody>\n",
       "    <tr>\n",
       "      <td>автомобиль</td>\n",
       "      <td>403.0</td>\n",
       "      <td>4306</td>\n",
       "      <td>0.093590</td>\n",
       "      <td>43.705759</td>\n",
       "    </tr>\n",
       "    <tr>\n",
       "      <td>образование</td>\n",
       "      <td>370.0</td>\n",
       "      <td>4013</td>\n",
       "      <td>0.092200</td>\n",
       "      <td>43.619736</td>\n",
       "    </tr>\n",
       "    <tr>\n",
       "      <td>свадьба</td>\n",
       "      <td>186.0</td>\n",
       "      <td>2324</td>\n",
       "      <td>0.080034</td>\n",
       "      <td>43.393287</td>\n",
       "    </tr>\n",
       "    <tr>\n",
       "      <td>недвижимость</td>\n",
       "      <td>474.0</td>\n",
       "      <td>6351</td>\n",
       "      <td>0.074634</td>\n",
       "      <td>43.513935</td>\n",
       "    </tr>\n",
       "    <tr>\n",
       "      <td>жилье</td>\n",
       "      <td>273.0</td>\n",
       "      <td>3853</td>\n",
       "      <td>0.070854</td>\n",
       "      <td>43.256164</td>\n",
       "    </tr>\n",
       "    <tr>\n",
       "      <td>ремонт</td>\n",
       "      <td>35.0</td>\n",
       "      <td>607</td>\n",
       "      <td>0.057661</td>\n",
       "      <td>42.655684</td>\n",
       "    </tr>\n",
       "  </tbody>\n",
       "</table>\n",
       "</div>"
      ],
      "text/plain": [
       "                    debt  total  relative   mean_age\n",
       "purpose_shortened                                   \n",
       "автомобиль         403.0   4306  0.093590  43.705759\n",
       "образование        370.0   4013  0.092200  43.619736\n",
       "свадьба            186.0   2324  0.080034  43.393287\n",
       "недвижимость       474.0   6351  0.074634  43.513935\n",
       "жилье              273.0   3853  0.070854  43.256164\n",
       "ремонт              35.0    607  0.057661  42.655684"
      ]
     },
     "metadata": {},
     "output_type": "display_data"
    }
   ],
   "source": [
    "display(pd.DataFrame(dict(debt = purpose_shortened_debt, total = purpose_shortened_total, relative = purpose_shortened_relative, mean_age = purpose_shortened_age)).sort_values('relative', ascending = False))"
   ]
  },
  {
   "cell_type": "markdown",
   "metadata": {},
   "source": [
    "### Проделаем тоже самое при помощи pivot_table()"
   ]
  },
  {
   "cell_type": "markdown",
   "metadata": {},
   "source": [
    "Сгруппируем должников в зависимости от целей кредита."
   ]
  },
  {
   "cell_type": "code",
   "execution_count": 69,
   "metadata": {
    "scrolled": true
   },
   "outputs": [],
   "source": [
    "purpose_shortened_debt = data.pivot_table(index='purpose_shortened', values='debt', aggfunc='sum')"
   ]
  },
  {
   "cell_type": "markdown",
   "metadata": {},
   "source": [
    "Посчитаем общее количество заёмщиков в зависимости от целей кредита."
   ]
  },
  {
   "cell_type": "code",
   "execution_count": 70,
   "metadata": {
    "scrolled": true
   },
   "outputs": [],
   "source": [
    "purpose_shortened_total = data.pivot_table(index='purpose_shortened', values='debt', aggfunc='count')"
   ]
  },
  {
   "cell_type": "markdown",
   "metadata": {},
   "source": [
    "Подсчитаем средний возраст заёмщиков в зависимости от целей кредита."
   ]
  },
  {
   "cell_type": "code",
   "execution_count": 71,
   "metadata": {
    "scrolled": true
   },
   "outputs": [],
   "source": [
    "purpose_shortened_age = data.pivot_table(index='purpose_shortened', values='dob_years', aggfunc='mean')"
   ]
  },
  {
   "cell_type": "markdown",
   "metadata": {},
   "source": [
    "Объединим получившиеся объекты методом `merge()`."
   ]
  },
  {
   "cell_type": "code",
   "execution_count": 72,
   "metadata": {
    "scrolled": false
   },
   "outputs": [],
   "source": [
    "purpose_shortened_relative = purpose_shortened_debt.merge(purpose_shortened_total, on='purpose_shortened', how='right')\n",
    "purpose_shortened_relative = purpose_shortened_relative.merge(purpose_shortened_age, on='purpose_shortened', how='right')"
   ]
  },
  {
   "cell_type": "markdown",
   "metadata": {},
   "source": [
    "Изменим заголовки на `debt`, `total` и `mean_age`."
   ]
  },
  {
   "cell_type": "code",
   "execution_count": 73,
   "metadata": {
    "scrolled": true
   },
   "outputs": [],
   "source": [
    "purpose_shortened_relative.columns = ['debt','total', 'mean_age']"
   ]
  },
  {
   "cell_type": "markdown",
   "metadata": {},
   "source": [
    "Найдём относительное количество должников `relative` в зависимости от целей кредита, поделив количество должников на общее количество, и выведем на экран с сортировкой."
   ]
  },
  {
   "cell_type": "code",
   "execution_count": 74,
   "metadata": {
    "scrolled": true
   },
   "outputs": [
    {
     "data": {
      "text/html": [
       "<div>\n",
       "<style scoped>\n",
       "    .dataframe tbody tr th:only-of-type {\n",
       "        vertical-align: middle;\n",
       "    }\n",
       "\n",
       "    .dataframe tbody tr th {\n",
       "        vertical-align: top;\n",
       "    }\n",
       "\n",
       "    .dataframe thead th {\n",
       "        text-align: right;\n",
       "    }\n",
       "</style>\n",
       "<table border=\"1\" class=\"dataframe\">\n",
       "  <thead>\n",
       "    <tr style=\"text-align: right;\">\n",
       "      <th></th>\n",
       "      <th>debt</th>\n",
       "      <th>total</th>\n",
       "      <th>mean_age</th>\n",
       "      <th>relative</th>\n",
       "    </tr>\n",
       "    <tr>\n",
       "      <th>purpose_shortened</th>\n",
       "      <th></th>\n",
       "      <th></th>\n",
       "      <th></th>\n",
       "      <th></th>\n",
       "    </tr>\n",
       "  </thead>\n",
       "  <tbody>\n",
       "    <tr>\n",
       "      <td>автомобиль</td>\n",
       "      <td>403.0</td>\n",
       "      <td>4306</td>\n",
       "      <td>43.705759</td>\n",
       "      <td>0.093590</td>\n",
       "    </tr>\n",
       "    <tr>\n",
       "      <td>образование</td>\n",
       "      <td>370.0</td>\n",
       "      <td>4013</td>\n",
       "      <td>43.619736</td>\n",
       "      <td>0.092200</td>\n",
       "    </tr>\n",
       "    <tr>\n",
       "      <td>свадьба</td>\n",
       "      <td>186.0</td>\n",
       "      <td>2324</td>\n",
       "      <td>43.393287</td>\n",
       "      <td>0.080034</td>\n",
       "    </tr>\n",
       "    <tr>\n",
       "      <td>недвижимость</td>\n",
       "      <td>474.0</td>\n",
       "      <td>6351</td>\n",
       "      <td>43.513935</td>\n",
       "      <td>0.074634</td>\n",
       "    </tr>\n",
       "    <tr>\n",
       "      <td>жилье</td>\n",
       "      <td>273.0</td>\n",
       "      <td>3853</td>\n",
       "      <td>43.256164</td>\n",
       "      <td>0.070854</td>\n",
       "    </tr>\n",
       "    <tr>\n",
       "      <td>ремонт</td>\n",
       "      <td>35.0</td>\n",
       "      <td>607</td>\n",
       "      <td>42.655684</td>\n",
       "      <td>0.057661</td>\n",
       "    </tr>\n",
       "  </tbody>\n",
       "</table>\n",
       "</div>"
      ],
      "text/plain": [
       "                    debt  total   mean_age  relative\n",
       "purpose_shortened                                   \n",
       "автомобиль         403.0   4306  43.705759  0.093590\n",
       "образование        370.0   4013  43.619736  0.092200\n",
       "свадьба            186.0   2324  43.393287  0.080034\n",
       "недвижимость       474.0   6351  43.513935  0.074634\n",
       "жилье              273.0   3853  43.256164  0.070854\n",
       "ремонт              35.0    607  42.655684  0.057661"
      ]
     },
     "metadata": {},
     "output_type": "display_data"
    }
   ],
   "source": [
    "purpose_shortened_relative['relative'] = purpose_shortened_relative['debt'] / purpose_shortened_relative['total']\n",
    "display(purpose_shortened_relative.sort_values('relative', ascending = False))"
   ]
  },
  {
   "cell_type": "markdown",
   "metadata": {},
   "source": [
    "### Вывод"
   ]
  },
  {
   "cell_type": "markdown",
   "metadata": {},
   "source": [
    "**Наиболее рискованными являются кредиты на автомобиль, образование и свадьбу. Возможно, ввиду молодости заёмщиков?**\n",
    "\n",
    "**Наиболее безопасными — кредиты на ремонт.**\n",
    "\n",
    "**Дополнение: молодость заёмщиков не связана с целями кредита.**"
   ]
  },
  {
   "cell_type": "markdown",
   "metadata": {},
   "source": [
    "<div class=\"alert alert-success\">\n",
    "<h2> Комментарий ревьюера </h2>\n",
    "    \n",
    "Вполне возможно так и есть. В явном виде возраста у нас нет, но мы бы могли проанализировать этот момент по косвенным признакам (например, трудовой стаж), если бы делали более глубокий анализ.\n",
    "</div>"
   ]
  },
  {
   "cell_type": "markdown",
   "metadata": {},
   "source": [
    "### Шаг 4. Общий вывод"
   ]
  },
  {
   "cell_type": "markdown",
   "metadata": {},
   "source": [
    "В датасете обнаружены  и исправлены следующие артефакты: количество детей в семье: -1, 20; возраст клиента в годах: 0.\n",
    "\n",
    "Объясняю их присутствие человеческим фактором: -1 — лишним минусом, 20 — лишним нулем, 0 в возрасте — пропущенной перед нулем цифрой.\n",
    "\n",
    "Обнаружено 2174 пропуска в стобцах трудового стажа и ежемесячного дохода. Причины появления пропусков определить не удалось. Они были заменены средними значениями в зависимости от типа занятости.\n",
    "\n",
    "Обнаружено и удалено незначительное (менее 0,33% всех данных) количество дубликатов — 71.\n",
    "\n",
    "Выделены шесть основных целей получения кредита: ремонт, свадьба, образование, автомобиль, жилье, недвижимость. С их помощью однозначно определены цели каждого заёмщика.\n",
    "\n",
    "Заёмщики распределены по двум категориям — по наличию детей и по семи соразмерным категориям — в зависимости от уровня дохода.\n",
    "\n",
    "Даны ответы на следующие вопросы:\n",
    "1. Есть ли зависимость между наличием детей и возвратом кредита в срок?\n",
    "*Да. Отсутствие детей помогает вернуть кредит в срок.*\n",
    "\n",
    "2. Есть ли зависимость между семейным положением и возвратом кредита в срок?\n",
    "*Да. Чаще всего кредиты не возвращают холостяки и живущие в гражданском браке. Реже всего — вдовцы / вдовы и разведённые.*\n",
    "\n",
    "3. Есть ли зависимость между уровнем дохода и возвратом кредита в срок?\n",
    "*Да. Чаще всего возвращают в срок богатые заёмщики. Реже всего — заёмщики со средним доходом. Бедность напротив не препятствует возврату кредита.*\n",
    "\n",
    "4. Как разные цели кредита влияют на его возврат в срок?\n",
    "*Наиболее рискованными являются кредиты на автомобиль, образование и свадьбу. Наиболее безопасными — кредиты на ремонт.*\n",
    "\n",
    "**Итоговый вывод:**\n",
    "\n",
    "Молодость и дети осложняют возврат кредита в срок. Бедность напротив не препятствует возврату кредита."
   ]
  },
  {
   "cell_type": "markdown",
   "metadata": {},
   "source": [
    "<div class=\"alert alert-warning\">\n",
    "<h2> Комментарий ревьюера </h2>\n",
    "    \n",
    "В аналитике важен не только процесс вычислений, но и выводы, которые ты делаешь. Как правило, клиента интересуют именно они. Попробуй сделать свой вывод более полным. Заключительный вывод - это как маленький отчёт. Из него должно быть понятно, для чего проводилась работа, какие нюансы были замечены во время анализа (в том числе и подготовки данных), какие заключения ты делаешь и что на основе них рекомендовал бы предпринять?\n",
    "    \n",
    "Также я заметила, что везде ты использовал метод groupby(), а что на счёт pivot_table()? Попробуй применить и его.\n",
    "</div>"
   ]
  },
  {
   "cell_type": "markdown",
   "metadata": {},
   "source": [
    "<div class=\"alert alert-success\">\n",
    "<h2> Комментарий ревьюера </h2>\n",
    "    \n",
    "Ты сделал хорошую работу. Она достаточно структурирована, есть логичные промежуточные выводы и комментарии к твоим шагам. Было легко ориентироваться по коду и понимать, что ты хотел получить. Молодец! Видно, что ты хорошо постарался. \n",
    "</div>"
   ]
  },
  {
   "cell_type": "markdown",
   "metadata": {},
   "source": [
    "<div class=\"alert alert-danger\">\n",
    "У меня есть несколько замечаний, которые нужно поправить, чтобы работа была полной.\n",
    "    \n",
    "- Дополни работу над пропусками соответствующими вычислениями и выбери другой способ замены.\n",
    "- Подправь обоснования / выводы при процессе удаления дубликатов.\n",
    "- Добавь пояснение, как выбирал критерии для категоризации по доходам.\n",
    "- Покажи, что освоил pivot_table для анализа\n",
    "- Дополни заключительный вывод\n",
    "    \n",
    "Жду твою работу с исправлениями :)\n",
    "\n",
    "</div>"
   ]
  },
  {
   "cell_type": "markdown",
   "metadata": {},
   "source": [
    "<div class=\"alert alert-success\">\n",
    "<h2> Комментарий ревьюера v2 </h2>\n",
    "    \n",
    "Ты учёл все замечания, молодец! \n",
    "Теперь твоя работа стала боле полной, добавились обоснования твоим решениям. У тебя неплохо получается выдвигать гипотезы и делать выводы. Развивайся в этом направлении, это важно для аналитика. И помни, что каждую гипотезу стоит проверять, не просто взглянув на данные, а важно подкрепить дополнительными вычислениями, тестами. \n",
    "\n",
    "Успехов тебе в следующих работах! :)\n",
    "\n",
    "</div>"
   ]
  },
  {
   "cell_type": "markdown",
   "metadata": {},
   "source": [
    "### Чек-лист готовности проекта\n",
    "\n",
    "Поставьте 'x' в выполненных пунктах. Далее нажмите Shift+Enter."
   ]
  },
  {
   "cell_type": "markdown",
   "metadata": {},
   "source": [
    "- [x]  открыт файл;\n",
    "- [x]  файл изучен;\n",
    "- [x]  определены пропущенные значения;\n",
    "- [x]  заполнены пропущенные значения;\n",
    "- [x]  есть пояснение, какие пропущенные значения обнаружены;\n",
    "- [x]  описаны возможные причины появления пропусков в данных;\n",
    "- [x]  объяснено, по какому принципу заполнены пропуски;\n",
    "- [x]  заменен вещественный тип данных на целочисленный;\n",
    "- [x]  есть пояснение, какой метод используется для изменения типа данных и почему;\n",
    "- [x]  удалены дубликаты;\n",
    "- [x]  есть пояснение, какой метод используется для поиска и удаления дубликатов;\n",
    "- [x]  описаны возможные причины появления дубликатов в данных;\n",
    "- [x]  выделены леммы в значениях столбца с целями получения кредита;\n",
    "- [x]  описан процесс лемматизации;\n",
    "- [x]  данные категоризированы;\n",
    "- [x]  есть объяснение принципа категоризации данных;\n",
    "- [x]  есть ответ на вопрос: \"Есть ли зависимость между наличием детей и возвратом кредита в срок?\";\n",
    "- [x]  есть ответ на вопрос: \"Есть ли зависимость между семейным положением и возвратом кредита в срок?\";\n",
    "- [x]  есть ответ на вопрос: \"Есть ли зависимость между уровнем дохода и возвратом кредита в срок?\";\n",
    "- [x]  есть ответ на вопрос: \"Как разные цели кредита влияют на его возврат в срок?\";\n",
    "- [x]  в каждом этапе есть выводы;\n",
    "- [x]  есть общий вывод."
   ]
  }
 ],
 "metadata": {
  "kernelspec": {
   "display_name": "Python 3",
   "language": "python",
   "name": "python3"
  },
  "language_info": {
   "codemirror_mode": {
    "name": "ipython",
    "version": 3
   },
   "file_extension": ".py",
   "mimetype": "text/x-python",
   "name": "python",
   "nbconvert_exporter": "python",
   "pygments_lexer": "ipython3",
   "version": "3.7.6"
  }
 },
 "nbformat": 4,
 "nbformat_minor": 2
}
