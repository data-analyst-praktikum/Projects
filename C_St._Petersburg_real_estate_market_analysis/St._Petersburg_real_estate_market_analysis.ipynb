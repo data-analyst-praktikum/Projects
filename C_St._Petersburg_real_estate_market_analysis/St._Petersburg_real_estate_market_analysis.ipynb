{
 "cells": [
  {
   "cell_type": "markdown",
   "metadata": {},
   "source": [
    "# Исследование объявлений о продаже квартир\n",
    "\n",
    "В вашем распоряжении данные сервиса Яндекс.Недвижимость — архив объявлений о продаже квартир в Санкт-Петербурге и соседних населённых пунктов за несколько лет. Нужно научиться определять рыночную стоимость объектов недвижимости. Ваша задача — установить параметры. Это позволит построить автоматизированную систему: она отследит аномалии и мошенническую деятельность. \n",
    "\n",
    "По каждой квартире на продажу доступны два вида данных. Первые вписаны пользователем, вторые — получены автоматически на основе картографических данных. Например, расстояние до центра, аэропорта, ближайшего парка и водоёма. "
   ]
  },
  {
   "cell_type": "markdown",
   "metadata": {},
   "source": [
    "### Шаг 1. Откройте файл с данными и изучите общую информацию. "
   ]
  },
  {
   "cell_type": "markdown",
   "metadata": {},
   "source": [
    "Загрузим данные, используя разделитель значений в строке — `\\t`, выведем общую информацию по таблице."
   ]
  },
  {
   "cell_type": "code",
   "execution_count": 1,
   "metadata": {
    "scrolled": false
   },
   "outputs": [
    {
     "name": "stdout",
     "output_type": "stream",
     "text": [
      "<class 'pandas.core.frame.DataFrame'>\n",
      "RangeIndex: 23699 entries, 0 to 23698\n",
      "Data columns (total 22 columns):\n",
      "total_images            23699 non-null int64\n",
      "last_price              23699 non-null float64\n",
      "total_area              23699 non-null float64\n",
      "first_day_exposition    23699 non-null object\n",
      "rooms                   23699 non-null int64\n",
      "ceiling_height          14504 non-null float64\n",
      "floors_total            23613 non-null float64\n",
      "living_area             21796 non-null float64\n",
      "floor                   23699 non-null int64\n",
      "is_apartment            2775 non-null object\n",
      "studio                  23699 non-null bool\n",
      "open_plan               23699 non-null bool\n",
      "kitchen_area            21421 non-null float64\n",
      "balcony                 12180 non-null float64\n",
      "locality_name           23650 non-null object\n",
      "airports_nearest        18157 non-null float64\n",
      "cityCenters_nearest     18180 non-null float64\n",
      "parks_around3000        18181 non-null float64\n",
      "parks_nearest           8079 non-null float64\n",
      "ponds_around3000        18181 non-null float64\n",
      "ponds_nearest           9110 non-null float64\n",
      "days_exposition         20518 non-null float64\n",
      "dtypes: bool(2), float64(14), int64(3), object(3)\n",
      "memory usage: 3.7+ MB\n"
     ]
    }
   ],
   "source": [
    "import pandas as pd\n",
    "import math\n",
    "from IPython.display import display\n",
    "import matplotlib.pyplot as plt\n",
    "\n",
    "data = pd.read_csv('/datasets/real_estate_data.csv', sep='\\t')\n",
    "data.info()"
   ]
  },
  {
   "cell_type": "markdown",
   "metadata": {},
   "source": [
    "**Вывод:** дататасет состоит из 22 столбцов и 23699 строк. Названия столбцов не требуют изменений. Нулевые значения содержатся в следующих столбцах:\n",
    "\n",
    "- высота потолков (м)\n",
    "- всего этажей в доме\n",
    "- жилая площадь в квадратных метрах(м²)\n",
    "- апартаменты (булев тип)\n",
    "- площадь кухни в квадратных метрах (м²)\n",
    "- число балконов\n",
    "- название населённого пункта\n",
    "- расстояние до ближайшего аэропорта в метрах (м)\n",
    "- расстояние до центра города (м)\n",
    "- число парков в радиусе 3 км\n",
    "- расстояние до ближайшего парка (м)\n",
    "- число водоёмов в радиусе 3 км\n",
    "- расстояние до ближайшего водоёма (м)\n",
    "- сколько дней было размещено объявление (от публикации до снятия)"
   ]
  },
  {
   "cell_type": "markdown",
   "metadata": {},
   "source": [
    "### Шаг 2. Предобработка данных"
   ]
  },
  {
   "cell_type": "markdown",
   "metadata": {},
   "source": [
    "Обработаем пропуски в столбцах, необходимых для исследования."
   ]
  },
  {
   "cell_type": "markdown",
   "metadata": {},
   "source": [
    "В столбце `ceiling_height` 9195 пропусков. Заменим пропуски на медианное значение."
   ]
  },
  {
   "cell_type": "code",
   "execution_count": 2,
   "metadata": {
    "scrolled": true
   },
   "outputs": [],
   "source": [
    "data.loc[data['ceiling_height'].isnull(), 'ceiling_height'] = data['ceiling_height'].median()"
   ]
  },
  {
   "cell_type": "markdown",
   "metadata": {},
   "source": [
    "В столбце `cityCenters_nearest` 5519 пропусков. Заменим пропуски в Санкт-Петербурге на медианное расстояние до центра города, для остальных населенных пунктов — на медианное значение по населенным пунктам.\n",
    "\n",
    "Найдём медианное расстояние до центра города для Санкт-Петербурга."
   ]
  },
  {
   "cell_type": "code",
   "execution_count": 3,
   "metadata": {
    "scrolled": false
   },
   "outputs": [
    {
     "data": {
      "text/plain": [
       "12244.5"
      ]
     },
     "execution_count": 3,
     "metadata": {},
     "output_type": "execute_result"
    }
   ],
   "source": [
    "cityCenters_nearest_median_S_P = data.query('locality_name == \"Санкт-Петербург\"')['cityCenters_nearest'].median()\n",
    "cityCenters_nearest_median_S_P"
   ]
  },
  {
   "cell_type": "markdown",
   "metadata": {},
   "source": [
    "Найдём медианное расстояние до центра для остальных населённых пунктов."
   ]
  },
  {
   "cell_type": "code",
   "execution_count": 4,
   "metadata": {
    "scrolled": false
   },
   "outputs": [
    {
     "data": {
      "text/plain": [
       "30308.5"
      ]
     },
     "execution_count": 4,
     "metadata": {},
     "output_type": "execute_result"
    }
   ],
   "source": [
    "cityCenters_nearest_median_not_S_P = data.query('locality_name != \"Санкт-Петербург\"')['cityCenters_nearest'].median()\n",
    "cityCenters_nearest_median_not_S_P"
   ]
  },
  {
   "cell_type": "markdown",
   "metadata": {},
   "source": [
    "Заменим пропуски в Санкт-Петербурге."
   ]
  },
  {
   "cell_type": "code",
   "execution_count": 5,
   "metadata": {
    "scrolled": true
   },
   "outputs": [],
   "source": [
    "data.loc[(data['locality_name'] == 'Санкт-Петербург') & (data['cityCenters_nearest'].isnull()), \\\n",
    "         'cityCenters_nearest'] = cityCenters_nearest_median_S_P"
   ]
  },
  {
   "cell_type": "markdown",
   "metadata": {},
   "source": [
    "Заменим пропуски для остальных населенных пунктов."
   ]
  },
  {
   "cell_type": "code",
   "execution_count": 6,
   "metadata": {
    "scrolled": true
   },
   "outputs": [],
   "source": [
    "data.loc[(data['locality_name'] != 'Санкт-Петербург') & (data['cityCenters_nearest'].isnull()), \\\n",
    "         'cityCenters_nearest'] = cityCenters_nearest_median_not_S_P"
   ]
  },
  {
   "cell_type": "markdown",
   "metadata": {},
   "source": [
    "В столбце `balcony` 11519 пропусков. Предположим, что балконы отсутствуют. Заменим пропуски нулевыми значениями."
   ]
  },
  {
   "cell_type": "code",
   "execution_count": 7,
   "metadata": {
    "scrolled": true
   },
   "outputs": [],
   "source": [
    "data.loc[data['balcony'].isnull(), 'balcony'] = 0"
   ]
  },
  {
   "cell_type": "markdown",
   "metadata": {},
   "source": [
    "В столбце `floors_total` 86 пропусков. Заменим их значениями стобца `floor`, предположив, что этаж последний."
   ]
  },
  {
   "cell_type": "code",
   "execution_count": 8,
   "metadata": {
    "scrolled": true
   },
   "outputs": [],
   "source": [
    "data.loc[data['floors_total'].isnull(), 'floors_total'] = data.loc[data['floors_total'].isnull(), 'floor']"
   ]
  },
  {
   "cell_type": "markdown",
   "metadata": {},
   "source": [
    "В столбце `days_exposition` 3181 пропусков. Предположим, пропуски означают, что квартиры ещё находятся в продаже, и оставим их без изменения."
   ]
  },
  {
   "cell_type": "markdown",
   "metadata": {},
   "source": [
    "Проанализируем названия населённых пунктов методом `value_counts()`. После выполнения код закомментируем."
   ]
  },
  {
   "cell_type": "code",
   "execution_count": 9,
   "metadata": {},
   "outputs": [],
   "source": [
    "# data['locality_name'].value_counts()"
   ]
  },
  {
   "cell_type": "markdown",
   "metadata": {},
   "source": [
    "Во-первых, строки в столбце имеют разный регистр. Приведём всё к нижнему регистру вызовом метода `lower()`."
   ]
  },
  {
   "cell_type": "code",
   "execution_count": 10,
   "metadata": {},
   "outputs": [],
   "source": [
    "data['locality_name'] = data['locality_name'].str.lower()"
   ]
  },
  {
   "cell_type": "markdown",
   "metadata": {},
   "source": [
    "Во-вторых, применяются и буква *е*, и буква *ё*, например, *поселок Победа* и *посёлок Победа*. Заменим *е* на *ё* методом `replace()`."
   ]
  },
  {
   "cell_type": "code",
   "execution_count": 11,
   "metadata": {},
   "outputs": [],
   "source": [
    "data['locality_name'] = data['locality_name'].str.replace('ё','е')"
   ]
  },
  {
   "cell_type": "markdown",
   "metadata": {},
   "source": [
    "В столбце `rooms` 197 квартир с числом комнат равным 0. Предположим, что это аномалия, и заменим число комнат на значение 1."
   ]
  },
  {
   "cell_type": "code",
   "execution_count": 12,
   "metadata": {},
   "outputs": [],
   "source": [
    "# data['rooms'].value_counts() # подсчёт квартир с числом комнат равным 0\n",
    "data.loc[data['rooms'] == 0, 'rooms'] = 1"
   ]
  },
  {
   "cell_type": "markdown",
   "metadata": {},
   "source": [
    "**Замена типа данных**"
   ]
  },
  {
   "cell_type": "markdown",
   "metadata": {},
   "source": [
    "Преобразуем строки в столбце `first_day_exposition` в формат даты."
   ]
  },
  {
   "cell_type": "code",
   "execution_count": 13,
   "metadata": {},
   "outputs": [],
   "source": [
    "data['first_day_exposition'] = pd.to_datetime(data['first_day_exposition'], format='%Y-%m-%dT%H:%M:%S')"
   ]
  },
  {
   "cell_type": "markdown",
   "metadata": {},
   "source": [
    "В следующих столбцах можно изменить тип данных:\n",
    "\n",
    "- `floors_total` — с вещественного на целочисленный, потому что количество этажей — целое число:"
   ]
  },
  {
   "cell_type": "code",
   "execution_count": 14,
   "metadata": {
    "scrolled": true
   },
   "outputs": [],
   "source": [
    "data['floors_total'] = data['floors_total'].astype('int')"
   ]
  },
  {
   "cell_type": "markdown",
   "metadata": {},
   "source": [
    "- `balcony` — с вещественного на целочисленный, потому что количество балконов — целое число:"
   ]
  },
  {
   "cell_type": "code",
   "execution_count": 15,
   "metadata": {
    "scrolled": true
   },
   "outputs": [],
   "source": [
    "data['balcony'] = data['balcony'].astype('int')"
   ]
  },
  {
   "cell_type": "markdown",
   "metadata": {},
   "source": [
    "**Вывод:** обработаны пропуски в следующих столбцах, необходимых для исследования: высота потолков, расстояние до центра города (с разделением на Санкт-Петербург и прочие населённые пункты), число балконов, количество этажей в доме. Столбец дней размещения объявления оставлен без изменений. Обработаны названия населённых пунктов и число комнат. Столбец даты публикации преобразован в формат даты. Столбцам количества этажей в доме и числа балконов изменён тип данных на целочисленный."
   ]
  },
  {
   "cell_type": "markdown",
   "metadata": {},
   "source": [
    "### Шаг 3. Посчитайте и добавьте в таблицу"
   ]
  },
  {
   "cell_type": "markdown",
   "metadata": {},
   "source": [
    "- Посчитаем и добавим в таблицу цену квадратного метра `square_meter_price`."
   ]
  },
  {
   "cell_type": "code",
   "execution_count": 16,
   "metadata": {},
   "outputs": [],
   "source": [
    "data['square_meter_price'] = data['last_price'] / data['total_area']"
   ]
  },
  {
   "cell_type": "markdown",
   "metadata": {},
   "source": [
    "- Посчитаем и добавим в таблицу день недели публикации объявления `exposition_day`."
   ]
  },
  {
   "cell_type": "code",
   "execution_count": 17,
   "metadata": {},
   "outputs": [],
   "source": [
    "data['exposition_day'] = data['first_day_exposition'].dt.weekday"
   ]
  },
  {
   "cell_type": "markdown",
   "metadata": {},
   "source": [
    "Заменим цифры названиями дней недели методом `replace()`."
   ]
  },
  {
   "cell_type": "code",
   "execution_count": 18,
   "metadata": {},
   "outputs": [],
   "source": [
    "data['exposition_day'] = data['exposition_day'].replace(\n",
    "    {0: 'Понедельник', 1: 'Вторник', 2: 'Среда', 3: 'Четверг', 4: 'Пятница', 5: 'Суббота', 6: 'Воскресенье'})"
   ]
  },
  {
   "cell_type": "markdown",
   "metadata": {},
   "source": [
    "- Посчитаем и добавим в таблицу месяц публикации объявления `exposition_month`."
   ]
  },
  {
   "cell_type": "code",
   "execution_count": 19,
   "metadata": {},
   "outputs": [],
   "source": [
    "data['exposition_month'] = data['first_day_exposition'].dt.month"
   ]
  },
  {
   "cell_type": "markdown",
   "metadata": {},
   "source": [
    "Заменим числа названиями месяцев методом `replace()`."
   ]
  },
  {
   "cell_type": "code",
   "execution_count": 20,
   "metadata": {},
   "outputs": [],
   "source": [
    "data['exposition_month'] = data['exposition_month'].replace(\n",
    "    {1: 'Январь', 2: 'Февраль', 3: 'Март', 4: 'Апрель', 5: 'Май', 6: 'Июнь',\n",
    "     7: 'Июль', 8: 'Август', 9: 'Сентябрь', 10: 'Октябрь', 11: 'Ноябрь', 12: 'Декабрь'})"
   ]
  },
  {
   "cell_type": "markdown",
   "metadata": {},
   "source": [
    "- Посчитаем и добавим в таблицу год публикации объявления `exposition_year`."
   ]
  },
  {
   "cell_type": "code",
   "execution_count": 21,
   "metadata": {},
   "outputs": [],
   "source": [
    "data['exposition_year'] = data['first_day_exposition'].dt.year"
   ]
  },
  {
   "cell_type": "markdown",
   "metadata": {},
   "source": [
    "- Посчитаем и добавим в таблицу этаж квартиры `floor_category`. Скопируем значения из столбца `floor` и заменим 1 на значение `'Первый'`."
   ]
  },
  {
   "cell_type": "code",
   "execution_count": 22,
   "metadata": {},
   "outputs": [],
   "source": [
    "data['floor_category'] = data['floor']\n",
    "data['floor_category'] = data['floor_category'].replace(1, 'Первый')"
   ]
  },
  {
   "cell_type": "markdown",
   "metadata": {},
   "source": [
    "Заменим этажи, совпадающие с общим количеством этажей в доме `floors_total`, на значение `'Последний'`."
   ]
  },
  {
   "cell_type": "code",
   "execution_count": 23,
   "metadata": {},
   "outputs": [],
   "source": [
    "data.loc[data['floor_category'] == data['floors_total'], 'floor_category'] = 'Последний'"
   ]
  },
  {
   "cell_type": "markdown",
   "metadata": {},
   "source": [
    "Заменим оставшиеся этажи на значение `'Другой'` методом `where()`."
   ]
  },
  {
   "cell_type": "code",
   "execution_count": 24,
   "metadata": {},
   "outputs": [],
   "source": [
    "data['floor_category'] = data['floor_category'].where(data['floor_category'].isin(['Первый', 'Последний']), 'Другой')"
   ]
  },
  {
   "cell_type": "markdown",
   "metadata": {},
   "source": [
    "- Посчитаем и добавим в таблицу соотношение жилой и общей площади `living_total_ratio`."
   ]
  },
  {
   "cell_type": "code",
   "execution_count": 25,
   "metadata": {},
   "outputs": [],
   "source": [
    "data['living_total_ratio'] = data['living_area'] / data['total_area']"
   ]
  },
  {
   "cell_type": "markdown",
   "metadata": {},
   "source": [
    "Заполним пропуски в столбце `living_total_ratio` средним значением `living_total_ratio_mean` и на его основе заполним пропуски в столбце `living_area`."
   ]
  },
  {
   "cell_type": "code",
   "execution_count": 26,
   "metadata": {},
   "outputs": [],
   "source": [
    "living_total_ratio_mean = data['living_total_ratio'].mean()\n",
    "data.loc[data['living_total_ratio'].isnull(), 'living_total_ratio'] = living_total_ratio_mean\n",
    "data.loc[data['living_area'].isnull(), 'living_area'] = data['total_area'] * living_total_ratio_mean"
   ]
  },
  {
   "cell_type": "markdown",
   "metadata": {},
   "source": [
    "- Посчитаем и добавим в таблицу отношение площади кухни к общей `kitchen_total_ratio`."
   ]
  },
  {
   "cell_type": "code",
   "execution_count": 27,
   "metadata": {
    "scrolled": true
   },
   "outputs": [],
   "source": [
    "data['kitchen_total_ratio'] = data['kitchen_area'] / data['total_area']"
   ]
  },
  {
   "cell_type": "markdown",
   "metadata": {},
   "source": [
    "Заполним пропуски в столбце `kitchen_total_ratio` средним значением `kitchen_total_ratio_mean` и на его основе заполним пропуски в столбце `kitchen_area`."
   ]
  },
  {
   "cell_type": "code",
   "execution_count": 28,
   "metadata": {},
   "outputs": [],
   "source": [
    "kitchen_total_ratio_mean = data['kitchen_total_ratio'].mean()\n",
    "data.loc[data['kitchen_total_ratio'].isnull(), 'kitchen_total_ratio'] = kitchen_total_ratio_mean\n",
    "data.loc[data['kitchen_area'].isnull(), 'kitchen_area'] = data['total_area'] * kitchen_total_ratio_mean"
   ]
  },
  {
   "cell_type": "markdown",
   "metadata": {},
   "source": [
    "**Вывод:** в таблицу добавлены следующие столбцы: цена квадратного метра; день недели, месяц (день недели и месяц категорированы) и год публикации объявления; этаж квартиры; варианты — первый, последний, другой; соотношение жилой и общей площади, а также отношение площади кухни к общей (на их основе заполнены пропуски в стобцах жилой площади и площади кухни)."
   ]
  },
  {
   "cell_type": "markdown",
   "metadata": {},
   "source": [
    "### Шаг 4. Проведите исследовательский анализ данных и выполните инструкции:"
   ]
  },
  {
   "cell_type": "markdown",
   "metadata": {},
   "source": [
    "Изучим параметр площадь методом `boxplot()`."
   ]
  },
  {
   "cell_type": "code",
   "execution_count": 29,
   "metadata": {
    "scrolled": true
   },
   "outputs": [
    {
     "data": {
      "text/plain": [
       "<matplotlib.axes._subplots.AxesSubplot at 0x7f25ae995250>"
      ]
     },
     "execution_count": 29,
     "metadata": {},
     "output_type": "execute_result"
    },
    {
     "data": {
      "image/png": "[encoded data removed]",
      "text/plain": [
       "<Figure size 432x288 with 1 Axes>"
      ]
     },
     "metadata": {
      "needs_background": "light"
     },
     "output_type": "display_data"
    }
   ],
   "source": [
    "data.boxplot(column=['total_area'])"
   ]
  },
  {
   "cell_type": "markdown",
   "metadata": {},
   "source": [
    "И методом `describe()`."
   ]
  },
  {
   "cell_type": "code",
   "execution_count": 30,
   "metadata": {
    "scrolled": false
   },
   "outputs": [
    {
     "data": {
      "text/plain": [
       "count    23699.000000\n",
       "mean        60.348651\n",
       "std         35.654083\n",
       "min         12.000000\n",
       "25%         40.000000\n",
       "50%         52.000000\n",
       "75%         69.900000\n",
       "max        900.000000\n",
       "Name: total_area, dtype: float64"
      ]
     },
     "execution_count": 30,
     "metadata": {},
     "output_type": "execute_result"
    }
   ],
   "source": [
    "data['total_area'].describe()"
   ]
  },
  {
   "cell_type": "markdown",
   "metadata": {},
   "source": [
    "**Вывод:** квартиры площадью больше 70 м² (третий квартиль) отличаются большим разбросом.\n",
    "\n",
    "Построим гистограмму для параметра площадь."
   ]
  },
  {
   "cell_type": "code",
   "execution_count": 31,
   "metadata": {
    "scrolled": false
   },
   "outputs": [
    {
     "data": {
      "text/plain": [
       "Text(0.5, 1.0, 'Гистограмма для параметра площадь')"
      ]
     },
     "execution_count": 31,
     "metadata": {},
     "output_type": "execute_result"
    },
    {
     "data": {
      "image/png": "[encoded data removed]",
      "text/plain": [
       "<Figure size 504x360 with 1 Axes>"
      ]
     },
     "metadata": {
      "needs_background": "light"
     },
     "output_type": "display_data"
    }
   ],
   "source": [
    "data['total_area'].hist(bins=50, figsize=(7, 5))\n",
    "plt.title('Гистограмма для параметра площадь')"
   ]
  },
  {
   "cell_type": "markdown",
   "metadata": {},
   "source": [
    "Добавлены заголовки для каждого графика."
   ]
  },
  {
   "cell_type": "markdown",
   "metadata": {},
   "source": [
    "Построим гистограмму без выбросов для параметра площадь."
   ]
  },
  {
   "cell_type": "code",
   "execution_count": 32,
   "metadata": {
    "scrolled": false
   },
   "outputs": [
    {
     "data": {
      "text/plain": [
       "Text(0.5, 1.0, 'Гистограмма без выбросов для параметра площадь')"
      ]
     },
     "execution_count": 32,
     "metadata": {},
     "output_type": "execute_result"
    },
    {
     "data": {
      "image/png": "[encoded data removed]",
      "text/plain": [
       "<Figure size 504x360 with 1 Axes>"
      ]
     },
     "metadata": {
      "needs_background": "light"
     },
     "output_type": "display_data"
    }
   ],
   "source": [
    "total_area_Q1 = data['total_area'].describe()[4] # первый квартиль\n",
    "total_area_Q3 = data['total_area'].describe()[6] # третий квартиль\n",
    "total_area_IQR = total_area_Q3 - total_area_Q1 # межквартильный размах\n",
    "(data\n",
    "     .query('@total_area_Q1 - 1.5*@total_area_IQR < total_area < @total_area_Q3 + 1.5*@total_area_IQR')\n",
    "     ['total_area'].hist(bins=50, figsize=(7, 5))\n",
    ")\n",
    "plt.title('Гистограмма без выбросов для параметра площадь')"
   ]
  },
  {
   "cell_type": "markdown",
   "metadata": {},
   "source": [
    "Изучим параметр цена методом `boxplot()`."
   ]
  },
  {
   "cell_type": "code",
   "execution_count": 33,
   "metadata": {
    "scrolled": false
   },
   "outputs": [
    {
     "data": {
      "text/plain": [
       "<matplotlib.axes._subplots.AxesSubplot at 0x7f25ab1612d0>"
      ]
     },
     "execution_count": 33,
     "metadata": {},
     "output_type": "execute_result"
    },
    {
     "data": {
      "image/png": "[encoded data removed]",
      "text/plain": [
       "<Figure size 432x288 with 1 Axes>"
      ]
     },
     "metadata": {
      "needs_background": "light"
     },
     "output_type": "display_data"
    }
   ],
   "source": [
    "data.boxplot(column=['last_price'])"
   ]
  },
  {
   "cell_type": "markdown",
   "metadata": {},
   "source": [
    "И методом `describe()`."
   ]
  },
  {
   "cell_type": "code",
   "execution_count": 34,
   "metadata": {
    "scrolled": true
   },
   "outputs": [
    {
     "data": {
      "text/plain": [
       "count    2.369900e+04\n",
       "mean     6.541549e+06\n",
       "std      1.088701e+07\n",
       "min      1.219000e+04\n",
       "25%      3.400000e+06\n",
       "50%      4.650000e+06\n",
       "75%      6.800000e+06\n",
       "max      7.630000e+08\n",
       "Name: last_price, dtype: float64"
      ]
     },
     "execution_count": 34,
     "metadata": {},
     "output_type": "execute_result"
    }
   ],
   "source": [
    "data['last_price'].describe()"
   ]
  },
  {
   "cell_type": "markdown",
   "metadata": {},
   "source": [
    "**Вывод:** квартиры стоимостью выше 7 миллионов (третий квартиль) отличаются большим разбросом.\n",
    "\n",
    "Построим гистограмму для параметра цена."
   ]
  },
  {
   "cell_type": "code",
   "execution_count": 35,
   "metadata": {
    "scrolled": false
   },
   "outputs": [
    {
     "data": {
      "text/plain": [
       "Text(0.5, 1.0, 'Гистограмма для параметра цена')"
      ]
     },
     "execution_count": 35,
     "metadata": {},
     "output_type": "execute_result"
    },
    {
     "data": {
      "image/png": "[encoded data removed]",
      "text/plain": [
       "<Figure size 504x360 with 1 Axes>"
      ]
     },
     "metadata": {
      "needs_background": "light"
     },
     "output_type": "display_data"
    }
   ],
   "source": [
    "data['last_price'].hist(bins=50, figsize=(7, 5))\n",
    "plt.title('Гистограмма для параметра цена')"
   ]
  },
  {
   "cell_type": "markdown",
   "metadata": {},
   "source": [
    "Построим гистограмму без выбросов для параметра цена."
   ]
  },
  {
   "cell_type": "code",
   "execution_count": 36,
   "metadata": {
    "scrolled": false
   },
   "outputs": [
    {
     "data": {
      "text/plain": [
       "Text(0.5, 1.0, 'Гистограмма без выбросов для параметра цена')"
      ]
     },
     "execution_count": 36,
     "metadata": {},
     "output_type": "execute_result"
    },
    {
     "data": {
      "image/png": "[encoded data removed]",
      "text/plain": [
       "<Figure size 504x360 with 1 Axes>"
      ]
     },
     "metadata": {
      "needs_background": "light"
     },
     "output_type": "display_data"
    }
   ],
   "source": [
    "last_price_Q1 = data['last_price'].describe()[4] # первый квартиль\n",
    "last_price_Q3 = data['last_price'].describe()[6] # третий квартиль\n",
    "last_price_IQR = last_price_Q3 - last_price_Q1 #  межквартильный размах\n",
    "(data\n",
    "     .query('@last_price_Q1 - 1.5*@last_price_IQR < last_price < @last_price_Q3 + 1.5*@last_price_IQR')\n",
    "     ['last_price'].hist(bins=50, figsize=(7, 5))\n",
    ")\n",
    "plt.title('Гистограмма без выбросов для параметра цена')"
   ]
  },
  {
   "cell_type": "markdown",
   "metadata": {},
   "source": [
    "Изучим параметр число комнат методом `boxplot()`."
   ]
  },
  {
   "cell_type": "code",
   "execution_count": 37,
   "metadata": {
    "scrolled": false
   },
   "outputs": [
    {
     "data": {
      "text/plain": [
       "<matplotlib.axes._subplots.AxesSubplot at 0x7f25aaed0750>"
      ]
     },
     "execution_count": 37,
     "metadata": {},
     "output_type": "execute_result"
    },
    {
     "data": {
      "image/png": "[encoded data removed]",
      "text/plain": [
       "<Figure size 432x288 with 1 Axes>"
      ]
     },
     "metadata": {
      "needs_background": "light"
     },
     "output_type": "display_data"
    }
   ],
   "source": [
    "data.boxplot(column=['rooms'])"
   ]
  },
  {
   "cell_type": "markdown",
   "metadata": {},
   "source": [
    "И методом `describe()`."
   ]
  },
  {
   "cell_type": "code",
   "execution_count": 38,
   "metadata": {
    "scrolled": true
   },
   "outputs": [
    {
     "data": {
      "text/plain": [
       "count    23699.000000\n",
       "mean         2.078948\n",
       "std          1.066196\n",
       "min          1.000000\n",
       "25%          1.000000\n",
       "50%          2.000000\n",
       "75%          3.000000\n",
       "max         19.000000\n",
       "Name: rooms, dtype: float64"
      ]
     },
     "execution_count": 38,
     "metadata": {},
     "output_type": "execute_result"
    }
   ],
   "source": [
    "data['rooms'].describe()"
   ]
  },
  {
   "cell_type": "markdown",
   "metadata": {},
   "source": [
    "Построим гистограмму для числа комнат."
   ]
  },
  {
   "cell_type": "code",
   "execution_count": 39,
   "metadata": {
    "scrolled": false
   },
   "outputs": [
    {
     "data": {
      "text/plain": [
       "Text(0.5, 1.0, 'Гистограмма для числа комнат')"
      ]
     },
     "execution_count": 39,
     "metadata": {},
     "output_type": "execute_result"
    },
    {
     "data": {
      "image/png": "[encoded data removed]",
      "text/plain": [
       "<Figure size 504x360 with 1 Axes>"
      ]
     },
     "metadata": {
      "needs_background": "light"
     },
     "output_type": "display_data"
    }
   ],
   "source": [
    "data['rooms'].hist(bins=20, figsize=(7, 5))\n",
    "plt.title('Гистограмма для числа комнат')"
   ]
  },
  {
   "cell_type": "markdown",
   "metadata": {},
   "source": [
    "**Вывод:** чаще всего встречаются одно- и двухкомнатные квартиры. Квартиры, в которых больше четырёх комнат, встречаются редко."
   ]
  },
  {
   "cell_type": "markdown",
   "metadata": {},
   "source": [
    "Построим гистограмму без выбросов для числа комнат."
   ]
  },
  {
   "cell_type": "code",
   "execution_count": 40,
   "metadata": {
    "scrolled": false
   },
   "outputs": [
    {
     "data": {
      "text/plain": [
       "Text(0.5, 1.0, 'Гистограмма без выбросов для числа комнат')"
      ]
     },
     "execution_count": 40,
     "metadata": {},
     "output_type": "execute_result"
    },
    {
     "data": {
      "image/png": "[encoded data removed]",
      "text/plain": [
       "<Figure size 504x360 with 1 Axes>"
      ]
     },
     "metadata": {
      "needs_background": "light"
     },
     "output_type": "display_data"
    }
   ],
   "source": [
    "rooms_Q1 = data['rooms'].describe()[4] # первый квартиль\n",
    "rooms_Q3 = data['rooms'].describe()[6] # третий квартиль\n",
    "rooms_IQR = rooms_Q3 - rooms_Q1 #  межквартильный размах\n",
    "(data\n",
    "     .query('@rooms_Q1 - 1.5*@rooms_IQR < rooms < @rooms_Q3 + 1.5*@rooms_IQR')\n",
    "     ['rooms'].hist(bins=10, figsize=(7, 5))\n",
    ")\n",
    "plt.title('Гистограмма без выбросов для числа комнат')"
   ]
  },
  {
   "cell_type": "markdown",
   "metadata": {},
   "source": [
    "Изучим параметр высота потолков методом `boxplot()`."
   ]
  },
  {
   "cell_type": "code",
   "execution_count": 41,
   "metadata": {
    "scrolled": false
   },
   "outputs": [
    {
     "data": {
      "text/plain": [
       "<matplotlib.axes._subplots.AxesSubplot at 0x7f25aad14410>"
      ]
     },
     "execution_count": 41,
     "metadata": {},
     "output_type": "execute_result"
    },
    {
     "data": {
      "image/png": "[encoded data removed]",
      "text/plain": [
       "<Figure size 432x288 with 1 Axes>"
      ]
     },
     "metadata": {
      "needs_background": "light"
     },
     "output_type": "display_data"
    }
   ],
   "source": [
    "data.boxplot(column=['ceiling_height'])"
   ]
  },
  {
   "cell_type": "markdown",
   "metadata": {},
   "source": [
    "И методом `describe()`."
   ]
  },
  {
   "cell_type": "code",
   "execution_count": 42,
   "metadata": {
    "scrolled": true
   },
   "outputs": [
    {
     "data": {
      "text/plain": [
       "count    23699.000000\n",
       "mean         2.724358\n",
       "std          0.988298\n",
       "min          1.000000\n",
       "25%          2.600000\n",
       "50%          2.650000\n",
       "75%          2.700000\n",
       "max        100.000000\n",
       "Name: ceiling_height, dtype: float64"
      ]
     },
     "execution_count": 42,
     "metadata": {},
     "output_type": "execute_result"
    }
   ],
   "source": [
    "data['ceiling_height'].describe()"
   ]
  },
  {
   "cell_type": "markdown",
   "metadata": {},
   "source": [
    "**Вывод:** большинство потолков в квартирах находятся в диапазоне от 2,5 до 3 метров.\n",
    "\n",
    "Построим гистограмму для высоты потолков."
   ]
  },
  {
   "cell_type": "code",
   "execution_count": 43,
   "metadata": {
    "scrolled": false
   },
   "outputs": [
    {
     "data": {
      "text/plain": [
       "Text(0.5, 1.0, 'Гистограмма без выбросов для высоты потолков')"
      ]
     },
     "execution_count": 43,
     "metadata": {},
     "output_type": "execute_result"
    },
    {
     "data": {
      "image/png": "[encoded data removed]",
      "text/plain": [
       "<Figure size 504x360 with 1 Axes>"
      ]
     },
     "metadata": {
      "needs_background": "light"
     },
     "output_type": "display_data"
    }
   ],
   "source": [
    "data['ceiling_height'].hist(bins=20, figsize=(7, 5))\n",
    "plt.title('Гистограмма без выбросов для высоты потолков')"
   ]
  },
  {
   "cell_type": "markdown",
   "metadata": {},
   "source": [
    "Построим гистограмму без выбросов для параметра высота потолков."
   ]
  },
  {
   "cell_type": "code",
   "execution_count": 44,
   "metadata": {
    "scrolled": false
   },
   "outputs": [
    {
     "data": {
      "text/plain": [
       "Text(0.5, 1.0, 'Гистограмма без выбросов для высоты потолков')"
      ]
     },
     "execution_count": 44,
     "metadata": {},
     "output_type": "execute_result"
    },
    {
     "data": {
      "image/png": "[encoded data removed]",
      "text/plain": [
       "<Figure size 504x360 with 1 Axes>"
      ]
     },
     "metadata": {
      "needs_background": "light"
     },
     "output_type": "display_data"
    }
   ],
   "source": [
    "ceiling_height_Q1 = data['ceiling_height'].describe()[4] # первый квартиль\n",
    "ceiling_height_Q3 = data['ceiling_height'].describe()[6] # третий квартиль\n",
    "ceiling_height_IQR = ceiling_height_Q3 - ceiling_height_Q1 #  межквартильный размах\n",
    "(data\n",
    "     .query('@ceiling_height_Q1 - 1.5 * @ceiling_height_IQR < ceiling_height < @ceiling_height_Q3 + 1.5 * @ceiling_height_IQR')\n",
    "     ['ceiling_height'].hist(bins=10, figsize=(7, 5))\n",
    ")\n",
    "plt.title('Гистограмма без выбросов для высоты потолков')"
   ]
  },
  {
   "cell_type": "markdown",
   "metadata": {},
   "source": [
    "Изучим время продажи квартиры методом `boxplot()`."
   ]
  },
  {
   "cell_type": "code",
   "execution_count": 45,
   "metadata": {
    "scrolled": true
   },
   "outputs": [
    {
     "data": {
      "text/plain": [
       "<matplotlib.axes._subplots.AxesSubplot at 0x7f25aabbfb10>"
      ]
     },
     "execution_count": 45,
     "metadata": {},
     "output_type": "execute_result"
    },
    {
     "data": {
      "image/png": "[encoded data removed]",
      "text/plain": [
       "<Figure size 432x288 with 1 Axes>"
      ]
     },
     "metadata": {
      "needs_background": "light"
     },
     "output_type": "display_data"
    }
   ],
   "source": [
    "data.boxplot(column=['days_exposition'])"
   ]
  },
  {
   "cell_type": "markdown",
   "metadata": {},
   "source": [
    "И методом `describe()`."
   ]
  },
  {
   "cell_type": "code",
   "execution_count": 46,
   "metadata": {
    "scrolled": true
   },
   "outputs": [
    {
     "data": {
      "text/plain": [
       "count    20518.000000\n",
       "mean       180.888634\n",
       "std        219.727988\n",
       "min          1.000000\n",
       "25%         45.000000\n",
       "50%         95.000000\n",
       "75%        232.000000\n",
       "max       1580.000000\n",
       "Name: days_exposition, dtype: float64"
      ]
     },
     "execution_count": 46,
     "metadata": {},
     "output_type": "execute_result"
    }
   ],
   "source": [
    "data['days_exposition'].describe()"
   ]
  },
  {
   "cell_type": "markdown",
   "metadata": {},
   "source": [
    "Построим гистограмму времени продажи квартиры."
   ]
  },
  {
   "cell_type": "markdown",
   "metadata": {},
   "source": [
    "Интереснее создать функцию `outlier_erase_func`, удаляющую выбросы за пределами расстояния, равного 1,5 межквартильным размахам (IQR), для использования в последующих проектах. (Возможно, есть библиотеки с готовыми функциями?)"
   ]
  },
  {
   "cell_type": "code",
   "execution_count": 47,
   "metadata": {
    "scrolled": true
   },
   "outputs": [
    {
     "data": {
      "text/plain": [
       "13764"
      ]
     },
     "execution_count": 47,
     "metadata": {},
     "output_type": "execute_result"
    }
   ],
   "source": [
    "def outlier_erase_func(intro_dataframe, intro_columns):\n",
    "    \"\"\"\n",
    "    Функция получает на вход объект DataFrame и названия столбцов в виде списка,\n",
    "    для каждого из них вычисляет первый и третий квартиль методом describe(),\n",
    "    находит межквартильный размах и сохраняет данные\n",
    "    за пределами расстояния, равного 1,5 межквартильным размахам (IQR)\n",
    "    \"\"\"\n",
    "    try:\n",
    "        outro_dataframe = []\n",
    "        for i in intro_columns:\n",
    "            Q = intro_dataframe[i].describe()\n",
    "            Q1 = Q[4] # первый квартиль\n",
    "            Q3 = Q[6] # третий квартиль\n",
    "            IQR = Q3 - Q1 # межквартильный размах\n",
    "            outro_dataframe = intro_dataframe.loc[(intro_dataframe[i] > Q1 - 1.5*IQR) & \\\n",
    "                                                  (intro_dataframe[i] < Q3 + 1.5*IQR), :]\n",
    "            intro_dataframe = outro_dataframe # для сохранения результатов фильтрации\n",
    "    except:\n",
    "        print('Ошибка!')\n",
    "\n",
    "    return outro_dataframe\n",
    "\n",
    "data2 = data\n",
    "good_data_2 = outlier_erase_func(data2, ['total_area', 'last_price', 'rooms', 'ceiling_height'])\n",
    "good_data_2.shape[0]"
   ]
  },
  {
   "cell_type": "markdown",
   "metadata": {},
   "source": [
    "Однако функция содержит ошибку (неправильное объединение таблиц?), так как убирает слишком много данных в сравнении с `query()`. Надёжнее делать срезы последовательно, удаляя редкие и выбивающиеся значения."
   ]
  },
  {
   "cell_type": "markdown",
   "metadata": {},
   "source": [
    "Построим гистограмму времени продажи квартиры."
   ]
  },
  {
   "cell_type": "code",
   "execution_count": 48,
   "metadata": {
    "scrolled": false
   },
   "outputs": [
    {
     "data": {
      "text/plain": [
       "Text(0.5, 1.0, 'Гистограмма времени продажи квартиры')"
      ]
     },
     "execution_count": 48,
     "metadata": {},
     "output_type": "execute_result"
    },
    {
     "data": {
      "image/png": "[encoded data removed]",
      "text/plain": [
       "<Figure size 504x360 with 1 Axes>"
      ]
     },
     "metadata": {
      "needs_background": "light"
     },
     "output_type": "display_data"
    }
   ],
   "source": [
    "data['days_exposition'].hist(bins=100, figsize=(7, 5))\n",
    "plt.title('Гистограмма времени продажи квартиры')"
   ]
  },
  {
   "cell_type": "markdown",
   "metadata": {},
   "source": [
    "**Вывод:** среднее время продажи квартиры составляет 180 суток, медиана вполовину меньше — 95. Очень быстрыми можно считать продажи менее трёх месяцев, необычно долгими — свыше восьми."
   ]
  },
  {
   "cell_type": "markdown",
   "metadata": {},
   "source": [
    "Уберём редкие и выбивающиеся значения, сделав срезы методом `query()` по ранее исследованным параметрам."
   ]
  },
  {
   "cell_type": "code",
   "execution_count": 49,
   "metadata": {},
   "outputs": [
    {
     "data": {
      "text/plain": [
       "19533"
      ]
     },
     "execution_count": 49,
     "metadata": {},
     "output_type": "execute_result"
    }
   ],
   "source": [
    "good_data = (\n",
    "    data\n",
    "    .query('@total_area_Q1 - 1.5*@total_area_IQR < total_area < @total_area_Q3 + 1.5*@total_area_IQR')\n",
    "    .query('@last_price_Q1 - 1.5*@last_price_IQR < last_price < @last_price_Q3 + 1.5*@last_price_IQR')\n",
    "    .query('@rooms_Q1 - 1.5*@rooms_IQR < rooms < @rooms_Q3 + 1.5*@rooms_IQR')\n",
    "    .query('@ceiling_height_Q1 - 1.5*@ceiling_height_IQR < ceiling_height < @ceiling_height_Q3 + 1.5*@ceiling_height_IQR')\n",
    ")\n",
    "good_data.shape[0]"
   ]
  },
  {
   "cell_type": "markdown",
   "metadata": {},
   "source": [
    "**Вывод:** в датасете были квартиры с высотой потолков менее 2 метров, выше 8 и даже 100 метров. Это очевидные аномалии. Недвижимость с экстремальной площадью (> 400 м²), ценой (763 млн) или количеством комнат (19) скорее всего существует, но в выборку не попала."
   ]
  },
  {
   "cell_type": "markdown",
   "metadata": {},
   "source": [
    "Изучим факторы, влияющие на стоимость квартиры. Найдём зависимость цены от площади, числа комнат, удалённости от центра. Для этого посчитаем коэффициенты корреляции Пирсона методом `corr()`."
   ]
  },
  {
   "cell_type": "code",
   "execution_count": 50,
   "metadata": {
    "scrolled": true
   },
   "outputs": [
    {
     "data": {
      "text/plain": [
       "'Зависимость цены от площади:'"
      ]
     },
     "metadata": {},
     "output_type": "display_data"
    },
    {
     "data": {
      "text/plain": [
       "0.6781069432355287"
      ]
     },
     "metadata": {},
     "output_type": "display_data"
    },
    {
     "data": {
      "text/plain": [
       "'Зависимость цены от числа комнат:'"
      ]
     },
     "metadata": {},
     "output_type": "display_data"
    },
    {
     "data": {
      "text/plain": [
       "0.4098867424101582"
      ]
     },
     "metadata": {},
     "output_type": "display_data"
    },
    {
     "data": {
      "text/plain": [
       "'Зависимость цены от удалённости от центра:'"
      ]
     },
     "metadata": {},
     "output_type": "display_data"
    },
    {
     "data": {
      "text/plain": [
       "-0.5105470924091925"
      ]
     },
     "metadata": {},
     "output_type": "display_data"
    }
   ],
   "source": [
    "display(\n",
    "    'Зависимость цены от площади:', good_data['last_price'].corr(data['total_area']),\n",
    "    'Зависимость цены от числа комнат:', good_data['last_price'].corr(data['rooms']),\n",
    "    'Зависимость цены от удалённости от центра:', good_data['last_price'].corr(data['cityCenters_nearest'])\n",
    ")"
   ]
  },
  {
   "cell_type": "markdown",
   "metadata": {},
   "source": [
    "Построим матрицы рассеяния методом `pd.plotting.scatter_matrix(df)` для указанных параметров."
   ]
  },
  {
   "cell_type": "code",
   "execution_count": 51,
   "metadata": {
    "scrolled": false
   },
   "outputs": [
    {
     "data": {
      "text/plain": [
       "array([[<matplotlib.axes._subplots.AxesSubplot object at 0x7f25aa9c73d0>,\n",
       "        <matplotlib.axes._subplots.AxesSubplot object at 0x7f25aa97c450>,\n",
       "        <matplotlib.axes._subplots.AxesSubplot object at 0x7f25aa921c50>,\n",
       "        <matplotlib.axes._subplots.AxesSubplot object at 0x7f25aa8df490>],\n",
       "       [<matplotlib.axes._subplots.AxesSubplot object at 0x7f25aa90ec90>,\n",
       "        <matplotlib.axes._subplots.AxesSubplot object at 0x7f25aa8cc4d0>,\n",
       "        <matplotlib.axes._subplots.AxesSubplot object at 0x7f25aa87fdd0>,\n",
       "        <matplotlib.axes._subplots.AxesSubplot object at 0x7f25aa83f4d0>],\n",
       "       [<matplotlib.axes._subplots.AxesSubplot object at 0x7f25aa84a190>,\n",
       "        <matplotlib.axes._subplots.AxesSubplot object at 0x7f25aa7fdad0>,\n",
       "        <matplotlib.axes._subplots.AxesSubplot object at 0x7f25aa769d10>,\n",
       "        <matplotlib.axes._subplots.AxesSubplot object at 0x7f25aa72a550>],\n",
       "       [<matplotlib.axes._subplots.AxesSubplot object at 0x7f25aa6ded50>,\n",
       "        <matplotlib.axes._subplots.AxesSubplot object at 0x7f25aa69f590>,\n",
       "        <matplotlib.axes._subplots.AxesSubplot object at 0x7f25aa653d90>,\n",
       "        <matplotlib.axes._subplots.AxesSubplot object at 0x7f25aa6165d0>]],\n",
       "      dtype=object)"
      ]
     },
     "execution_count": 51,
     "metadata": {},
     "output_type": "execute_result"
    },
    {
     "data": {
      "image/png": "[encoded data removed]",
      "text/plain": [
       "<Figure size 720x720 with 16 Axes>"
      ]
     },
     "metadata": {
      "needs_background": "light"
     },
     "output_type": "display_data"
    }
   ],
   "source": [
    "pd.plotting.scatter_matrix(data[['total_area', 'rooms', 'cityCenters_nearest', 'last_price']], figsize=(10, 10))"
   ]
  },
  {
   "cell_type": "markdown",
   "metadata": {},
   "source": [
    "**Вывод:** стоимость квартиры зависит от площади и слабо зависит от числа комнат и удалённости от центра."
   ]
  },
  {
   "cell_type": "markdown",
   "metadata": {},
   "source": [
    "Изучим зависимость цены от того, на каком этаже расположена квартира: первом, последнем или другом. Для этого создадим сводную таблицу `floor_category_data`, сгруппировав стоимость квартир по расположениям этажей и рассчитав медианное значение по каждой категории. Построим гистограмму медианных значений стоимости методом `plot()`."
   ]
  },
  {
   "cell_type": "code",
   "execution_count": 52,
   "metadata": {
    "scrolled": false
   },
   "outputs": [
    {
     "data": {
      "text/plain": [
       "<matplotlib.axes._subplots.AxesSubplot at 0x7f25aa4287d0>"
      ]
     },
     "execution_count": 52,
     "metadata": {},
     "output_type": "execute_result"
    },
    {
     "data": {
      "image/png": "[encoded data removed]",
      "text/plain": [
       "<Figure size 504x288 with 1 Axes>"
      ]
     },
     "metadata": {
      "needs_background": "light"
     },
     "output_type": "display_data"
    }
   ],
   "source": [
    "floor_category_data = good_data.pivot_table(index='floor_category', values='last_price', aggfunc='median')\n",
    "floor_category_data.plot(y='last_price', kind='bar', \\\n",
    "                         title='Гистограмма медианных значений стоимости квартир по расположениям этажей', \\\n",
    "                         grid=True, figsize=(7, 4))"
   ]
  },
  {
   "cell_type": "markdown",
   "metadata": {},
   "source": [
    "**Вывод:** первые этажи ожидаемо самые дешёвые."
   ]
  },
  {
   "cell_type": "markdown",
   "metadata": {},
   "source": [
    "Изучим зависимость стоимость квартиры от даты размещения: дня недели. Для этого создадим сводную таблицу `exposition_day_data`, сгруппировав стоимость квартир по дням публикации и рассчитав медианное значение по каждой категории. Отсортируем таблицу по возрастанию медианных значений стоимости и выведем на экран."
   ]
  },
  {
   "cell_type": "code",
   "execution_count": 53,
   "metadata": {},
   "outputs": [
    {
     "data": {
      "text/html": [
       "<div>\n",
       "<style scoped>\n",
       "    .dataframe tbody tr th:only-of-type {\n",
       "        vertical-align: middle;\n",
       "    }\n",
       "\n",
       "    .dataframe tbody tr th {\n",
       "        vertical-align: top;\n",
       "    }\n",
       "\n",
       "    .dataframe thead th {\n",
       "        text-align: right;\n",
       "    }\n",
       "</style>\n",
       "<table border=\"1\" class=\"dataframe\">\n",
       "  <thead>\n",
       "    <tr style=\"text-align: right;\">\n",
       "      <th></th>\n",
       "      <th>last_price</th>\n",
       "    </tr>\n",
       "    <tr>\n",
       "      <th>exposition_day</th>\n",
       "      <th></th>\n",
       "    </tr>\n",
       "  </thead>\n",
       "  <tbody>\n",
       "    <tr>\n",
       "      <td>Понедельник</td>\n",
       "      <td>4300000.0</td>\n",
       "    </tr>\n",
       "    <tr>\n",
       "      <td>Среда</td>\n",
       "      <td>4300000.0</td>\n",
       "    </tr>\n",
       "    <tr>\n",
       "      <td>Воскресенье</td>\n",
       "      <td>4250000.0</td>\n",
       "    </tr>\n",
       "    <tr>\n",
       "      <td>Вторник</td>\n",
       "      <td>4250000.0</td>\n",
       "    </tr>\n",
       "    <tr>\n",
       "      <td>Суббота</td>\n",
       "      <td>4250000.0</td>\n",
       "    </tr>\n",
       "    <tr>\n",
       "      <td>Пятница</td>\n",
       "      <td>4200000.0</td>\n",
       "    </tr>\n",
       "    <tr>\n",
       "      <td>Четверг</td>\n",
       "      <td>4200000.0</td>\n",
       "    </tr>\n",
       "  </tbody>\n",
       "</table>\n",
       "</div>"
      ],
      "text/plain": [
       "                last_price\n",
       "exposition_day            \n",
       "Понедельник      4300000.0\n",
       "Среда            4300000.0\n",
       "Воскресенье      4250000.0\n",
       "Вторник          4250000.0\n",
       "Суббота          4250000.0\n",
       "Пятница          4200000.0\n",
       "Четверг          4200000.0"
      ]
     },
     "metadata": {},
     "output_type": "display_data"
    }
   ],
   "source": [
    "exposition_day_data = good_data.pivot_table(index='exposition_day', values='last_price', aggfunc='median')\n",
    "exposition_day_data = exposition_day_data.sort_values(by='last_price', ascending=False)\n",
    "display(exposition_day_data)"
   ]
  },
  {
   "cell_type": "markdown",
   "metadata": {},
   "source": [
    "**Вывод:** зависимость стоимости квартиры от дня размещения неочевидна. Квартиры дороже всего в начале недели."
   ]
  },
  {
   "cell_type": "markdown",
   "metadata": {},
   "source": [
    "Изучим зависимость стоимость квартиры от даты размещения: месяца. Для этого создадим сводную таблицу `exposition_month_data`, сгруппировав стоимость квартир по дням публикации и рассчитав медианное значение по каждой категории. Отсортируем таблицу по возрастанию медианных значений стоимости и построим гистограмму `plot()`."
   ]
  },
  {
   "cell_type": "code",
   "execution_count": 54,
   "metadata": {},
   "outputs": [
    {
     "data": {
      "text/plain": [
       "<matplotlib.axes._subplots.AxesSubplot at 0x7f25aa9c7890>"
      ]
     },
     "execution_count": 54,
     "metadata": {},
     "output_type": "execute_result"
    },
    {
     "data": {
      "image/png": "[encoded data removed]",
      "text/plain": [
       "<Figure size 504x288 with 1 Axes>"
      ]
     },
     "metadata": {
      "needs_background": "light"
     },
     "output_type": "display_data"
    }
   ],
   "source": [
    "exposition_month_data = good_data.pivot_table(index='exposition_month', values='last_price', aggfunc='median')\n",
    "exposition_month_data = exposition_month_data.sort_values(by='last_price', ascending=False)\n",
    "# display(exposition_month_data)\n",
    "exposition_month_data.plot(y='last_price', kind='bar', \\\n",
    "                           title='Гистограмма медианных значений стоимости квартир по месяцам публикации', \\\n",
    "                           grid=True, figsize=(7, 4))"
   ]
  },
  {
   "cell_type": "markdown",
   "metadata": {},
   "source": [
    "**Вывод:** зависимость стоимости квартиры от месяца размещения неочевидна. Летом продают самые дешёвые квартиры, весной и осенью — самые дорогие."
   ]
  },
  {
   "cell_type": "markdown",
   "metadata": {},
   "source": [
    "Изучим зависимость стоимость квартиры от даты размещения: года. Для этого создадим сводную таблицу `exposition_year_data`, сгруппировав стоимость квартир по годам публикации и рассчитав медианное значение по каждой категории."
   ]
  },
  {
   "cell_type": "code",
   "execution_count": 55,
   "metadata": {
    "scrolled": true
   },
   "outputs": [
    {
     "data": {
      "text/plain": [
       "<matplotlib.axes._subplots.AxesSubplot at 0x7f25a8b02e50>"
      ]
     },
     "execution_count": 55,
     "metadata": {},
     "output_type": "execute_result"
    },
    {
     "data": {
      "image/png": "[encoded data removed]",
      "text/plain": [
       "<Figure size 504x288 with 1 Axes>"
      ]
     },
     "metadata": {
      "needs_background": "light"
     },
     "output_type": "display_data"
    }
   ],
   "source": [
    "exposition_year_data = good_data.pivot_table(index='exposition_year', values='last_price', aggfunc='median')\n",
    "exposition_year_data.plot(y='last_price', kind='bar', \\\n",
    "                          title='Гистограмма медианных значений стоимости квартир по годам публикации', \\\n",
    "                          grid=True, figsize=(7, 4))\n",
    "# display(exposition_year_data)"
   ]
  },
  {
   "cell_type": "markdown",
   "metadata": {},
   "source": [
    "**Вывод:** стоимость квартиры просела в период с 16-го по 18-й годы."
   ]
  },
  {
   "cell_type": "markdown",
   "metadata": {},
   "source": [
    "Выберем 10 населённых пунктов с наибольшим числом объявлений. Создадим сводную таблицу `top_locality_exposition`, сгруппировав по населённым пунктам и найдя количество объявлений и среднюю цену квадратного метра. Изменим заголовки: `number` — для количества объявлений, `avg_square_meter_price` — для средней цены квадратного метра. Выведем первые десять населённых пунктов по количеству объявлений."
   ]
  },
  {
   "cell_type": "code",
   "execution_count": 56,
   "metadata": {},
   "outputs": [
    {
     "data": {
      "text/html": [
       "<div>\n",
       "<style scoped>\n",
       "    .dataframe tbody tr th:only-of-type {\n",
       "        vertical-align: middle;\n",
       "    }\n",
       "\n",
       "    .dataframe tbody tr th {\n",
       "        vertical-align: top;\n",
       "    }\n",
       "\n",
       "    .dataframe thead th {\n",
       "        text-align: right;\n",
       "    }\n",
       "</style>\n",
       "<table border=\"1\" class=\"dataframe\">\n",
       "  <thead>\n",
       "    <tr style=\"text-align: right;\">\n",
       "      <th></th>\n",
       "      <th>number</th>\n",
       "      <th>avg_square_meter_price</th>\n",
       "    </tr>\n",
       "    <tr>\n",
       "      <th>locality_name</th>\n",
       "      <th></th>\n",
       "      <th></th>\n",
       "    </tr>\n",
       "  </thead>\n",
       "  <tbody>\n",
       "    <tr>\n",
       "      <td>санкт-петербург</td>\n",
       "      <td>12056</td>\n",
       "      <td>104687.615294</td>\n",
       "    </tr>\n",
       "    <tr>\n",
       "      <td>поселок мурино</td>\n",
       "      <td>549</td>\n",
       "      <td>85667.449003</td>\n",
       "    </tr>\n",
       "    <tr>\n",
       "      <td>поселок шушары</td>\n",
       "      <td>434</td>\n",
       "      <td>78676.193309</td>\n",
       "    </tr>\n",
       "    <tr>\n",
       "      <td>всеволожск</td>\n",
       "      <td>380</td>\n",
       "      <td>67109.995394</td>\n",
       "    </tr>\n",
       "    <tr>\n",
       "      <td>поселок парголово</td>\n",
       "      <td>325</td>\n",
       "      <td>90362.345200</td>\n",
       "    </tr>\n",
       "    <tr>\n",
       "      <td>колпино</td>\n",
       "      <td>315</td>\n",
       "      <td>75407.591217</td>\n",
       "    </tr>\n",
       "    <tr>\n",
       "      <td>пушкин</td>\n",
       "      <td>299</td>\n",
       "      <td>99659.197721</td>\n",
       "    </tr>\n",
       "    <tr>\n",
       "      <td>деревня кудрово</td>\n",
       "      <td>296</td>\n",
       "      <td>92489.244005</td>\n",
       "    </tr>\n",
       "    <tr>\n",
       "      <td>гатчина</td>\n",
       "      <td>283</td>\n",
       "      <td>68340.849581</td>\n",
       "    </tr>\n",
       "    <tr>\n",
       "      <td>выборг</td>\n",
       "      <td>205</td>\n",
       "      <td>57680.460859</td>\n",
       "    </tr>\n",
       "  </tbody>\n",
       "</table>\n",
       "</div>"
      ],
      "text/plain": [
       "                   number  avg_square_meter_price\n",
       "locality_name                                    \n",
       "санкт-петербург     12056           104687.615294\n",
       "поселок мурино        549            85667.449003\n",
       "поселок шушары        434            78676.193309\n",
       "всеволожск            380            67109.995394\n",
       "поселок парголово     325            90362.345200\n",
       "колпино               315            75407.591217\n",
       "пушкин                299            99659.197721\n",
       "деревня кудрово       296            92489.244005\n",
       "гатчина               283            68340.849581\n",
       "выборг                205            57680.460859"
      ]
     },
     "metadata": {},
     "output_type": "display_data"
    }
   ],
   "source": [
    "top_locality_exposition = good_data.pivot_table(index='locality_name', values='square_meter_price', aggfunc=['count', 'mean'])\n",
    "top_locality_exposition.columns = ['number', 'avg_square_meter_price']\n",
    "display(top_locality_exposition.sort_values(by='number', ascending=False).head(10))"
   ]
  },
  {
   "cell_type": "markdown",
   "metadata": {},
   "source": [
    "Выведем десять населённых пунктов с самой высокой стоимостью жилья."
   ]
  },
  {
   "cell_type": "code",
   "execution_count": 57,
   "metadata": {},
   "outputs": [
    {
     "data": {
      "text/html": [
       "<div>\n",
       "<style scoped>\n",
       "    .dataframe tbody tr th:only-of-type {\n",
       "        vertical-align: middle;\n",
       "    }\n",
       "\n",
       "    .dataframe tbody tr th {\n",
       "        vertical-align: top;\n",
       "    }\n",
       "\n",
       "    .dataframe thead th {\n",
       "        text-align: right;\n",
       "    }\n",
       "</style>\n",
       "<table border=\"1\" class=\"dataframe\">\n",
       "  <thead>\n",
       "    <tr style=\"text-align: right;\">\n",
       "      <th></th>\n",
       "      <th>number</th>\n",
       "      <th>avg_square_meter_price</th>\n",
       "    </tr>\n",
       "    <tr>\n",
       "      <th>locality_name</th>\n",
       "      <th></th>\n",
       "      <th></th>\n",
       "    </tr>\n",
       "  </thead>\n",
       "  <tbody>\n",
       "    <tr>\n",
       "      <td>поселок лисий нос</td>\n",
       "      <td>2</td>\n",
       "      <td>113728.348730</td>\n",
       "    </tr>\n",
       "    <tr>\n",
       "      <td>санкт-петербург</td>\n",
       "      <td>12056</td>\n",
       "      <td>104687.615294</td>\n",
       "    </tr>\n",
       "    <tr>\n",
       "      <td>сестрорецк</td>\n",
       "      <td>143</td>\n",
       "      <td>100878.712040</td>\n",
       "    </tr>\n",
       "    <tr>\n",
       "      <td>зеленогорск</td>\n",
       "      <td>20</td>\n",
       "      <td>100123.734519</td>\n",
       "    </tr>\n",
       "    <tr>\n",
       "      <td>кудрово</td>\n",
       "      <td>170</td>\n",
       "      <td>99899.555066</td>\n",
       "    </tr>\n",
       "    <tr>\n",
       "      <td>пушкин</td>\n",
       "      <td>299</td>\n",
       "      <td>99659.197721</td>\n",
       "    </tr>\n",
       "    <tr>\n",
       "      <td>деревня мистолово</td>\n",
       "      <td>11</td>\n",
       "      <td>98549.976709</td>\n",
       "    </tr>\n",
       "    <tr>\n",
       "      <td>поселок левашово</td>\n",
       "      <td>1</td>\n",
       "      <td>96997.690531</td>\n",
       "    </tr>\n",
       "    <tr>\n",
       "      <td>мурино</td>\n",
       "      <td>34</td>\n",
       "      <td>92722.708914</td>\n",
       "    </tr>\n",
       "    <tr>\n",
       "      <td>деревня кудрово</td>\n",
       "      <td>296</td>\n",
       "      <td>92489.244005</td>\n",
       "    </tr>\n",
       "  </tbody>\n",
       "</table>\n",
       "</div>"
      ],
      "text/plain": [
       "                   number  avg_square_meter_price\n",
       "locality_name                                    \n",
       "поселок лисий нос       2           113728.348730\n",
       "санкт-петербург     12056           104687.615294\n",
       "сестрорецк            143           100878.712040\n",
       "зеленогорск            20           100123.734519\n",
       "кудрово               170            99899.555066\n",
       "пушкин                299            99659.197721\n",
       "деревня мистолово      11            98549.976709\n",
       "поселок левашово        1            96997.690531\n",
       "мурино                 34            92722.708914\n",
       "деревня кудрово       296            92489.244005"
      ]
     },
     "metadata": {},
     "output_type": "display_data"
    }
   ],
   "source": [
    "display(top_locality_exposition.sort_values(by='avg_square_meter_price', ascending=False).head(10))"
   ]
  },
  {
   "cell_type": "markdown",
   "metadata": {},
   "source": [
    "И с самой низкой стоимостью жилья."
   ]
  },
  {
   "cell_type": "code",
   "execution_count": 58,
   "metadata": {
    "scrolled": true
   },
   "outputs": [
    {
     "data": {
      "text/html": [
       "<div>\n",
       "<style scoped>\n",
       "    .dataframe tbody tr th:only-of-type {\n",
       "        vertical-align: middle;\n",
       "    }\n",
       "\n",
       "    .dataframe tbody tr th {\n",
       "        vertical-align: top;\n",
       "    }\n",
       "\n",
       "    .dataframe thead th {\n",
       "        text-align: right;\n",
       "    }\n",
       "</style>\n",
       "<table border=\"1\" class=\"dataframe\">\n",
       "  <thead>\n",
       "    <tr style=\"text-align: right;\">\n",
       "      <th></th>\n",
       "      <th>number</th>\n",
       "      <th>avg_square_meter_price</th>\n",
       "    </tr>\n",
       "    <tr>\n",
       "      <th>locality_name</th>\n",
       "      <th></th>\n",
       "      <th></th>\n",
       "    </tr>\n",
       "  </thead>\n",
       "  <tbody>\n",
       "    <tr>\n",
       "      <td>деревня старополье</td>\n",
       "      <td>3</td>\n",
       "      <td>11206.221198</td>\n",
       "    </tr>\n",
       "    <tr>\n",
       "      <td>поселок станции свирь</td>\n",
       "      <td>2</td>\n",
       "      <td>11481.481481</td>\n",
       "    </tr>\n",
       "    <tr>\n",
       "      <td>деревня вахнова кара</td>\n",
       "      <td>1</td>\n",
       "      <td>11688.311688</td>\n",
       "    </tr>\n",
       "    <tr>\n",
       "      <td>деревня выскатка</td>\n",
       "      <td>2</td>\n",
       "      <td>12335.480902</td>\n",
       "    </tr>\n",
       "    <tr>\n",
       "      <td>поселок совхозный</td>\n",
       "      <td>2</td>\n",
       "      <td>12629.129129</td>\n",
       "    </tr>\n",
       "    <tr>\n",
       "      <td>деревня малая романовка</td>\n",
       "      <td>1</td>\n",
       "      <td>12724.550898</td>\n",
       "    </tr>\n",
       "    <tr>\n",
       "      <td>поселок тесово-4</td>\n",
       "      <td>1</td>\n",
       "      <td>12931.034483</td>\n",
       "    </tr>\n",
       "    <tr>\n",
       "      <td>деревня бор</td>\n",
       "      <td>1</td>\n",
       "      <td>13157.894737</td>\n",
       "    </tr>\n",
       "    <tr>\n",
       "      <td>деревня сижно</td>\n",
       "      <td>1</td>\n",
       "      <td>13709.677419</td>\n",
       "    </tr>\n",
       "    <tr>\n",
       "      <td>деревня ям-тесово</td>\n",
       "      <td>2</td>\n",
       "      <td>13711.553373</td>\n",
       "    </tr>\n",
       "  </tbody>\n",
       "</table>\n",
       "</div>"
      ],
      "text/plain": [
       "                         number  avg_square_meter_price\n",
       "locality_name                                          \n",
       "деревня старополье            3            11206.221198\n",
       "поселок станции свирь         2            11481.481481\n",
       "деревня вахнова кара          1            11688.311688\n",
       "деревня выскатка              2            12335.480902\n",
       "поселок совхозный             2            12629.129129\n",
       "деревня малая романовка       1            12724.550898\n",
       "поселок тесово-4              1            12931.034483\n",
       "деревня бор                   1            13157.894737\n",
       "деревня сижно                 1            13709.677419\n",
       "деревня ям-тесово             2            13711.553373"
      ]
     },
     "metadata": {},
     "output_type": "display_data"
    }
   ],
   "source": [
    "display(top_locality_exposition.sort_values(by='avg_square_meter_price').head(10))"
   ]
  },
  {
   "cell_type": "markdown",
   "metadata": {},
   "source": [
    "**Вывод:** больше всего объявлений и одни из самых дорогих квартир в Санкт-Петербурге. Самая низкая стоимость жилья отличается от самой высокой в десять раз."
   ]
  },
  {
   "cell_type": "markdown",
   "metadata": {},
   "source": [
    "Выделим квартиры в Санкт-Петербурге в таблицу `saint_petersburg_estate`."
   ]
  },
  {
   "cell_type": "code",
   "execution_count": 59,
   "metadata": {},
   "outputs": [],
   "source": [
    "saint_petersburg_estate = good_data.query('locality_name == \"санкт-петербург\"')"
   ]
  },
  {
   "cell_type": "markdown",
   "metadata": {},
   "source": [
    "Создадим столбец `cityCenters_nearest_km`. Скопируем `cityCenters_nearest`, преобразуем в расстояние до центра в километрах, поделив на тысячу, и округлим до целых значений."
   ]
  },
  {
   "cell_type": "code",
   "execution_count": 60,
   "metadata": {},
   "outputs": [
    {
     "name": "stderr",
     "output_type": "stream",
     "text": [
      "/opt/conda/lib/python3.7/site-packages/ipykernel_launcher.py:1: SettingWithCopyWarning: \n",
      "A value is trying to be set on a copy of a slice from a DataFrame.\n",
      "Try using .loc[row_indexer,col_indexer] = value instead\n",
      "\n",
      "See the caveats in the documentation: http://pandas.pydata.org/pandas-docs/stable/user_guide/indexing.html#returning-a-view-versus-a-copy\n",
      "  \"\"\"Entry point for launching an IPython kernel.\n",
      "/opt/conda/lib/python3.7/site-packages/pandas/core/indexing.py:494: SettingWithCopyWarning: \n",
      "A value is trying to be set on a copy of a slice from a DataFrame.\n",
      "Try using .loc[row_indexer,col_indexer] = value instead\n",
      "\n",
      "See the caveats in the documentation: http://pandas.pydata.org/pandas-docs/stable/user_guide/indexing.html#returning-a-view-versus-a-copy\n",
      "  self.obj[item] = s\n"
     ]
    }
   ],
   "source": [
    "saint_petersburg_estate['cityCenters_nearest_km'] = saint_petersburg_estate['cityCenters_nearest']\n",
    "saint_petersburg_estate.loc[:, 'cityCenters_nearest_km'] /= 1000\n",
    "saint_petersburg_estate.loc[:, 'cityCenters_nearest_km'] = saint_petersburg_estate['cityCenters_nearest_km'].round(0)\n",
    "# saint_petersburg_estate['cityCenters_nearest_km'].head(20)"
   ]
  },
  {
   "cell_type": "markdown",
   "metadata": {},
   "source": [
    "Заменим нулевые значения на единицу, чтобы избежать деления на ноль, и посчитаем среднюю цену для каждого километра."
   ]
  },
  {
   "cell_type": "code",
   "execution_count": 61,
   "metadata": {},
   "outputs": [
    {
     "name": "stderr",
     "output_type": "stream",
     "text": [
      "/opt/conda/lib/python3.7/site-packages/pandas/core/indexing.py:376: SettingWithCopyWarning: \n",
      "A value is trying to be set on a copy of a slice from a DataFrame.\n",
      "Try using .loc[row_indexer,col_indexer] = value instead\n",
      "\n",
      "See the caveats in the documentation: http://pandas.pydata.org/pandas-docs/stable/user_guide/indexing.html#returning-a-view-versus-a-copy\n",
      "  self.obj[key] = _infer_fill_value(value)\n"
     ]
    }
   ],
   "source": [
    "saint_petersburg_estate.loc[saint_petersburg_estate['cityCenters_nearest_km'] == 0, 'cityCenters_nearest_km'] = 1\n",
    "saint_petersburg_estate.loc[:, 'avg_kilometer_price'] = saint_petersburg_estate['last_price'] / saint_petersburg_estate['cityCenters_nearest_km']"
   ]
  },
  {
   "cell_type": "markdown",
   "metadata": {},
   "source": [
    "Построим график, показывающий как цена зависит от удалённости от центра."
   ]
  },
  {
   "cell_type": "code",
   "execution_count": 62,
   "metadata": {
    "scrolled": true
   },
   "outputs": [
    {
     "data": {
      "text/plain": [
       "<matplotlib.axes._subplots.AxesSubplot at 0x7f25a89dc250>"
      ]
     },
     "execution_count": 62,
     "metadata": {},
     "output_type": "execute_result"
    },
    {
     "data": {
      "image/png": "[encoded data removed]",
      "text/plain": [
       "<Figure size 576x288 with 1 Axes>"
      ]
     },
     "metadata": {
      "needs_background": "light"
     },
     "output_type": "display_data"
    }
   ],
   "source": [
    "saint_petersburg_estate.plot(x='cityCenters_nearest_km', y='avg_kilometer_price', \\\n",
    "                             title='График зависимости цены от расстояния до центра города (км)', style='o', \\\n",
    "                             grid=True, figsize=(8, 4))"
   ]
  },
  {
   "cell_type": "markdown",
   "metadata": {},
   "source": [
    "Построим другой график. Для этого cоздадим сводную таблицу `saint_petersburg_estate_center_price`, сгруппировав по расстоянию до центра в километрах и найдя медианные значения средней цены для каждого километра, и выведем её на экран. "
   ]
  },
  {
   "cell_type": "code",
   "execution_count": 63,
   "metadata": {
    "scrolled": true
   },
   "outputs": [
    {
     "data": {
      "text/plain": [
       "<matplotlib.axes._subplots.AxesSubplot at 0x7f25a8955d10>"
      ]
     },
     "execution_count": 63,
     "metadata": {},
     "output_type": "execute_result"
    },
    {
     "data": {
      "image/png": "[encoded data removed]",
      "text/plain": [
       "<Figure size 576x288 with 1 Axes>"
      ]
     },
     "metadata": {
      "needs_background": "light"
     },
     "output_type": "display_data"
    }
   ],
   "source": [
    "saint_petersburg_estate_center_price = saint_petersburg_estate.pivot_table(\n",
    "    index='cityCenters_nearest_km', values='avg_kilometer_price', aggfunc='median')\n",
    "saint_petersburg_estate_center_price.plot(title='График зависимости медианной цены от расстояния до центра города (км)', \\\n",
    "                                          grid=True, figsize=(8, 4))"
   ]
  },
  {
   "cell_type": "markdown",
   "metadata": {},
   "source": [
    "**Вывод:** Как определить центральную зону? Можно считать центром расстояние до попадания в 5% коридор аналогично времени переходного процесса в теории управления, где «переходный процесс считают закончившимся, когда переходная функция отличается не более, чем на 1–5 % от своего установившегося (стационарного) значения». На графике это расстояние до 10 километров. Если считать центром границу, где график сильно меняется, тогда это расстояние от 3 до 7 километров. Для выразительности примем центром область не более 5 километров.\n",
    "\n",
    "Выделим сегмент квартир в центре в таблицу `saint_petersburg_estate_center` и проанализируем её методом `info()`."
   ]
  },
  {
   "cell_type": "code",
   "execution_count": 64,
   "metadata": {
    "scrolled": false
   },
   "outputs": [
    {
     "name": "stdout",
     "output_type": "stream",
     "text": [
      "<class 'pandas.core.frame.DataFrame'>\n",
      "Int64Index: 813 entries, 24 to 23691\n",
      "Data columns (total 31 columns):\n",
      "total_images              813 non-null int64\n",
      "last_price                813 non-null float64\n",
      "total_area                813 non-null float64\n",
      "first_day_exposition      813 non-null datetime64[ns]\n",
      "rooms                     813 non-null int64\n",
      "ceiling_height            813 non-null float64\n",
      "floors_total              813 non-null int64\n",
      "living_area               813 non-null float64\n",
      "floor                     813 non-null int64\n",
      "is_apartment              103 non-null object\n",
      "studio                    813 non-null bool\n",
      "open_plan                 813 non-null bool\n",
      "kitchen_area              813 non-null float64\n",
      "balcony                   813 non-null int64\n",
      "locality_name             813 non-null object\n",
      "airports_nearest          812 non-null float64\n",
      "cityCenters_nearest       813 non-null float64\n",
      "parks_around3000          813 non-null float64\n",
      "parks_nearest             475 non-null float64\n",
      "ponds_around3000          813 non-null float64\n",
      "ponds_nearest             612 non-null float64\n",
      "days_exposition           748 non-null float64\n",
      "square_meter_price        813 non-null float64\n",
      "exposition_day            813 non-null object\n",
      "exposition_month          813 non-null object\n",
      "exposition_year           813 non-null int64\n",
      "floor_category            813 non-null object\n",
      "living_total_ratio        813 non-null float64\n",
      "kitchen_total_ratio       813 non-null float64\n",
      "cityCenters_nearest_km    813 non-null float64\n",
      "avg_kilometer_price       813 non-null float64\n",
      "dtypes: bool(2), datetime64[ns](1), float64(17), int64(6), object(5)\n",
      "memory usage: 192.1+ KB\n"
     ]
    }
   ],
   "source": [
    "saint_petersburg_estate_center = saint_petersburg_estate.query('cityCenters_nearest_km <= 5')\n",
    "saint_petersburg_estate_center.info()"
   ]
  },
  {
   "cell_type": "markdown",
   "metadata": {},
   "source": [
    "В центр попало меньше тысячи квартир. Изучим следующие параметры: площадь, цену, число комнат, высоту потолков."
   ]
  },
  {
   "cell_type": "code",
   "execution_count": 65,
   "metadata": {},
   "outputs": [
    {
     "data": {
      "text/plain": [
       "count    813.000000\n",
       "mean      63.740849\n",
       "std       20.921457\n",
       "min       12.000000\n",
       "25%       46.300000\n",
       "50%       62.000000\n",
       "75%       79.000000\n",
       "max      114.200000\n",
       "Name: total_area, dtype: float64"
      ]
     },
     "execution_count": 65,
     "metadata": {},
     "output_type": "execute_result"
    },
    {
     "data": {
      "image/png": "[encoded data removed]",
      "text/plain": [
       "<Figure size 432x288 with 1 Axes>"
      ]
     },
     "metadata": {
      "needs_background": "light"
     },
     "output_type": "display_data"
    }
   ],
   "source": [
    "saint_petersburg_estate_center.boxplot(column=['total_area'])\n",
    "saint_petersburg_estate_center['total_area'].describe()"
   ]
  },
  {
   "cell_type": "code",
   "execution_count": 66,
   "metadata": {
    "scrolled": false
   },
   "outputs": [
    {
     "data": {
      "text/plain": [
       "count    8.130000e+02\n",
       "mean     7.307225e+06\n",
       "std      2.123359e+06\n",
       "min      1.686000e+06\n",
       "25%      5.700000e+06\n",
       "50%      7.150000e+06\n",
       "75%      8.800000e+06\n",
       "max      1.186686e+07\n",
       "Name: last_price, dtype: float64"
      ]
     },
     "execution_count": 66,
     "metadata": {},
     "output_type": "execute_result"
    },
    {
     "data": {
      "image/png": "[encoded data removed]",
      "text/plain": [
       "<Figure size 432x288 with 1 Axes>"
      ]
     },
     "metadata": {
      "needs_background": "light"
     },
     "output_type": "display_data"
    }
   ],
   "source": [
    "saint_petersburg_estate_center.boxplot(column=['last_price'])\n",
    "saint_petersburg_estate_center['last_price'].describe()"
   ]
  },
  {
   "cell_type": "markdown",
   "metadata": {},
   "source": [
    "Создадим список исследуемых параметров: площадь, цена, число комнат, высота потолков."
   ]
  },
  {
   "cell_type": "code",
   "execution_count": 67,
   "metadata": {},
   "outputs": [],
   "source": [
    "researched_parameters = ['total_area', 'last_price', 'rooms', 'ceiling_height']"
   ]
  },
  {
   "cell_type": "markdown",
   "metadata": {},
   "source": [
    "Применим в цикле методы `boxplot()` и `describe()` к каждому исследуемому параметру."
   ]
  },
  {
   "cell_type": "code",
   "execution_count": 68,
   "metadata": {
    "scrolled": false
   },
   "outputs": [
    {
     "data": {
      "text/plain": [
       "'total_area'"
      ]
     },
     "metadata": {},
     "output_type": "display_data"
    },
    {
     "data": {
      "text/plain": [
       "count    813.000000\n",
       "mean      63.740849\n",
       "std       20.921457\n",
       "min       12.000000\n",
       "25%       46.300000\n",
       "50%       62.000000\n",
       "75%       79.000000\n",
       "max      114.200000\n",
       "Name: total_area, dtype: float64"
      ]
     },
     "metadata": {},
     "output_type": "display_data"
    },
    {
     "data": {
      "text/plain": [
       "'last_price'"
      ]
     },
     "metadata": {},
     "output_type": "display_data"
    },
    {
     "data": {
      "text/plain": [
       "count    8.130000e+02\n",
       "mean     7.307225e+06\n",
       "std      2.123359e+06\n",
       "min      1.686000e+06\n",
       "25%      5.700000e+06\n",
       "50%      7.150000e+06\n",
       "75%      8.800000e+06\n",
       "max      1.186686e+07\n",
       "Name: last_price, dtype: float64"
      ]
     },
     "metadata": {},
     "output_type": "display_data"
    },
    {
     "data": {
      "text/plain": [
       "'rooms'"
      ]
     },
     "metadata": {},
     "output_type": "display_data"
    },
    {
     "data": {
      "text/plain": [
       "count    813.000000\n",
       "mean       2.221402\n",
       "std        0.929900\n",
       "min        1.000000\n",
       "25%        2.000000\n",
       "50%        2.000000\n",
       "75%        3.000000\n",
       "max        5.000000\n",
       "Name: rooms, dtype: float64"
      ]
     },
     "metadata": {},
     "output_type": "display_data"
    },
    {
     "data": {
      "text/plain": [
       "'ceiling_height'"
      ]
     },
     "metadata": {},
     "output_type": "display_data"
    },
    {
     "data": {
      "text/plain": [
       "count    813.000000\n",
       "mean       2.671402\n",
       "std        0.065968\n",
       "min        2.460000\n",
       "25%        2.650000\n",
       "50%        2.650000\n",
       "75%        2.700000\n",
       "max        2.850000\n",
       "Name: ceiling_height, dtype: float64"
      ]
     },
     "metadata": {},
     "output_type": "display_data"
    },
    {
     "data": {
      "image/png": "[encoded data removed]",
      "text/plain": [
       "<Figure size 432x288 with 1 Axes>"
      ]
     },
     "metadata": {
      "needs_background": "light"
     },
     "output_type": "display_data"
    },
    {
     "data": {
      "image/png": "[encoded data removed]",
      "text/plain": [
       "<Figure size 432x288 with 1 Axes>"
      ]
     },
     "metadata": {
      "needs_background": "light"
     },
     "output_type": "display_data"
    },
    {
     "data": {
      "image/png": "[encoded data removed]",
      "text/plain": [
       "<Figure size 432x288 with 1 Axes>"
      ]
     },
     "metadata": {
      "needs_background": "light"
     },
     "output_type": "display_data"
    },
    {
     "data": {
      "image/png": "[encoded data removed]",
      "text/plain": [
       "<Figure size 432x288 with 1 Axes>"
      ]
     },
     "metadata": {
      "needs_background": "light"
     },
     "output_type": "display_data"
    }
   ],
   "source": [
    "for i in researched_parameters:\n",
    "    display(i, saint_petersburg_estate_center[i].describe())\n",
    "    plt.figure()\n",
    "    saint_petersburg_estate_center.boxplot(column=[i])"
   ]
  },
  {
   "cell_type": "markdown",
   "metadata": {},
   "source": [
    "**Вывод:** недвижимость в центре отличается большей однородностью и дороговизной (в полтора раза по сравнению с медианой по всему набору)."
   ]
  },
  {
   "cell_type": "code",
   "execution_count": 69,
   "metadata": {
    "scrolled": true
   },
   "outputs": [
    {
     "data": {
      "text/plain": [
       "'Зависимость цены от площади:'"
      ]
     },
     "metadata": {},
     "output_type": "display_data"
    },
    {
     "data": {
      "text/plain": [
       "0.6896345297727068"
      ]
     },
     "metadata": {},
     "output_type": "display_data"
    },
    {
     "data": {
      "text/plain": [
       "'Зависимость цены от числа комнат:'"
      ]
     },
     "metadata": {},
     "output_type": "display_data"
    },
    {
     "data": {
      "text/plain": [
       "0.46037236649558344"
      ]
     },
     "metadata": {},
     "output_type": "display_data"
    },
    {
     "data": {
      "text/plain": [
       "'Зависимость цены от удалённости от центра:'"
      ]
     },
     "metadata": {},
     "output_type": "display_data"
    },
    {
     "data": {
      "text/plain": [
       "-0.006178556750020051"
      ]
     },
     "metadata": {},
     "output_type": "display_data"
    },
    {
     "data": {
      "text/plain": [
       "'Зависимость цены от количества дней размещения объявления:'"
      ]
     },
     "metadata": {},
     "output_type": "display_data"
    },
    {
     "data": {
      "text/plain": [
       "0.10795722263574867"
      ]
     },
     "metadata": {},
     "output_type": "display_data"
    }
   ],
   "source": [
    "display(\n",
    "    'Зависимость цены от площади:', \\\n",
    "    saint_petersburg_estate_center['last_price'].corr(data['total_area']),\n",
    "    'Зависимость цены от числа комнат:', \\\n",
    "    saint_petersburg_estate_center['last_price'].corr(data['rooms']),\n",
    "    'Зависимость цены от удалённости от центра:', \\\n",
    "    saint_petersburg_estate_center['last_price'].corr(data['cityCenters_nearest']),\n",
    "    'Зависимость цены от количества дней размещения объявления:', \\\n",
    "    saint_petersburg_estate_center['last_price'].corr(data['days_exposition'])\n",
    ")"
   ]
  },
  {
   "cell_type": "markdown",
   "metadata": {},
   "source": [
    "**Вывод:** стоимость квартиры в центре всё также зависит от площади и мало зависит от числа комнат. Расстояние больше не влияет на цену. Продолжительность продажи не влияет на стоимость."
   ]
  },
  {
   "cell_type": "markdown",
   "metadata": {},
   "source": [
    "### Шаг 5. Общий вывод"
   ]
  },
  {
   "cell_type": "markdown",
   "metadata": {},
   "source": [
    "Рынок недвижимости неоднороден. Квартиры площадью больше 70 м² и стоимостью выше 7 миллионов отличаются большим разбросом.\n",
    "\n",
    "Чаще всего встречаются одно- и двухкомнатные квартиры. Квартиры, в которых больше четырёх комнат, встречаются редко.\n",
    "Большинство потолков в квартирах находятся в диапазоне от 2,5 до 3 метров.\n",
    "\n",
    "Среднее время продажи квартиры составляет 180 суток, медиана вполовину меньше — 95. Очень быстрыми можно считать продажи менее трёх месяцев, необычно долгими — свыше восьми.\n",
    "\n",
    "В датасете были квартиры с высотой потолков менее 2 метров, выше 8 и даже 100 метров. Это очевидные аномалии. Недвижимость с экстремальной площадью (> 400 м²), ценой (763 млн) или количеством комнат (19) скорее всего существует, но в выборку не попала.\n",
    "\n",
    "Стоимость квартиры зависит от площади и слабо зависит от числа комнат и удалённости от центра.\n",
    "\n",
    "Первые этажи ожидаемо самые дешёвые.\n",
    "\n",
    "Зависимость стоимости квартиры от дня и месяца размещения неочевидна. Квартиры дороже всего в начале недели. Летом продают самые дешёвые квартиры, весной и осенью — самые дорогие.\n",
    "Стоимость квартиры просел в период с 16-го по 18-й годы.\n",
    "\n",
    "Больше всего объявлений и одни из самых дорогих квартир в Санкт-Петербурге. Самая низкая стоимость жилья отличается от самой высокой в десять раз.\n",
    "\n",
    "Центр — область не более 5 километров.\n",
    "\n",
    "Недвижимость в центре отличается большей однородностью и дороговизной (в полтора раза по сравнению с медианой по всему набору).\n",
    "Стоимость квартиры в центре всё также зависит от площади и мало зависит от числа комнат. Расстояние больше не влияет на цену. Продолжительность продажи не влияет на стоимость."
   ]
  }
 ],
 "metadata": {
  "kernelspec": {
   "display_name": "Python 3",
   "language": "python",
   "name": "python3"
  },
  "language_info": {
   "codemirror_mode": {
    "name": "ipython",
    "version": 3
   },
   "file_extension": ".py",
   "mimetype": "text/x-python",
   "name": "python",
   "nbconvert_exporter": "python",
   "pygments_lexer": "ipython3",
   "version": "3.8.3"
  }
 },
 "nbformat": 4,
 "nbformat_minor": 2
}
