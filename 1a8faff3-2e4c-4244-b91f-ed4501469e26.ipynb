{
 "cells": [
  {
   "cell_type": "markdown",
   "metadata": {},
   "source": [
    "<div class=\"alert alert-success\">\n",
    "<h2> Комментарий ревьюера 2</h2>\n",
    "\n",
    "Привет еще раз. Спасибо, что доделал работу. Оформление комментариев по работе сохраняется. Только обозначим, что это вторая итерация. \n",
    "\n",
    "</div>"
   ]
  },
  {
   "cell_type": "markdown",
   "metadata": {},
   "source": [
    "<div class=\"alert alert-success\">\n",
    "<h2> Комментарий ревьюера </h2>\n",
    "\n",
    "Привет! Спасибо, что прислал задание:) Меня зовут Слепцов Артем и я буду проверять твой проект. Если ты дошел до данного анализа, то ты уже проделал большую работу над проектом в тренажере. Давай завершим исследование посредством инструментов Python. Будет здорово, если ты, надеюсь, не против, если я буду на ты,  будешь отвечать на комментарии и участвовать в диалоге. \n",
    "\n",
    "Мои комментарии обозначены пометкой **Комментарий ревьюера**. Далее в файле ты сможешь найти их в похожих ячейках (если фон комментария <font color=green>зелёный</font> - всё сделано правильно. Рекомендации укажу таким же цветом; <font color=orange>оранжевый</font> - некритичные замечания. Если таких замечаний меньше трех - проект может быть принят без их отработки; <font color=red>красный</font> - нужно переделать). Не удаляй эти комментарии и постарайся учесть их в ходе выполнения данного проекта. \n",
    "\n",
    "</div>"
   ]
  },
  {
   "cell_type": "markdown",
   "metadata": {},
   "source": [
    "# Аналитика средствами Python"
   ]
  },
  {
   "cell_type": "markdown",
   "metadata": {},
   "source": [
    "**Описание проекта:** исследуем результаты запросов количества рейсов с вылетом в сентябре 2018 года на каждой модели самолёта и среднего количества прибывающих рейсов в день для каждого города за август 2018 года:\n",
    "- импортируем файлы;\n",
    "- изучим данные в них;\n",
    "- проверим типы данных на корректность;\n",
    "- выберем топ-10 городов по количеству рейсов;\n",
    "- построим графики: модели самолетов и количество рейсов, города и количество рейсов, топ-10 городов и количество рейсов;\n",
    "- сделаем выводы по каждому из графиков, поясним результат."
   ]
  },
  {
   "cell_type": "markdown",
   "metadata": {},
   "source": [
    "<div class=\"alert alert-success\">\n",
    "<h2> Комментарий ревьюера</h2>\n",
    "\n",
    "Вступление в работу очень важно. Так ты поясняешь то, чему она посвящена. Хорошо бы также описать те данные, с которыми мы работаем. \n",
    "</div>"
   ]
  },
  {
   "cell_type": "code",
   "execution_count": 1,
   "metadata": {},
   "outputs": [],
   "source": [
    "import pandas as pd\n",
    "import numpy as np\n",
    "import matplotlib.pyplot as plt\n",
    "import math\n",
    "from IPython.display import display\n",
    "from scipy import stats as st\n",
    "import requests\n",
    "import re\n",
    "from bs4 import BeautifulSoup"
   ]
  },
  {
   "cell_type": "markdown",
   "metadata": {},
   "source": [
    "<div class=\"alert alert-success\">\n",
    "<h2> Комментарий ревьюера</h2>\n",
    "\n",
    "Правильно, что весь импорт ты проводишь в первой ячейке работы. Так твой коллега, запускающий работу, будет в курсе используемых в ней библиотек и сможет при необходимости быстро настроить окружение. \n",
    "\n",
    "</div>"
   ]
  },
  {
   "cell_type": "markdown",
   "metadata": {},
   "source": [
    "Загрузим в переменную *aircrafts_flights_amount* информацию о количестве рейсов *flights_amount* для каждой модели самолетов *model* в сентябре 2018 года и выведем на экран."
   ]
  },
  {
   "cell_type": "code",
   "execution_count": 2,
   "metadata": {},
   "outputs": [
    {
     "data": {
      "text/html": [
       "<div>\n",
       "<style scoped>\n",
       "    .dataframe tbody tr th:only-of-type {\n",
       "        vertical-align: middle;\n",
       "    }\n",
       "\n",
       "    .dataframe tbody tr th {\n",
       "        vertical-align: top;\n",
       "    }\n",
       "\n",
       "    .dataframe thead th {\n",
       "        text-align: right;\n",
       "    }\n",
       "</style>\n",
       "<table border=\"1\" class=\"dataframe\">\n",
       "  <thead>\n",
       "    <tr style=\"text-align: right;\">\n",
       "      <th></th>\n",
       "      <th>model</th>\n",
       "      <th>flights_amount</th>\n",
       "    </tr>\n",
       "  </thead>\n",
       "  <tbody>\n",
       "    <tr>\n",
       "      <td>0</td>\n",
       "      <td>Airbus A319-100</td>\n",
       "      <td>607</td>\n",
       "    </tr>\n",
       "    <tr>\n",
       "      <td>1</td>\n",
       "      <td>Airbus A321-200</td>\n",
       "      <td>960</td>\n",
       "    </tr>\n",
       "    <tr>\n",
       "      <td>2</td>\n",
       "      <td>Boeing 737-300</td>\n",
       "      <td>630</td>\n",
       "    </tr>\n",
       "    <tr>\n",
       "      <td>3</td>\n",
       "      <td>Boeing 767-300</td>\n",
       "      <td>600</td>\n",
       "    </tr>\n",
       "    <tr>\n",
       "      <td>4</td>\n",
       "      <td>Boeing 777-300</td>\n",
       "      <td>300</td>\n",
       "    </tr>\n",
       "    <tr>\n",
       "      <td>5</td>\n",
       "      <td>Bombardier CRJ-200</td>\n",
       "      <td>4446</td>\n",
       "    </tr>\n",
       "    <tr>\n",
       "      <td>6</td>\n",
       "      <td>Cessna 208 Caravan</td>\n",
       "      <td>4557</td>\n",
       "    </tr>\n",
       "    <tr>\n",
       "      <td>7</td>\n",
       "      <td>Sukhoi SuperJet-100</td>\n",
       "      <td>4185</td>\n",
       "    </tr>\n",
       "  </tbody>\n",
       "</table>\n",
       "</div>"
      ],
      "text/plain": [
       "                 model  flights_amount\n",
       "0      Airbus A319-100             607\n",
       "1      Airbus A321-200             960\n",
       "2       Boeing 737-300             630\n",
       "3       Boeing 767-300             600\n",
       "4       Boeing 777-300             300\n",
       "5   Bombardier CRJ-200            4446\n",
       "6   Cessna 208 Caravan            4557\n",
       "7  Sukhoi SuperJet-100            4185"
      ]
     },
     "execution_count": 2,
     "metadata": {},
     "output_type": "execute_result"
    }
   ],
   "source": [
    "aircrafts_flights_amount = pd.read_csv('/datasets/query_1.csv')\n",
    "aircrafts_flights_amount"
   ]
  },
  {
   "cell_type": "markdown",
   "metadata": {},
   "source": [
    "Изучим данные методом `info()`."
   ]
  },
  {
   "cell_type": "code",
   "execution_count": 3,
   "metadata": {
    "scrolled": true
   },
   "outputs": [
    {
     "name": "stdout",
     "output_type": "stream",
     "text": [
      "<class 'pandas.core.frame.DataFrame'>\n",
      "RangeIndex: 8 entries, 0 to 7\n",
      "Data columns (total 2 columns):\n",
      "model             8 non-null object\n",
      "flights_amount    8 non-null int64\n",
      "dtypes: int64(1), object(1)\n",
      "memory usage: 256.0+ bytes\n"
     ]
    }
   ],
   "source": [
    "aircrafts_flights_amount.info()"
   ]
  },
  {
   "cell_type": "markdown",
   "metadata": {},
   "source": [
    "Дататасет состоит из 2 столбцов и 8 строк. Названия столбцов не требуют изменений. Нулевые значения отсутствуют. Типы данных корректны."
   ]
  },
  {
   "cell_type": "markdown",
   "metadata": {},
   "source": [
    "Загрузим в переменную *city_average_flights* информацию о среднем количестве рейсов, прибывающих в город *city* за день в августе 2018 года и выведем на экран."
   ]
  },
  {
   "cell_type": "code",
   "execution_count": 4,
   "metadata": {},
   "outputs": [
    {
     "data": {
      "text/html": [
       "<div>\n",
       "<style scoped>\n",
       "    .dataframe tbody tr th:only-of-type {\n",
       "        vertical-align: middle;\n",
       "    }\n",
       "\n",
       "    .dataframe tbody tr th {\n",
       "        vertical-align: top;\n",
       "    }\n",
       "\n",
       "    .dataframe thead th {\n",
       "        text-align: right;\n",
       "    }\n",
       "</style>\n",
       "<table border=\"1\" class=\"dataframe\">\n",
       "  <thead>\n",
       "    <tr style=\"text-align: right;\">\n",
       "      <th></th>\n",
       "      <th>city</th>\n",
       "      <th>average_flights</th>\n",
       "    </tr>\n",
       "  </thead>\n",
       "  <tbody>\n",
       "    <tr>\n",
       "      <td>0</td>\n",
       "      <td>Абакан</td>\n",
       "      <td>3.870968</td>\n",
       "    </tr>\n",
       "    <tr>\n",
       "      <td>1</td>\n",
       "      <td>Анадырь</td>\n",
       "      <td>1.000000</td>\n",
       "    </tr>\n",
       "    <tr>\n",
       "      <td>2</td>\n",
       "      <td>Анапа</td>\n",
       "      <td>2.161290</td>\n",
       "    </tr>\n",
       "    <tr>\n",
       "      <td>3</td>\n",
       "      <td>Архангельск</td>\n",
       "      <td>5.354839</td>\n",
       "    </tr>\n",
       "    <tr>\n",
       "      <td>4</td>\n",
       "      <td>Астрахань</td>\n",
       "      <td>2.451613</td>\n",
       "    </tr>\n",
       "    <tr>\n",
       "      <td>...</td>\n",
       "      <td>...</td>\n",
       "      <td>...</td>\n",
       "    </tr>\n",
       "    <tr>\n",
       "      <td>96</td>\n",
       "      <td>Чита</td>\n",
       "      <td>1.580645</td>\n",
       "    </tr>\n",
       "    <tr>\n",
       "      <td>97</td>\n",
       "      <td>Элиста</td>\n",
       "      <td>4.870968</td>\n",
       "    </tr>\n",
       "    <tr>\n",
       "      <td>98</td>\n",
       "      <td>Южно-Сахалинск</td>\n",
       "      <td>4.290323</td>\n",
       "    </tr>\n",
       "    <tr>\n",
       "      <td>99</td>\n",
       "      <td>Якутск</td>\n",
       "      <td>2.741935</td>\n",
       "    </tr>\n",
       "    <tr>\n",
       "      <td>100</td>\n",
       "      <td>Ярославль</td>\n",
       "      <td>1.322581</td>\n",
       "    </tr>\n",
       "  </tbody>\n",
       "</table>\n",
       "<p>101 rows × 2 columns</p>\n",
       "</div>"
      ],
      "text/plain": [
       "               city  average_flights\n",
       "0            Абакан         3.870968\n",
       "1           Анадырь         1.000000\n",
       "2             Анапа         2.161290\n",
       "3       Архангельск         5.354839\n",
       "4         Астрахань         2.451613\n",
       "..              ...              ...\n",
       "96             Чита         1.580645\n",
       "97           Элиста         4.870968\n",
       "98   Южно-Сахалинск         4.290323\n",
       "99           Якутск         2.741935\n",
       "100       Ярославль         1.322581\n",
       "\n",
       "[101 rows x 2 columns]"
      ]
     },
     "execution_count": 4,
     "metadata": {},
     "output_type": "execute_result"
    }
   ],
   "source": [
    "city_average_flights = pd.read_csv('/datasets/query_3.csv')\n",
    "city_average_flights"
   ]
  },
  {
   "cell_type": "markdown",
   "metadata": {},
   "source": [
    "Изучим данные методом `info()`."
   ]
  },
  {
   "cell_type": "code",
   "execution_count": 5,
   "metadata": {
    "scrolled": false
   },
   "outputs": [
    {
     "name": "stdout",
     "output_type": "stream",
     "text": [
      "<class 'pandas.core.frame.DataFrame'>\n",
      "RangeIndex: 101 entries, 0 to 100\n",
      "Data columns (total 2 columns):\n",
      "city               101 non-null object\n",
      "average_flights    101 non-null float64\n",
      "dtypes: float64(1), object(1)\n",
      "memory usage: 1.7+ KB\n"
     ]
    }
   ],
   "source": [
    "city_average_flights.info()"
   ]
  },
  {
   "cell_type": "markdown",
   "metadata": {},
   "source": [
    "Дататасет состоит из 2 столбцов и 101 строки. Названия столбцов не требуют изменений. Нулевые значения отсутствуют. Типы данных корректны."
   ]
  },
  {
   "cell_type": "markdown",
   "metadata": {},
   "source": [
    "<div class=\"alert alert-success\">\n",
    "<h2> Комментарий ревьюера </h2>\n",
    "\n",
    "Первый взгляд на таблицы выполнен. В этот раз с ними все хорошо, предобработка не требуется. Раз уж с ними все так хорошо, то предлагаю их несколько оптимизировать. Видим, что в `average_fligts` довольно небольшие вещественные цисла. Можно поменять формат для этого поля с `float64` на, например `float16`. Данное действие позволит нам уменьшить объем занимаемой памяти в 4 раза для данного параметра. \n",
    "\n",
    "</div>"
   ]
  },
  {
   "cell_type": "markdown",
   "metadata": {},
   "source": [
    "<div class=\"alert alert-info\">\n",
    "<h2> Комментарий студента</h2>\n",
    "\n",
    "Изменим формат поля `average_flights` с `float64` на `float16`.\n",
    "\n",
    "</div>"
   ]
  },
  {
   "cell_type": "code",
   "execution_count": 6,
   "metadata": {},
   "outputs": [],
   "source": [
    "city_average_flights['average_flights'] = city_average_flights['average_flights'].astype(np.float16())"
   ]
  },
  {
   "cell_type": "markdown",
   "metadata": {},
   "source": [
    "<div class=\"alert alert-success\">\n",
    "<h2> Комментарий ревьюера 2</h2>\n",
    "\n",
    "На большем объеме данных данное действие поможет значительно сократить используемые ресурсы. \n",
    "\n",
    "</div>"
   ]
  },
  {
   "cell_type": "markdown",
   "metadata": {},
   "source": [
    "## Выберем топ-10 городов по количеству рейсов"
   ]
  },
  {
   "cell_type": "code",
   "execution_count": 7,
   "metadata": {},
   "outputs": [
    {
     "data": {
      "text/plain": [
       "43             Москва\n",
       "70    Санкт-Петербург\n",
       "54        Новосибирск\n",
       "33         Красноярск\n",
       "20       Екатеринбург\n",
       "67     Ростов-на-Дону\n",
       "63              Пермь\n",
       "10             Брянск\n",
       "74               Сочи\n",
       "84          Ульяновск\n",
       "Name: city, dtype: object"
      ]
     },
     "execution_count": 7,
     "metadata": {},
     "output_type": "execute_result"
    }
   ],
   "source": [
    "city_average_flights.sort_values(by='average_flights', ascending=False)['city'].head(10)"
   ]
  },
  {
   "cell_type": "markdown",
   "metadata": {},
   "source": [
    "**Вывод:** больше всего рейсов ожидаемо в Москве и Петербурге. Также в топе: Новосибирск, Красноярск, Ульяновск (Сибирь); Екатеринбург, Пермь (Урал); Ростов-на-Дону, Сочи (Юг), Брянск (Западная часть России)."
   ]
  },
  {
   "cell_type": "markdown",
   "metadata": {},
   "source": [
    "<div class=\"alert alert-warning\">\n",
    "<h2> Комментарий ревьюера </h2>\n",
    "\n",
    "Очень не хватает графика в данном месте проекта. Он есть ниже, но по логике должен быть в данном месте работы.   \n",
    "\n",
    "</div>"
   ]
  },
  {
   "cell_type": "markdown",
   "metadata": {},
   "source": [
    "<div class=\"alert alert-info\">\n",
    "<h2> Комментарий студента</h2>\n",
    "\n",
    "Продублируем график топ-10 городов и количество рейсов.\n",
    "\n",
    "</div>"
   ]
  },
  {
   "cell_type": "code",
   "execution_count": 8,
   "metadata": {
    "scrolled": false
   },
   "outputs": [
    {
     "data": {
      "image/png": "[encoded data removed]",
      "text/plain": [
       "<Figure size 864x504 with 1 Axes>"
      ]
     },
     "metadata": {
      "needs_background": "light"
     },
     "output_type": "display_data"
    }
   ],
   "source": [
    "plt.figure(figsize=(12, 7))\n",
    "plt.bar(city_average_flights.sort_values(by='average_flights', ascending=False)['city'].head(10), \\\n",
    "        city_average_flights.sort_values(by='average_flights', ascending=False)['average_flights'].head(10))\n",
    "ax = plt.gca()\n",
    "ax.set_xlabel('Топ-10 городов')\n",
    "ax.set_ylabel('Количество рейсов')\n",
    "ax.set_xticklabels(city_average_flights.sort_values(by='average_flights', ascending=False)['city'].head(10), \\\n",
    "                   rotation = 90, verticalalignment = 'top')\n",
    "plt.title('Топ-10 городов и количество рейсов');"
   ]
  },
  {
   "cell_type": "markdown",
   "metadata": {},
   "source": [
    "<div class=\"alert alert-success\">\n",
    "<h2> Комментарий ревьюера 2</h2>\n",
    "\n",
    "Тут он в самый раз) \n",
    "\n",
    "</div>"
   ]
  },
  {
   "cell_type": "markdown",
   "metadata": {},
   "source": [
    "## Построим график модели самолетов и количества рейсов"
   ]
  },
  {
   "cell_type": "code",
   "execution_count": 9,
   "metadata": {},
   "outputs": [
    {
     "data": {
      "image/png": "[encoded data removed]",
      "text/plain": [
       "<Figure size 864x504 with 1 Axes>"
      ]
     },
     "metadata": {
      "needs_background": "light"
     },
     "output_type": "display_data"
    }
   ],
   "source": [
    "plt.figure(figsize=(12, 7))\n",
    "plt.bar(\n",
    "    aircrafts_flights_amount.sort_values(by='flights_amount', ascending=False)['model'], \\\n",
    "    aircrafts_flights_amount.sort_values(by='flights_amount', ascending=False)['flights_amount']\n",
    ")\n",
    "ax = plt.gca()\n",
    "ax.set_xlabel('Модели самолётов')\n",
    "ax.set_ylabel('Количество рейсов')\n",
    "ax.set_xticklabels(aircrafts_flights_amount.sort_values(by='flights_amount', ascending=False)['model'], \\\n",
    "                   rotation = 90, verticalalignment = 'top')\n",
    "plt.title('Модели самолётов и количество рейсов');"
   ]
  },
  {
   "cell_type": "markdown",
   "metadata": {},
   "source": [
    "Сгруппируем модели *Airbus* и *Boeing*. Для этого создадим столбец *grouped*, куда в цикле запишем значение *Airbus* для самолётов Airbus, *Boeing* — для самолётов Boeing и содержимое столбца *model* для остальных. Выведем таблицу на экран."
   ]
  },
  {
   "cell_type": "markdown",
   "metadata": {},
   "source": [
    "<div class=\"alert alert-warning\">\n",
    "<h2> Комментарий ревьюера </h2>\n",
    "\n",
    "Попробуй детальнее разобраться в том, почему мы получаем такие результаты. Старайся вводить аналитику в выводы. \n",
    "\n",
    "</div>"
   ]
  },
  {
   "cell_type": "markdown",
   "metadata": {},
   "source": [
    "<div class=\"alert alert-info\">\n",
    "<h2> Комментарий студента</h2>\n",
    "\n",
    "**Вывод:** в России региональные самолёты компаний Bombardier, Cessna, Sukhoi популярнее самолётов крупнейших авиакомпаний Boeing и Airbus.\n",
    "\n",
    "</div>"
   ]
  },
  {
   "cell_type": "markdown",
   "metadata": {},
   "source": [
    "<div class=\"alert alert-success\">\n",
    "<h2> Комментарий ревьюера 2</h2>\n",
    "\n",
    "Ок, за счет чего?\n",
    "\n",
    "</div>"
   ]
  },
  {
   "cell_type": "code",
   "execution_count": 10,
   "metadata": {
    "scrolled": true
   },
   "outputs": [],
   "source": [
    "for i in range(aircrafts_flights_amount.shape[0]):\n",
    "    if \"Airbus\" in aircrafts_flights_amount.loc[i, 'model']:\n",
    "        aircrafts_flights_amount.loc[i, 'grouped'] = \"Airbus\"\n",
    "    elif \"Boeing\" in aircrafts_flights_amount.loc[i, 'model']:\n",
    "        aircrafts_flights_amount.loc[i, 'grouped'] = \"Boeing\"\n",
    "    else:\n",
    "        aircrafts_flights_amount.loc[i, 'grouped'] = aircrafts_flights_amount.loc[i, 'model']"
   ]
  },
  {
   "cell_type": "code",
   "execution_count": 11,
   "metadata": {
    "scrolled": true
   },
   "outputs": [
    {
     "data": {
      "text/html": [
       "<div>\n",
       "<style scoped>\n",
       "    .dataframe tbody tr th:only-of-type {\n",
       "        vertical-align: middle;\n",
       "    }\n",
       "\n",
       "    .dataframe tbody tr th {\n",
       "        vertical-align: top;\n",
       "    }\n",
       "\n",
       "    .dataframe thead th {\n",
       "        text-align: right;\n",
       "    }\n",
       "</style>\n",
       "<table border=\"1\" class=\"dataframe\">\n",
       "  <thead>\n",
       "    <tr style=\"text-align: right;\">\n",
       "      <th></th>\n",
       "      <th>model</th>\n",
       "      <th>flights_amount</th>\n",
       "      <th>grouped</th>\n",
       "    </tr>\n",
       "  </thead>\n",
       "  <tbody>\n",
       "    <tr>\n",
       "      <td>0</td>\n",
       "      <td>Airbus A319-100</td>\n",
       "      <td>607</td>\n",
       "      <td>Airbus</td>\n",
       "    </tr>\n",
       "    <tr>\n",
       "      <td>1</td>\n",
       "      <td>Airbus A321-200</td>\n",
       "      <td>960</td>\n",
       "      <td>Airbus</td>\n",
       "    </tr>\n",
       "    <tr>\n",
       "      <td>2</td>\n",
       "      <td>Boeing 737-300</td>\n",
       "      <td>630</td>\n",
       "      <td>Boeing</td>\n",
       "    </tr>\n",
       "    <tr>\n",
       "      <td>3</td>\n",
       "      <td>Boeing 767-300</td>\n",
       "      <td>600</td>\n",
       "      <td>Boeing</td>\n",
       "    </tr>\n",
       "    <tr>\n",
       "      <td>4</td>\n",
       "      <td>Boeing 777-300</td>\n",
       "      <td>300</td>\n",
       "      <td>Boeing</td>\n",
       "    </tr>\n",
       "    <tr>\n",
       "      <td>5</td>\n",
       "      <td>Bombardier CRJ-200</td>\n",
       "      <td>4446</td>\n",
       "      <td>Bombardier CRJ-200</td>\n",
       "    </tr>\n",
       "    <tr>\n",
       "      <td>6</td>\n",
       "      <td>Cessna 208 Caravan</td>\n",
       "      <td>4557</td>\n",
       "      <td>Cessna 208 Caravan</td>\n",
       "    </tr>\n",
       "    <tr>\n",
       "      <td>7</td>\n",
       "      <td>Sukhoi SuperJet-100</td>\n",
       "      <td>4185</td>\n",
       "      <td>Sukhoi SuperJet-100</td>\n",
       "    </tr>\n",
       "  </tbody>\n",
       "</table>\n",
       "</div>"
      ],
      "text/plain": [
       "                 model  flights_amount              grouped\n",
       "0      Airbus A319-100             607               Airbus\n",
       "1      Airbus A321-200             960               Airbus\n",
       "2       Boeing 737-300             630               Boeing\n",
       "3       Boeing 767-300             600               Boeing\n",
       "4       Boeing 777-300             300               Boeing\n",
       "5   Bombardier CRJ-200            4446   Bombardier CRJ-200\n",
       "6   Cessna 208 Caravan            4557   Cessna 208 Caravan\n",
       "7  Sukhoi SuperJet-100            4185  Sukhoi SuperJet-100"
      ]
     },
     "execution_count": 11,
     "metadata": {},
     "output_type": "execute_result"
    }
   ],
   "source": [
    "aircrafts_flights_amount"
   ]
  },
  {
   "cell_type": "markdown",
   "metadata": {},
   "source": [
    "Построим график."
   ]
  },
  {
   "cell_type": "code",
   "execution_count": 12,
   "metadata": {},
   "outputs": [
    {
     "data": {
      "image/png": "[encoded data removed]",
      "text/plain": [
       "<Figure size 864x504 with 1 Axes>"
      ]
     },
     "metadata": {
      "needs_background": "light"
     },
     "output_type": "display_data"
    }
   ],
   "source": [
    "plt.figure(figsize=(12, 7))\n",
    "plt.bar(\n",
    "    aircrafts_flights_amount.groupby('grouped').sum().sort_values(by='flights_amount', ascending=False).index, \\\n",
    "    aircrafts_flights_amount.groupby('grouped').sum().sort_values(by='flights_amount', ascending=False)['flights_amount']\n",
    ")\n",
    "ax = plt.gca()\n",
    "ax.set_xlabel('Модели самолётов')\n",
    "ax.set_ylabel('Количество рейсов')\n",
    "ax.set_xticklabels(\n",
    "    aircrafts_flights_amount.groupby('grouped').sum().sort_values(by='flights_amount', ascending=False).index, \\\n",
    "    rotation = 90, verticalalignment = 'top'\n",
    ")\n",
    "plt.title('Модели самолётов и количество рейсов');"
   ]
  },
  {
   "cell_type": "markdown",
   "metadata": {},
   "source": [
    "**Вывод:** самыми популярными моделями внутренних авиаперевозок являются Bombardier CRJ-200, Cessna 208 Caravan и Sukhoi SuperJet-100. Суммарное присутствие Airbus и Boeing значительно меньше."
   ]
  },
  {
   "cell_type": "markdown",
   "metadata": {},
   "source": [
    "<div class=\"alert alert-success\">\n",
    "<h2> Комментарий ревьюера </h2>\n",
    "\n",
    "А зачем нам такая частичная группировка по производителю? Что ты хотел с ее помощью получить?\n",
    "\n",
    "</div>"
   ]
  },
  {
   "cell_type": "markdown",
   "metadata": {},
   "source": [
    "<div class=\"alert alert-info\">\n",
    "<h2> Комментарий студента</h2>\n",
    "\n",
    "Подтвердить вывод о том, что Boeing и Airbus менее популярны в России.\n",
    "\n",
    "</div>"
   ]
  },
  {
   "cell_type": "markdown",
   "metadata": {},
   "source": [
    "<div class=\"alert alert-success\">\n",
    "<h2> Комментарий ревьюера 2</h2>\n",
    "\n",
    "В принципе, мы это и так видим выше. Радует то, что ты так спокойно оперируешь категоризацией и построением графиков. Это важные навыки. \n",
    "\n",
    "</div>"
   ]
  },
  {
   "cell_type": "markdown",
   "metadata": {},
   "source": [
    "## Построим график городов и количества рейсов"
   ]
  },
  {
   "cell_type": "markdown",
   "metadata": {},
   "source": [
    "Сохраним количество рейсов в переменную *city_average_flights_amount*."
   ]
  },
  {
   "cell_type": "code",
   "execution_count": 13,
   "metadata": {},
   "outputs": [],
   "source": [
    "city_average_flights_amount = city_average_flights.sort_values(by='average_flights', ascending=False)['average_flights']"
   ]
  },
  {
   "cell_type": "markdown",
   "metadata": {},
   "source": [
    "Упорядочим индексы."
   ]
  },
  {
   "cell_type": "code",
   "execution_count": 14,
   "metadata": {
    "scrolled": true
   },
   "outputs": [],
   "source": [
    "city_average_flights_amount.index = range(city_average_flights.shape[0])"
   ]
  },
  {
   "cell_type": "markdown",
   "metadata": {},
   "source": [
    "И построим график."
   ]
  },
  {
   "cell_type": "code",
   "execution_count": 15,
   "metadata": {
    "scrolled": false
   },
   "outputs": [
    {
     "data": {
      "image/png": "[encoded data removed]",
      "text/plain": [
       "<Figure size 864x504 with 1 Axes>"
      ]
     },
     "metadata": {
      "needs_background": "light"
     },
     "output_type": "display_data"
    }
   ],
   "source": [
    "plt.figure(figsize=(12, 7))\n",
    "city_average_flights_amount.plot()\n",
    "plt.grid(True)\n",
    "ax = plt.gca()\n",
    "ax.set_xlabel('Города, отсортированные по убыванию количества рейсов')\n",
    "ax.set_ylabel('Количество рейсов')\n",
    "plt.xticks(np.arange(0,101,3))\n",
    "plt.title('Города и количество рейсов');"
   ]
  },
  {
   "cell_type": "markdown",
   "metadata": {},
   "source": [
    "**Вывод:** число рейсов по городам распределено неравномерно. Количество перелётов в первых четырёх городах значительно выше, чем в остальных."
   ]
  },
  {
   "cell_type": "markdown",
   "metadata": {},
   "source": [
    "<div class=\"alert alert-danger\">\n",
    "<h2> Комментарий ревьюера </h2>\n",
    "\n",
    "График называется \"города и число рейсов\". Городов не видно, есть только их номер. Попробуй добавить названия городов. Также лучше изменить тип графиков. Все же мы работаем с категориальными данными, поэтому лучше использовать диаграмму. \n",
    "\n",
    "</div>"
   ]
  },
  {
   "cell_type": "markdown",
   "metadata": {},
   "source": [
    "<div class=\"alert alert-info\">\n",
    "<h2> Комментарий студента</h2>\n",
    "\n",
    "Добавил график, однако надписи нечитаемы, а график малоинформативен. Требуется категоризация городов, например, по численности населения.\n",
    "\n",
    "</div>"
   ]
  },
  {
   "cell_type": "code",
   "execution_count": 16,
   "metadata": {
    "scrolled": false
   },
   "outputs": [
    {
     "data": {
      "image/png": "[encoded data removed]",
      "text/plain": [
       "<Figure size 504x1440 with 1 Axes>"
      ]
     },
     "metadata": {
      "needs_background": "light"
     },
     "output_type": "display_data"
    }
   ],
   "source": [
    "plt.figure(figsize=(7, 20))\n",
    "plt.barh(city_average_flights.sort_values(by='average_flights')['city'], \\\n",
    "         city_average_flights.sort_values(by='average_flights')['average_flights'])\n",
    "ax = plt.gca()\n",
    "plt.grid(True)\n",
    "ax.set_xlabel('Количество рейсов')\n",
    "ax.set_ylabel('Города, отсортированные по убыванию количества рейсов')\n",
    "plt.yticks(fontsize=8)\n",
    "plt.title('Города и количество рейсов');"
   ]
  },
  {
   "cell_type": "markdown",
   "metadata": {},
   "source": [
    "<div class=\"alert alert-success\">\n",
    "<h2> Комментарий ревьюера 2</h2>\n",
    "\n",
    "Это именно тот график, что и требовался. Ты сделал верный вывод из него, следует сократить число рассматриваемых городов. \n",
    "\n",
    "</div>"
   ]
  },
  {
   "cell_type": "markdown",
   "metadata": {},
   "source": [
    "Добавим численность населения городов для для поиска взаимосвязи между ним и числом рейсов. Напишем парсер для сбора данных с Википедии, страница *Список городов России с населением более 100 тысяч жителей*. Найдём таблицу *Города России с населением свыше 100 тысяч жителей* и сохраним в таблицу *table*."
   ]
  },
  {
   "cell_type": "code",
   "execution_count": 17,
   "metadata": {},
   "outputs": [],
   "source": [
    "URL = 'https://ru.wikipedia.org/wiki/Список_городов_России_с_населением_более_100_тысяч_жителей'\n",
    "req = requests.get(URL)\n",
    "\n",
    "soup = BeautifulSoup(req.text, 'lxml')\n",
    "\n",
    "table = soup.find('table', attrs = {'class':'wikitable sortable'})"
   ]
  },
  {
   "cell_type": "markdown",
   "metadata": {},
   "source": [
    "Вытащим данные из таблицы."
   ]
  },
  {
   "cell_type": "code",
   "execution_count": 18,
   "metadata": {},
   "outputs": [],
   "source": [
    "content=[] # Список, в котором будут храниться данные из таблицы\n",
    "for row in table.find_all('tr'): \n",
    "# Каждая строка обрамляется тегом tr, необходимо пробежаться в цикле по всем строкам\n",
    "    if not row.find_all('th'): \n",
    "# Эта проверка необходима, чтобы пропустить первую строку таблицы с заголовками\n",
    "            content.append([element.text for element in row.find_all('td')])"
   ]
  },
  {
   "cell_type": "markdown",
   "metadata": {},
   "source": [
    "Создадим датафрейм *cities_population*, содержащий данные о численности населения городов по годам, и выведем на экран"
   ]
  },
  {
   "cell_type": "code",
   "execution_count": 19,
   "metadata": {},
   "outputs": [
    {
     "data": {
      "text/html": [
       "<div>\n",
       "<style scoped>\n",
       "    .dataframe tbody tr th:only-of-type {\n",
       "        vertical-align: middle;\n",
       "    }\n",
       "\n",
       "    .dataframe tbody tr th {\n",
       "        vertical-align: top;\n",
       "    }\n",
       "\n",
       "    .dataframe thead th {\n",
       "        text-align: right;\n",
       "    }\n",
       "</style>\n",
       "<table border=\"1\" class=\"dataframe\">\n",
       "  <thead>\n",
       "    <tr style=\"text-align: right;\">\n",
       "      <th></th>\n",
       "      <th>0</th>\n",
       "      <th>1</th>\n",
       "      <th>2</th>\n",
       "      <th>3</th>\n",
       "      <th>4</th>\n",
       "      <th>5</th>\n",
       "      <th>6</th>\n",
       "      <th>7</th>\n",
       "      <th>8</th>\n",
       "      <th>9</th>\n",
       "      <th>...</th>\n",
       "      <th>12</th>\n",
       "      <th>13</th>\n",
       "      <th>14</th>\n",
       "      <th>15</th>\n",
       "      <th>16</th>\n",
       "      <th>17</th>\n",
       "      <th>18</th>\n",
       "      <th>19</th>\n",
       "      <th>20</th>\n",
       "      <th>21</th>\n",
       "    </tr>\n",
       "  </thead>\n",
       "  <tbody>\n",
       "    <tr>\n",
       "      <td>0</td>\n",
       "      <td>1\\n</td>\n",
       "      <td>2</td>\n",
       "      <td>Москва[17]</td>\n",
       "      <td>1039</td>\n",
       "      <td>2080</td>\n",
       "      <td>4609</td>\n",
       "      <td>6133</td>\n",
       "      <td>7194</td>\n",
       "      <td>8057</td>\n",
       "      <td>8878</td>\n",
       "      <td>...</td>\n",
       "      <td>11541</td>\n",
       "      <td>11613</td>\n",
       "      <td>11980</td>\n",
       "      <td>12108</td>\n",
       "      <td>12198</td>\n",
       "      <td>12330</td>\n",
       "      <td>12381</td>\n",
       "      <td>12506</td>\n",
       "      <td>12615</td>\n",
       "      <td>12678\\n</td>\n",
       "    </tr>\n",
       "    <tr>\n",
       "      <td>1</td>\n",
       "      <td>2\\n</td>\n",
       "      <td>1</td>\n",
       "      <td>Санкт-Петербург</td>\n",
       "      <td>1265</td>\n",
       "      <td>1737</td>\n",
       "      <td>3431</td>\n",
       "      <td>3390</td>\n",
       "      <td>4033</td>\n",
       "      <td>4569</td>\n",
       "      <td>4989</td>\n",
       "      <td>...</td>\n",
       "      <td>4899</td>\n",
       "      <td>4953</td>\n",
       "      <td>5028</td>\n",
       "      <td>5132</td>\n",
       "      <td>5192</td>\n",
       "      <td>5226</td>\n",
       "      <td>5282</td>\n",
       "      <td>5352</td>\n",
       "      <td>5384</td>\n",
       "      <td>5398\\n</td>\n",
       "    </tr>\n",
       "    <tr>\n",
       "      <td>2</td>\n",
       "      <td>3\\n</td>\n",
       "      <td></td>\n",
       "      <td>Новосибирск</td>\n",
       "      <td>8</td>\n",
       "      <td>120</td>\n",
       "      <td>404</td>\n",
       "      <td>885</td>\n",
       "      <td>1161</td>\n",
       "      <td>1309</td>\n",
       "      <td>1420</td>\n",
       "      <td>...</td>\n",
       "      <td>1475</td>\n",
       "      <td>1499</td>\n",
       "      <td>1524</td>\n",
       "      <td>1548</td>\n",
       "      <td>1567</td>\n",
       "      <td>1584</td>\n",
       "      <td>1603</td>\n",
       "      <td>1613</td>\n",
       "      <td>1618</td>\n",
       "      <td>1626\\n</td>\n",
       "    </tr>\n",
       "    <tr>\n",
       "      <td>3</td>\n",
       "      <td>4\\n</td>\n",
       "      <td>35</td>\n",
       "      <td>Екатеринбург</td>\n",
       "      <td>43</td>\n",
       "      <td>140</td>\n",
       "      <td>423</td>\n",
       "      <td>779</td>\n",
       "      <td>1025</td>\n",
       "      <td>1210</td>\n",
       "      <td>1296</td>\n",
       "      <td>...</td>\n",
       "      <td>1353</td>\n",
       "      <td>1378</td>\n",
       "      <td>1396</td>\n",
       "      <td>1412</td>\n",
       "      <td>1428</td>\n",
       "      <td>1444</td>\n",
       "      <td>1456</td>\n",
       "      <td>1469</td>\n",
       "      <td>1483</td>\n",
       "      <td>1494\\n</td>\n",
       "    </tr>\n",
       "    <tr>\n",
       "      <td>4</td>\n",
       "      <td>5\\n</td>\n",
       "      <td>4</td>\n",
       "      <td>Казань</td>\n",
       "      <td>130</td>\n",
       "      <td>179</td>\n",
       "      <td>406</td>\n",
       "      <td>667</td>\n",
       "      <td>869</td>\n",
       "      <td>989</td>\n",
       "      <td>1085</td>\n",
       "      <td>...</td>\n",
       "      <td>1145</td>\n",
       "      <td>1161</td>\n",
       "      <td>1176</td>\n",
       "      <td>1191</td>\n",
       "      <td>1206</td>\n",
       "      <td>1217</td>\n",
       "      <td>1232</td>\n",
       "      <td>1244</td>\n",
       "      <td>1252</td>\n",
       "      <td>1257\\n</td>\n",
       "    </tr>\n",
       "    <tr>\n",
       "      <td>...</td>\n",
       "      <td>...</td>\n",
       "      <td>...</td>\n",
       "      <td>...</td>\n",
       "      <td>...</td>\n",
       "      <td>...</td>\n",
       "      <td>...</td>\n",
       "      <td>...</td>\n",
       "      <td>...</td>\n",
       "      <td>...</td>\n",
       "      <td>...</td>\n",
       "      <td>...</td>\n",
       "      <td>...</td>\n",
       "      <td>...</td>\n",
       "      <td>...</td>\n",
       "      <td>...</td>\n",
       "      <td>...</td>\n",
       "      <td>...</td>\n",
       "      <td>...</td>\n",
       "      <td>...</td>\n",
       "      <td>...</td>\n",
       "      <td>...</td>\n",
       "    </tr>\n",
       "    <tr>\n",
       "      <td>168</td>\n",
       "      <td>169\\n</td>\n",
       "      <td></td>\n",
       "      <td>Ханты-Мансийск</td>\n",
       "      <td>—</td>\n",
       "      <td>—</td>\n",
       "      <td>7</td>\n",
       "      <td>21</td>\n",
       "      <td>25</td>\n",
       "      <td>28</td>\n",
       "      <td>34</td>\n",
       "      <td>...</td>\n",
       "      <td>81</td>\n",
       "      <td>85</td>\n",
       "      <td>91</td>\n",
       "      <td>93</td>\n",
       "      <td>95</td>\n",
       "      <td>97</td>\n",
       "      <td>99</td>\n",
       "      <td>98</td>\n",
       "      <td>99</td>\n",
       "      <td>101\\n</td>\n",
       "    </tr>\n",
       "    <tr>\n",
       "      <td>169</td>\n",
       "      <td>170\\n</td>\n",
       "      <td></td>\n",
       "      <td>Новокуйбышевск</td>\n",
       "      <td>—</td>\n",
       "      <td>—</td>\n",
       "      <td>—</td>\n",
       "      <td>63</td>\n",
       "      <td>104</td>\n",
       "      <td>111</td>\n",
       "      <td>113</td>\n",
       "      <td>...</td>\n",
       "      <td>108</td>\n",
       "      <td>108</td>\n",
       "      <td>107</td>\n",
       "      <td>106</td>\n",
       "      <td>105</td>\n",
       "      <td>104</td>\n",
       "      <td>103</td>\n",
       "      <td>102</td>\n",
       "      <td>101</td>\n",
       "      <td>100\\n</td>\n",
       "    </tr>\n",
       "    <tr>\n",
       "      <td>170</td>\n",
       "      <td>171\\n</td>\n",
       "      <td></td>\n",
       "      <td>Железногорск</td>\n",
       "      <td>—</td>\n",
       "      <td>—</td>\n",
       "      <td>—</td>\n",
       "      <td>—</td>\n",
       "      <td>31</td>\n",
       "      <td>65</td>\n",
       "      <td>85</td>\n",
       "      <td>...</td>\n",
       "      <td>95</td>\n",
       "      <td>96</td>\n",
       "      <td>97</td>\n",
       "      <td>98</td>\n",
       "      <td>99</td>\n",
       "      <td>100</td>\n",
       "      <td>101</td>\n",
       "      <td>101</td>\n",
       "      <td>100</td>\n",
       "      <td>100\\n</td>\n",
       "    </tr>\n",
       "    <tr>\n",
       "      <td>171</td>\n",
       "      <td>172\\n</td>\n",
       "      <td>61</td>\n",
       "      <td>Сергиев Посад</td>\n",
       "      <td>25</td>\n",
       "      <td>21</td>\n",
       "      <td>45</td>\n",
       "      <td>74</td>\n",
       "      <td>92</td>\n",
       "      <td>108</td>\n",
       "      <td>115</td>\n",
       "      <td>...</td>\n",
       "      <td>111</td>\n",
       "      <td>110</td>\n",
       "      <td>108</td>\n",
       "      <td>107</td>\n",
       "      <td>106</td>\n",
       "      <td>105</td>\n",
       "      <td>105</td>\n",
       "      <td>103</td>\n",
       "      <td>102</td>\n",
       "      <td>100\\n</td>\n",
       "    </tr>\n",
       "    <tr>\n",
       "      <td>172</td>\n",
       "      <td>173\\n</td>\n",
       "      <td></td>\n",
       "      <td>Зеленодольск</td>\n",
       "      <td>—</td>\n",
       "      <td>—</td>\n",
       "      <td>30</td>\n",
       "      <td>60</td>\n",
       "      <td>77</td>\n",
       "      <td>85</td>\n",
       "      <td>94</td>\n",
       "      <td>...</td>\n",
       "      <td>98</td>\n",
       "      <td>98</td>\n",
       "      <td>98</td>\n",
       "      <td>98</td>\n",
       "      <td>98</td>\n",
       "      <td>99</td>\n",
       "      <td>99</td>\n",
       "      <td>99</td>\n",
       "      <td>100</td>\n",
       "      <td>100\\n</td>\n",
       "    </tr>\n",
       "  </tbody>\n",
       "</table>\n",
       "<p>173 rows × 22 columns</p>\n",
       "</div>"
      ],
      "text/plain": [
       "        0   1                2     3     4     5     6     7     8     9   \\\n",
       "0      1\\n   2       Москва[17]  1039  2080  4609  6133  7194  8057  8878   \n",
       "1      2\\n   1  Санкт-Петербург  1265  1737  3431  3390  4033  4569  4989   \n",
       "2      3\\n          Новосибирск     8   120   404   885  1161  1309  1420   \n",
       "3      4\\n  35     Екатеринбург    43   140   423   779  1025  1210  1296   \n",
       "4      5\\n   4           Казань   130   179   406   667   869   989  1085   \n",
       "..     ...  ..              ...   ...   ...   ...   ...   ...   ...   ...   \n",
       "168  169\\n       Ханты-Мансийск     —     —     7    21    25    28    34   \n",
       "169  170\\n       Новокуйбышевск     —     —     —    63   104   111   113   \n",
       "170  171\\n         Железногорск     —     —     —     —    31    65    85   \n",
       "171  172\\n  61    Сергиев Посад    25    21    45    74    92   108   115   \n",
       "172  173\\n         Зеленодольск     —     —    30    60    77    85    94   \n",
       "\n",
       "     ...     12     13     14     15     16     17     18     19     20  \\\n",
       "0    ...  11541  11613  11980  12108  12198  12330  12381  12506  12615   \n",
       "1    ...   4899   4953   5028   5132   5192   5226   5282   5352   5384   \n",
       "2    ...   1475   1499   1524   1548   1567   1584   1603   1613   1618   \n",
       "3    ...   1353   1378   1396   1412   1428   1444   1456   1469   1483   \n",
       "4    ...   1145   1161   1176   1191   1206   1217   1232   1244   1252   \n",
       "..   ...    ...    ...    ...    ...    ...    ...    ...    ...    ...   \n",
       "168  ...     81     85     91     93     95     97     99     98     99   \n",
       "169  ...    108    108    107    106    105    104    103    102    101   \n",
       "170  ...     95     96     97     98     99    100    101    101    100   \n",
       "171  ...    111    110    108    107    106    105    105    103    102   \n",
       "172  ...     98     98     98     98     98     99     99     99    100   \n",
       "\n",
       "          21  \n",
       "0    12678\\n  \n",
       "1     5398\\n  \n",
       "2     1626\\n  \n",
       "3     1494\\n  \n",
       "4     1257\\n  \n",
       "..       ...  \n",
       "168    101\\n  \n",
       "169    100\\n  \n",
       "170    100\\n  \n",
       "171    100\\n  \n",
       "172    100\\n  \n",
       "\n",
       "[173 rows x 22 columns]"
      ]
     },
     "execution_count": 19,
     "metadata": {},
     "output_type": "execute_result"
    }
   ],
   "source": [
    "cities_population = pd.DataFrame(content) \n",
    "cities_population"
   ]
  },
  {
   "cell_type": "markdown",
   "metadata": {},
   "source": [
    "<div class=\"alert alert-success\">\n",
    "<h2> Комментарий ревьюера </h2>\n",
    "\n",
    "А это уже круто. Молодец, что привел это, хотя заказчик и не просил об этом)\n",
    "\n",
    "</div>"
   ]
  },
  {
   "cell_type": "markdown",
   "metadata": {},
   "source": [
    "В цикле сравним названия городов из результатов запроса *city_average_flights* и сформированного датафрейма *cities_population*. При обнаружении совпадения записываем результат за 2020 год в столбец *population* таблицы *city_average_flights*."
   ]
  },
  {
   "cell_type": "code",
   "execution_count": 20,
   "metadata": {},
   "outputs": [],
   "source": [
    "for i in range(city_average_flights.shape[0]):\n",
    "    for j in range(cities_population.shape[0]):\n",
    "        if city_average_flights.loc[i, 'city'] in cities_population.loc[j, 2]:\n",
    "            city_average_flights.loc[i, 'population'] = cities_population.loc[j, 21]"
   ]
  },
  {
   "cell_type": "markdown",
   "metadata": {},
   "source": [
    "Удалим спецсимволы *\\n* методом `replace()`."
   ]
  },
  {
   "cell_type": "code",
   "execution_count": 21,
   "metadata": {},
   "outputs": [],
   "source": [
    "city_average_flights['population'] = city_average_flights['population'].str.replace('\\n','')"
   ]
  },
  {
   "cell_type": "markdown",
   "metadata": {},
   "source": [
    "Значения *NaN* указывают на то, что в городах проживает менее 100 тыс. жителей. Заменим пустые значения на 50."
   ]
  },
  {
   "cell_type": "code",
   "execution_count": 22,
   "metadata": {},
   "outputs": [],
   "source": [
    "city_average_flights['population'] = city_average_flights['population'].fillna(50)"
   ]
  },
  {
   "cell_type": "markdown",
   "metadata": {},
   "source": [
    "<div class=\"alert alert-success\">\n",
    "<h2> Комментарий ревьюера </h2>\n",
    "\n",
    "Следует ли заполнять пропуски? Что это нам даст?\n",
    "\n",
    "</div>"
   ]
  },
  {
   "cell_type": "markdown",
   "metadata": {},
   "source": [
    "<div class=\"alert alert-info\">\n",
    "<h2> Комментарий студента</h2>\n",
    "\n",
    "Это необходимо для определения группы *малые города*.\n",
    "\n",
    "</div>"
   ]
  },
  {
   "cell_type": "markdown",
   "metadata": {},
   "source": [
    "<div class=\"alert alert-success\">\n",
    "<h2> Комментарий ревьюера 2</h2>\n",
    "\n",
    "Ок. Тогда стоит выставить значение не 50, а <100. \n",
    "\n",
    "</div>"
   ]
  },
  {
   "cell_type": "markdown",
   "metadata": {},
   "source": [
    "Изменим тип данных столбца *population* на вещественный методом `astype()`."
   ]
  },
  {
   "cell_type": "code",
   "execution_count": 23,
   "metadata": {},
   "outputs": [],
   "source": [
    "city_average_flights['population'] = city_average_flights['population'].astype(float)"
   ]
  },
  {
   "cell_type": "markdown",
   "metadata": {},
   "source": [
    "Разобьём города на категории в зависимости от численности населения при помощи функции `cut()` и запишем результат в столбец *category*."
   ]
  },
  {
   "cell_type": "code",
   "execution_count": 24,
   "metadata": {},
   "outputs": [],
   "source": [
    "city_average_flights['category'] = pd.cut(city_average_flights['population'], [0, 100, 250, 500, 1000, 5000, 15000], \\\n",
    "       labels=['малые города', 'от 100 тыс. до 250 тыс.', 'от 250 тыс. до 500 тыс.', 'от 500 тыс. до 1 млн.', \\\n",
    "               'миллионники', 'Москва и Санкт-Петербург'])"
   ]
  },
  {
   "cell_type": "markdown",
   "metadata": {},
   "source": [
    "Сгруппируем таблицу *city_average_flights* по категориям и выведем результат на экран."
   ]
  },
  {
   "cell_type": "code",
   "execution_count": 25,
   "metadata": {},
   "outputs": [
    {
     "data": {
      "text/html": [
       "<div>\n",
       "<style scoped>\n",
       "    .dataframe tbody tr th:only-of-type {\n",
       "        vertical-align: middle;\n",
       "    }\n",
       "\n",
       "    .dataframe tbody tr th {\n",
       "        vertical-align: top;\n",
       "    }\n",
       "\n",
       "    .dataframe thead th {\n",
       "        text-align: right;\n",
       "    }\n",
       "</style>\n",
       "<table border=\"1\" class=\"dataframe\">\n",
       "  <thead>\n",
       "    <tr style=\"text-align: right;\">\n",
       "      <th></th>\n",
       "      <th>average_flights</th>\n",
       "      <th>population</th>\n",
       "    </tr>\n",
       "    <tr>\n",
       "      <th>category</th>\n",
       "      <th></th>\n",
       "      <th></th>\n",
       "    </tr>\n",
       "  </thead>\n",
       "  <tbody>\n",
       "    <tr>\n",
       "      <td>малые города</td>\n",
       "      <td>64.3125</td>\n",
       "      <td>1200.0</td>\n",
       "    </tr>\n",
       "    <tr>\n",
       "      <td>от 100 тыс. до 250 тыс.</td>\n",
       "      <td>55.3125</td>\n",
       "      <td>3283.0</td>\n",
       "    </tr>\n",
       "    <tr>\n",
       "      <td>от 250 тыс. до 500 тыс.</td>\n",
       "      <td>94.5625</td>\n",
       "      <td>9096.0</td>\n",
       "    </tr>\n",
       "    <tr>\n",
       "      <td>от 500 тыс. до 1 млн.</td>\n",
       "      <td>79.2500</td>\n",
       "      <td>11876.0</td>\n",
       "    </tr>\n",
       "    <tr>\n",
       "      <td>миллионники</td>\n",
       "      <td>100.5625</td>\n",
       "      <td>15621.0</td>\n",
       "    </tr>\n",
       "    <tr>\n",
       "      <td>Москва и Санкт-Петербург</td>\n",
       "      <td>160.8750</td>\n",
       "      <td>18076.0</td>\n",
       "    </tr>\n",
       "  </tbody>\n",
       "</table>\n",
       "</div>"
      ],
      "text/plain": [
       "                          average_flights  population\n",
       "category                                             \n",
       "малые города                      64.3125      1200.0\n",
       "от 100 тыс. до 250 тыс.           55.3125      3283.0\n",
       "от 250 тыс. до 500 тыс.           94.5625      9096.0\n",
       "от 500 тыс. до 1 млн.             79.2500     11876.0\n",
       "миллионники                      100.5625     15621.0\n",
       "Москва и Санкт-Петербург         160.8750     18076.0"
      ]
     },
     "execution_count": 25,
     "metadata": {},
     "output_type": "execute_result"
    }
   ],
   "source": [
    "city_average_flights.groupby('category').sum()"
   ]
  },
  {
   "cell_type": "markdown",
   "metadata": {},
   "source": [
    "И построим график."
   ]
  },
  {
   "cell_type": "code",
   "execution_count": 26,
   "metadata": {},
   "outputs": [
    {
     "data": {
      "image/png": "[encoded data removed]",
      "text/plain": [
       "<Figure size 864x504 with 1 Axes>"
      ]
     },
     "metadata": {
      "needs_background": "light"
     },
     "output_type": "display_data"
    }
   ],
   "source": [
    "plt.figure(figsize=(12, 7))\n",
    "plt.bar(\n",
    "    city_average_flights.groupby('category').sum().index, \\\n",
    "    city_average_flights.groupby('category').sum()['average_flights']\n",
    ")\n",
    "ax = plt.gca()\n",
    "ax.set_xlabel('Категории городов')\n",
    "ax.set_ylabel('Количество рейсов')\n",
    "ax.set_xticklabels(city_average_flights.groupby('category').sum().index, rotation = 90, verticalalignment = 'top')\n",
    "plt.title('Количество рейсов по категориям городов');"
   ]
  },
  {
   "cell_type": "markdown",
   "metadata": {},
   "source": [
    "**Вывод:** количество рейсов не всегда зависит величины города. Количество рейсов в малые города выше, чем в города с населением от 100 тыс. до 250 тыс., а количество рейсов в города с населением от 250 тыс. до 500 тыс. выше, чем от 500 тыс. до 1 млн., и сравнимо с миллионниками."
   ]
  },
  {
   "cell_type": "markdown",
   "metadata": {},
   "source": [
    "<div class=\"alert alert-success\">\n",
    "<h2> Комментарий ревьюера </h2>\n",
    "\n",
    "Здорово, что ты посмотрел на данные в таком разрезе. Это правда здорово. Старайся обосновывать получаемый результат. \n",
    "\n",
    "</div>"
   ]
  },
  {
   "cell_type": "markdown",
   "metadata": {},
   "source": [
    "## Построим графики топ-10 городов и количество рейсов"
   ]
  },
  {
   "cell_type": "code",
   "execution_count": 27,
   "metadata": {
    "scrolled": false
   },
   "outputs": [
    {
     "data": {
      "image/png": "[encoded data removed]",
      "text/plain": [
       "<Figure size 864x504 with 1 Axes>"
      ]
     },
     "metadata": {
      "needs_background": "light"
     },
     "output_type": "display_data"
    }
   ],
   "source": [
    "plt.figure(figsize=(12, 7))\n",
    "plt.bar(city_average_flights.sort_values(by='average_flights', ascending=False)['city'].head(10), \\\n",
    "        city_average_flights.sort_values(by='average_flights', ascending=False)['average_flights'].head(10))\n",
    "ax = plt.gca()\n",
    "ax.set_xlabel('Топ-10 городов')\n",
    "ax.set_ylabel('Количество рейсов')\n",
    "ax.set_xticklabels(city_average_flights.sort_values(by='average_flights', ascending=False)['city'].head(10), \\\n",
    "                   rotation = 90, verticalalignment = 'top')\n",
    "plt.title('Топ-10 городов и количество рейсов');"
   ]
  },
  {
   "cell_type": "markdown",
   "metadata": {},
   "source": [
    "Для тех же данных построим круговую диаграмму."
   ]
  },
  {
   "cell_type": "markdown",
   "metadata": {},
   "source": [
    "<div class=\"alert alert-success\">\n",
    "<h2> Комментарий ревьюера </h2>\n",
    "\n",
    "Опять же более детально подумай над тем, почему мы получаем такой результат. Почему, например, Новосибирск занимает третью строчку?\n",
    "\n",
    "</div>"
   ]
  },
  {
   "cell_type": "markdown",
   "metadata": {},
   "source": [
    "<div class=\"alert alert-info\">\n",
    "<h2> Комментарий студента</h2>\n",
    "\n",
    "Потому что Новосибирск — крупнейший транспортно-логистический кластер Сибири.\n",
    "\n",
    "</div>"
   ]
  },
  {
   "cell_type": "markdown",
   "metadata": {},
   "source": [
    "<div class=\"alert alert-success\">\n",
    "<h2> Комментарий ревьюера 2</h2>\n",
    "\n",
    "Соглашусь, это удобный транспортный узел достаточно большой территории РФ.  \n",
    "\n",
    "</div>"
   ]
  },
  {
   "cell_type": "code",
   "execution_count": 28,
   "metadata": {},
   "outputs": [
    {
     "data": {
      "image/png": "[encoded data removed]",
      "text/plain": [
       "<Figure size 864x864 with 1 Axes>"
      ]
     },
     "metadata": {},
     "output_type": "display_data"
    }
   ],
   "source": [
    "plt.figure(figsize=(12, 12))\n",
    "plt.pie(city_average_flights.sort_values(by='average_flights', ascending=False)['average_flights'].head(10))\n",
    "plt.legend(labels = city_average_flights.sort_values(by='average_flights', ascending=False)['city'].head(10))\n",
    "plt.title('Топ-10 городов и количество рейсов');"
   ]
  },
  {
   "cell_type": "markdown",
   "metadata": {},
   "source": [
    "**Вывод**: больше половины воздушного трафика России идёт через Москву."
   ]
  },
  {
   "cell_type": "markdown",
   "metadata": {},
   "source": [
    "<div class=\"alert alert-warning\">\n",
    "<h2> Комментарий ревьюера</h2>\n",
    " \n",
    "Не советую использовать пироговые диаграммы (pie-charts). Такая диаграмма затрудняет понимание, особенно если сегментов будет больше 4х. Также, на этом типе диаграмм сложно визуально увидеть разницу между сегментами. Рекомендую использовать обычные столбчатые диаграммы вместо пироговых диаграмм. \n",
    "\n",
    "</div>"
   ]
  },
  {
   "cell_type": "markdown",
   "metadata": {},
   "source": [
    "<div class=\"alert alert-info\">\n",
    "<h2> Комментарий студента</h2>\n",
    "\n",
    "1. В прошлых проектах не доводилось строить круговые диаграммы.\n",
    "2. Данная диаграмма демонстрирует централизацию воздушного трафика России. Я и раньше слышал, что на долю Москвы и Санкт-Петербурга приходится 70-80% авиатрафика.\n",
    "\n",
    "</div>"
   ]
  },
  {
   "cell_type": "markdown",
   "metadata": {},
   "source": [
    "<div class=\"alert alert-danger\">\n",
    "<h2> Комментарий ревьюера </h2>\n",
    "\n",
    "Проект небольшой, однако выводы по проведенному анализу все же стоит сделать. Обязательно сформулируй финальный вывод о проделанной работе. \n",
    "\n",
    "</div>"
   ]
  },
  {
   "cell_type": "markdown",
   "metadata": {},
   "source": [
    "# Общий вывод"
   ]
  },
  {
   "cell_type": "markdown",
   "metadata": {},
   "source": [
    "Больше всего рейсов ожидаемо в Москве и Петербурге. На третьем месте Новосибирск — крупнейший транспортно-логистический кластер Сибири.\n",
    "\n",
    "Самыми популярными моделями внутренних авиаперевозок являются региональные самолёты Bombardier CRJ-200, Cessna 208 Caravan и Sukhoi SuperJet-100. Суммарное присутствие самолётов крупнейших авиакомпаний Airbus и Boeing значительно меньше.\n",
    "\n",
    "Количество рейсов не всегда зависит величины города. Количество рейсов в малые города выше, чем в города с населением от 100 тыс. до 250 тыс., а количество рейсов в города с населением от 250 тыс. до 500 тыс. выше, чем от 500 тыс. до 1 млн., и сравнимо с миллионниками.\n",
    "\n",
    "Воздушный трафик России очень централизован. На долю Москвы и Санкт-Петербурга приходится 70-80% авиатрафика."
   ]
  },
  {
   "cell_type": "markdown",
   "metadata": {},
   "source": [
    "<div class=\"alert alert-success\">\n",
    "<h2> Комментарий ревьюера 2</h2>\n",
    "\n",
    "Выводы описаны грамотно. Приведены ответы на главные вопросы проекта. В выводах можно приводить полученные ранее значения, верно. Старайся и в выводах вводить аналитические суждения. За счет чего, например, трафик так централизирован?\n",
    "\n",
    "</div>"
   ]
  },
  {
   "cell_type": "markdown",
   "metadata": {},
   "source": [
    "<div class=\"alert alert-success\">\n",
    "<h2> Комментарий ревьюера </h2>\n",
    "\n",
    "Повторюсь, основная работа тобой уже проделана в тренажере. Молодец, что ты его прошел. Работы в плане кода тут у нас было немного, поэтому давай поработаем над формулировкой выводов, а также оформлением проекта.  Радует, что ты стараешься рассмотреть данные под разными углами. Это важный навык. \n",
    "    \n",
    "Как исправишь помарки, присылай работу снова :)\n",
    "</div>"
   ]
  },
  {
   "cell_type": "markdown",
   "metadata": {},
   "source": [
    "<div class=\"alert alert-success\">\n",
    "<h2> Комментарий ревьюера 2</h2>\n",
    "\n",
    "Все помарки исправлены, работа выполнена хорошо. Работа по данному спринту проделана большая. Однако дальше тебя ждет один из самых сложных проектов. Пожалуйста, проходи тренажер внимательно. Успехов в дальнейших проектах :)\n",
    "\n",
    "</div>"
   ]
  }
 ],
 "metadata": {
  "kernelspec": {
   "display_name": "Python 3",
   "language": "python",
   "name": "python3"
  },
  "language_info": {
   "codemirror_mode": {
    "name": "ipython",
    "version": 3
   },
   "file_extension": ".py",
   "mimetype": "text/x-python",
   "name": "python",
   "nbconvert_exporter": "python",
   "pygments_lexer": "ipython3",
   "version": "3.7.6"
  }
 },
 "nbformat": 4,
 "nbformat_minor": 2
}
